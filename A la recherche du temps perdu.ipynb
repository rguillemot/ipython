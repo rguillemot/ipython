{
 "metadata": {
  "name": ""
 },
 "nbformat": 3,
 "nbformat_minor": 0,
 "worksheets": [
  {
   "cells": [
    {
     "cell_type": "code",
     "collapsed": false,
     "input": [
      "import urllib2\n",
      "from bs4 import BeautifulSoup"
     ],
     "language": "python",
     "metadata": {},
     "outputs": [],
     "prompt_number": 3
    },
    {
     "cell_type": "code",
     "collapsed": false,
     "input": [
      "html = urllib2.urlopen('http://alarecherchedutempsperdu.org/')\n",
      "soup = BeautifulSoup(html)\n",
      "field_items = soup.find(\"div\",{\"class\":\"field-items\"})\n",
      "links = field_items.find_all(\"a\")\n",
      "chapitres = [l['href'] for l in links]"
     ],
     "language": "python",
     "metadata": {},
     "outputs": [],
     "prompt_number": 16
    },
    {
     "cell_type": "code",
     "collapsed": false,
     "input": [
      "def get_chapitre(link):\n",
      "    html = urllib2.urlopen(link)\n",
      "    soup = BeautifulSoup(html)\n",
      "    field_items = soup.find(\"div\",{\"class\":\"field-items\"})\n",
      "    paragraphes = field_items.find_all(\"p\")\n",
      "    return [p.text for p in paragraphes]"
     ],
     "language": "python",
     "metadata": {},
     "outputs": [],
     "prompt_number": 30
    },
    {
     "cell_type": "code",
     "collapsed": false,
     "input": [
      "%%time\n",
      "lrdtp = [get_chapitre(c) for c in chapitres]"
     ],
     "language": "python",
     "metadata": {},
     "outputs": [
      {
       "output_type": "stream",
       "stream": "stdout",
       "text": [
        "CPU times: user 10.9 s, sys: 884 ms, total: 11.8 s\n",
        "Wall time: 3min 2s\n"
       ]
      }
     ],
     "prompt_number": 34
    },
    {
     "cell_type": "code",
     "collapsed": false,
     "input": [
      "import pickle"
     ],
     "language": "python",
     "metadata": {},
     "outputs": [],
     "prompt_number": 7
    },
    {
     "cell_type": "code",
     "collapsed": false,
     "input": [
      "output = open('lrdtp.pkl', 'wb')\n",
      "pickle.dump(lrdtp,output)\n",
      "output.close()"
     ],
     "language": "python",
     "metadata": {},
     "outputs": [],
     "prompt_number": 37
    },
    {
     "cell_type": "code",
     "collapsed": false,
     "input": [
      "inputfile = open('lrdtp.pkl', 'rb')\n",
      "lrdtp = pickle.load(inputfile)\n",
      "inputfile.close()"
     ],
     "language": "python",
     "metadata": {},
     "outputs": [],
     "prompt_number": 8
    },
    {
     "cell_type": "code",
     "collapsed": false,
     "input": [
      "sum([len(c) for c in lrdtp])"
     ],
     "language": "python",
     "metadata": {},
     "outputs": [
      {
       "metadata": {},
       "output_type": "pyout",
       "prompt_number": 9,
       "text": [
        "5006"
       ]
      }
     ],
     "prompt_number": 9
    },
    {
     "cell_type": "code",
     "collapsed": false,
     "input": [
      "def splitParagraphIntoSentences(paragraph):\n",
      "    ''' break a paragraph into sentences\n",
      "        and return a list '''\n",
      "    import re\n",
      "    # to split by multile characters\n",
      "\n",
      "    #   regular expressions are easiest (and fastest)\n",
      "    sentenceEnders = re.compile('[.!?]')\n",
      "    sentenceList = sentenceEnders.split(paragraph)\n",
      "    return sentenceList"
     ],
     "language": "python",
     "metadata": {},
     "outputs": [],
     "prompt_number": 10
    },
    {
     "cell_type": "code",
     "collapsed": false,
     "input": [
      "length_sentences = [len(s.split()) for c in lrdtp for p in c for s in splitParagraphIntoSentences(p)]"
     ],
     "language": "python",
     "metadata": {},
     "outputs": [],
     "prompt_number": 14
    },
    {
     "cell_type": "code",
     "collapsed": false,
     "input": [
      "length_sentences[length_sentences.index(max(length_sentences))]"
     ],
     "language": "python",
     "metadata": {},
     "outputs": [
      {
       "metadata": {},
       "output_type": "pyout",
       "prompt_number": 15,
       "text": [
        "860"
       ]
      }
     ],
     "prompt_number": 15
    },
    {
     "cell_type": "code",
     "collapsed": false,
     "input": [
      "import matplotlib.pyplot as plt\n",
      "x = range(0, len(length_sentences))\n",
      "plt.plot(x, [max(l,100) for l in length_sentences])\n",
      "plt.show()"
     ],
     "language": "python",
     "metadata": {},
     "outputs": [
      {
       "metadata": {},
       "output_type": "display_data",
       "png": "[encoded data removed]",
       "text": [
        "<matplotlib.figure.Figure at 0x4cb4610>"
       ]
      }
     ],
     "prompt_number": 16
    },
    {
     "cell_type": "code",
     "collapsed": false,
     "input": [
      "import nltk"
     ],
     "language": "python",
     "metadata": {},
     "outputs": [],
     "prompt_number": 17
    },
    {
     "cell_type": "code",
     "collapsed": false,
     "input": [
      "lrdtp_wordfreq_sentences = [nltk.FreqDist(s.split()) for c in lrdtp for p in c for s in splitParagraphIntoSentences(p)]"
     ],
     "language": "python",
     "metadata": {},
     "outputs": [],
     "prompt_number": 28
    },
    {
     "cell_type": "code",
     "collapsed": false,
     "input": [
      "def clean_word(w):\n",
      "    ret = w.lower()\n",
      "    ret = ret.replace(\",\",\"\")\n",
      "    ret = ret.replace(\":\",\"\")\n",
      "    ret = ret.replace(\")\",\"\")\n",
      "    ret = ret.replace(\"(\",\"\")\n",
      "    ret = ret.split(\"'\")[-1]\n",
      "    return ret\n",
      "\n",
      "lrdtp_wordfreq = {}\n",
      "for s in lrdtp_wordfreq_sentences:\n",
      "    for w in s:\n",
      "        if clean_word(w) in lrdtp_wordfreq:\n",
      "            lrdtp_wordfreq[clean_word(w)] += s[w]\n",
      "        else:\n",
      "            lrdtp_wordfreq.update({clean_word(w):s[w]})"
     ],
     "language": "python",
     "metadata": {},
     "outputs": [],
     "prompt_number": 180
    },
    {
     "cell_type": "code",
     "collapsed": false,
     "input": [
      "import operator\n",
      "lrdtp_wordfreq_sort = sorted(lrdtp_wordfreq.iteritems(), key=operator.itemgetter(1), reverse=True)\n",
      "lrdtp_wordfreq_dico = { e[0]:e[1] for e in lrdtp_wordfreq_sort}"
     ],
     "language": "python",
     "metadata": {},
     "outputs": [],
     "prompt_number": 182
    },
    {
     "cell_type": "code",
     "collapsed": false,
     "input": [
      "x = range(0, len(lrdtp_wordfreq_dico))\n",
      "plt.plot(x, sorted(lrdtp_wordfreq_dico.values()))\n",
      "plt.show()"
     ],
     "language": "python",
     "metadata": {},
     "outputs": [
      {
       "metadata": {},
       "output_type": "display_data",
       "png": "[encoded data removed]",
       "text": [
        "<matplotlib.figure.Figure at 0x2420ad90>"
       ]
      }
     ],
     "prompt_number": 183
    },
    {
     "cell_type": "code",
     "collapsed": false,
     "input": [
      "len([k for k in lrdtp_wordfreq_dico if \"ant\" in k])"
     ],
     "language": "python",
     "metadata": {},
     "outputs": [
      {
       "metadata": {},
       "output_type": "pyout",
       "prompt_number": 224,
       "text": [
        "2517"
       ]
      }
     ],
     "prompt_number": 224
    },
    {
     "cell_type": "code",
     "collapsed": false,
     "input": [
      "lrdtp_wordfreq_dico[u'en']"
     ],
     "language": "python",
     "metadata": {},
     "outputs": [
      {
       "metadata": {},
       "output_type": "pyout",
       "prompt_number": 222,
       "text": [
        "14263"
       ]
      }
     ],
     "prompt_number": 222
    }
   ],
   "metadata": {}
  }
 ]
}