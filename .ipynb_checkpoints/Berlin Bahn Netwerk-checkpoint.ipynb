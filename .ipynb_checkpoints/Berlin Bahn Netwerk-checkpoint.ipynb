{
 "metadata": {
  "name": ""
 },
 "nbformat": 3,
 "nbformat_minor": 0,
 "worksheets": [
  {
   "cells": [
    {
     "cell_type": "code",
     "collapsed": false,
     "input": [
      "import urllib2\n",
      "from bs4 import BeautifulSoup"
     ],
     "language": "python",
     "metadata": {},
     "outputs": [],
     "prompt_number": 1
    },
    {
     "cell_type": "code",
     "collapsed": false,
     "input": [
      "def get_stations_from_uline(line_url):\n",
      "    html = urllib2.urlopen(line_url[1])\n",
      "    soup = BeautifulSoup(html)\n",
      "    line_table = soup.find(\"table\",{\"id\":\"line_detail_table\"})\n",
      "    stations = line_table.find_all(\"a\", {\"class\" : \"link_arrow\"})\n",
      "    return line_url[0],[s.text for s in stations]"
     ],
     "language": "python",
     "metadata": {},
     "outputs": [],
     "prompt_number": 2
    },
    {
     "cell_type": "code",
     "collapsed": false,
     "input": [
      "def get_stations_from_sline(line_url):\n",
      "    html = urllib2.urlopen(line_url[1])\n",
      "    soup = BeautifulSoup(html)\n",
      "    section = soup.find(\"section\", {\"id\":\"content-middle\"})\n",
      "    stations = section.find_all(\"a\", {\"intern\"})\n",
      "    return line_url[0],[s.text for s in stations]"
     ],
     "language": "python",
     "metadata": {},
     "outputs": [],
     "prompt_number": 3
    },
    {
     "cell_type": "code",
     "collapsed": false,
     "input": [
      "ubahn_linie_urls = {\"U1\":\"http://www.bvg.de/index.php/de/3729/name/U-Bahnlinie+U1.html\", \\\n",
      "               \"U2\":\"http://www.bvg.de/index.php/de/3730/name/U-Bahnlinie+U2.html\", \\\n",
      "               \"U3\":\"http://www.bvg.de/index.php/de/3731/name/U-Bahnlinie+U3.html\", \\\n",
      "               \"U4\":\"http://www.bvg.de/index.php/de/3732/name/U-Bahnlinie+U4.html\", \\\n",
      "               \"U5\":\"http://www.bvg.de/index.php/de/3733/name/U-Bahnlinie+U5.html\", \\\n",
      "               \"U55\":\"http://www.bvg.de/index.php/de/470021/name/U-Bahnlinie+U55.html\", \\\n",
      "               \"U6\":\"http://www.bvg.de/index.php/de/3734/name/U-Bahnlinie+U6.html\", \\\n",
      "               \"U7\":\"http://www.bvg.de/index.php/de/3735/name/U-Bahnlinie+U7.html\", \\\n",
      "               \"U8\":\"http://www.bvg.de/index.php/de/3736/name/U-Bahnlinie+U8.html\", \n",
      "               \"U9\":\"http://www.bvg.de/index.php/de/3737/name/U-Bahnlinie+U9.html\"}"
     ],
     "language": "python",
     "metadata": {},
     "outputs": [],
     "prompt_number": 4
    },
    {
     "cell_type": "code",
     "collapsed": false,
     "input": [
      "html = urllib2.urlopen('http://www.s-bahn-berlin.de/fahrplanundnetz/linien')\n",
      "soup = BeautifulSoup(html)\n",
      "section = soup.find(\"section\", {\"id\":\"content-middle\"})\n",
      "linien = section.find_all(\"a\", {\"class\":\"plainlink\"})\n",
      "sbahn_linie_urls={s[\"href\"].split(\"/\")[-2]:\"http://www.s-bahn-berlin.de/\"+s['href'] for s in linien}"
     ],
     "language": "python",
     "metadata": {},
     "outputs": [],
     "prompt_number": 5
    },
    {
     "cell_type": "code",
     "collapsed": false,
     "input": [
      "ubahn_stations = dict([get_stations_from_uline((url, ubahn_linie_urls[url])) for url in ubahn_linie_urls])"
     ],
     "language": "python",
     "metadata": {},
     "outputs": [],
     "prompt_number": 6
    },
    {
     "cell_type": "code",
     "collapsed": false,
     "input": [
      "sbahn_stations = dict([get_stations_from_sline((url, sbahn_linie_urls[url])) for url in sbahn_linie_urls])"
     ],
     "language": "python",
     "metadata": {},
     "outputs": [],
     "prompt_number": 7
    },
    {
     "cell_type": "code",
     "collapsed": false,
     "input": [
      "all_stations = dict(ubahn_stations.items()+sbahn_stations.items())"
     ],
     "language": "python",
     "metadata": {},
     "outputs": [],
     "prompt_number": 8
    },
    {
     "cell_type": "code",
     "collapsed": false,
     "input": [
      "for line_key in all_stations:\n",
      "    for i in range(len(all_stations[line_key])):\n",
      "        all_stations[line_key][i] = all_stations[line_key][i].replace(\"\\n\",\"\").replace('U ', '').replace('S+','').replace('S+U ','')"
     ],
     "language": "python",
     "metadata": {},
     "outputs": [],
     "prompt_number": 9
    },
    {
     "cell_type": "code",
     "collapsed": false,
     "input": [
      "from pygraph.classes.graph import graph\n",
      "\n",
      "#create all the nodes\n",
      "gr = graph()\n",
      "\n",
      "for line_key in all_stations:\n",
      "    for s in all_stations[line_key]:\n",
      "        if not gr.has_node(s):\n",
      "            gr.add_node(s)\n",
      "\n",
      "#create all the hedge            \n",
      "for line_key in all_stations:\n",
      "    for i in range(len(all_stations[line_key])-1):\n",
      "            if not gr.has_edge((all_stations[line_key][i],all_stations[line_key][i+1])):\n",
      "                    gr.add_edge((all_stations[line_key][i],all_stations[line_key][i+1]))"
     ],
     "language": "python",
     "metadata": {},
     "outputs": [],
     "prompt_number": 10
    },
    {
     "cell_type": "code",
     "collapsed": false,
     "input": [
      "from pygraph.algorithms.minmax import shortest_path\n",
      "\n",
      "def shortpathdict_create(stations):\n",
      "    dict_path = {}\n",
      "    for n in stations:\n",
      "        paths = shortest_path(gr,n)\n",
      "        for d in paths[1].keys():\n",
      "            cur = d\n",
      "            path = []\n",
      "            while cur <> None:\n",
      "                path = [cur] + path\n",
      "                cur=paths[0][cur]\n",
      "            dict_path.update({(n,d):path})\n",
      "    return dict_path"
     ],
     "language": "python",
     "metadata": {},
     "outputs": [],
     "prompt_number": 11
    },
    {
     "cell_type": "code",
     "collapsed": false,
     "input": [
      "def chunks(seq, n):\n",
      "    split_range = range(0, len(seq), len(seq)/n)\n",
      "    split_range[-1] = len(seq)-1\n",
      "    return [seq[split_range[i]:split_range[i+1]] for i in range(len(split_range)-1)]"
     ],
     "language": "python",
     "metadata": {},
     "outputs": [],
     "prompt_number": 12
    },
    {
     "cell_type": "code",
     "collapsed": false,
     "input": [
      "%time\n",
      "from IPython.parallel import Client\n",
      "import pickle\n",
      "c = Client()\n",
      "dview = c[:]\n",
      "\n",
      "output = open('shortpathdict.pkl', 'wb')\n",
      "\n",
      "dview['shortest_path']=shortest_path\n",
      "dview['gr']=gr\n",
      "stations_set = chunks(gr.nodes(),4)\n",
      "shortpathdict_list = map(shortpathdict_create,stations_set)\n",
      "shortpathdict = {}\n",
      "for d in shortpathdict_list:\n",
      "  shortpathdict.update(d)\n",
      "print len(shortpathdict)\n",
      "print 311*311\n",
      "pickle.dump(shortpathdict,output)\n",
      "output.close()"
     ],
     "language": "python",
     "metadata": {},
     "outputs": [
      {
       "output_type": "stream",
       "stream": "stdout",
       "text": [
        "CPU times: user 0 ns, sys: 0 ns, total: 0 ns\n",
        "Wall time: 5.01 \u00b5s\n",
        "96410"
       ]
      },
      {
       "output_type": "stream",
       "stream": "stdout",
       "text": [
        "\n",
        "96721\n"
       ]
      }
     ],
     "prompt_number": 13
    },
    {
     "cell_type": "code",
     "collapsed": false,
     "input": [
      "shortpathdict[(u'Birkenstra\\xdfe',u'Hermannplatz')]"
     ],
     "language": "python",
     "metadata": {},
     "outputs": [
      {
       "metadata": {},
       "output_type": "pyout",
       "prompt_number": 14,
       "text": [
        "[u'Birkenstra\\xdfe',\n",
        " u'Turmstra\\xdfe',\n",
        " u'Hansaplatz',\n",
        " u'Zoologischer Garten',\n",
        " u'Wittenbergplatz',\n",
        " u'Nollendorfplatz',\n",
        " u'B\\xfclowstra\\xdfe',\n",
        " u'Gleisdreieck',\n",
        " u'M\\xf6ckernbr\\xfccke',\n",
        " u'Mehringdamm',\n",
        " u'Gneisenaustra\\xdfe',\n",
        " u'S\\xfcdstern',\n",
        " u'Hermannplatz']"
       ]
      }
     ],
     "prompt_number": 14
    },
    {
     "cell_type": "code",
     "collapsed": false,
     "input": [
      "import urllib\n",
      "import json\n",
      "def geocode_raw(addr):\n",
      "        url = \"http://maps.googleapis.com/maps/api/geocode/json?address=\"+urllib.quote(addr.encode('utf-8'))+\"&sensor=true\"\n",
      "        data = urllib.urlopen(url).read()\n",
      "        if json.loads(data)['status'] == 'OK':\n",
      "            return [json.loads(data)['results'][0]['geometry']['location']['lat'],json.loads(data)['results'][0]['geometry']['location']['lng']]\n",
      "        else:\n",
      "            return -1,-1\n",
      "def geocode(addr):\n",
      "    for i in range(5):\n",
      "        pos = geocode_raw(addr)\n",
      "        if pos <> (-1,-1):\n",
      "            return pos\n",
      "        else:\n",
      "            print addr+\" %s\"%(i)\n",
      "data = geocode(u'Wannsee'+ \" station Berlin\")\n",
      "lat = data[0]\n",
      "lon = data[1]\n",
      "(lat,lon)"
     ],
     "language": "python",
     "metadata": {},
     "outputs": [
      {
       "metadata": {},
       "output_type": "pyout",
       "prompt_number": 15,
       "text": [
        "(52.421058, 13.179336)"
       ]
      }
     ],
     "prompt_number": 15
    },
    {
     "cell_type": "code",
     "collapsed": false,
     "input": [
      "stations_pos = {s:geocode(s+ \" station Berlin\") for s in gr.nodes()}"
     ],
     "language": "python",
     "metadata": {},
     "outputs": [
      {
       "output_type": "stream",
       "stream": "stdout",
       "text": [
        "Westhafen station Berlin 0\n",
        "Westhafen station Berlin 1"
       ]
      },
      {
       "output_type": "stream",
       "stream": "stdout",
       "text": [
        "\n",
        "Karow station Berlin 0"
       ]
      },
      {
       "output_type": "stream",
       "stream": "stdout",
       "text": [
        "\n",
        "Karow station Berlin 1"
       ]
      },
      {
       "output_type": "stream",
       "stream": "stdout",
       "text": [
        "\n",
        "Karow station Berlin 2"
       ]
      },
      {
       "output_type": "stream",
       "stream": "stdout",
       "text": [
        "\n",
        "Karow station Berlin 3"
       ]
      },
      {
       "output_type": "stream",
       "stream": "stdout",
       "text": [
        "\n",
        "Sch\u00f6nhauser Allee station Berlin 0"
       ]
      },
      {
       "output_type": "stream",
       "stream": "stdout",
       "text": [
        "\n",
        "Sch\u00f6nhauser Allee station Berlin 1"
       ]
      },
      {
       "output_type": "stream",
       "stream": "stdout",
       "text": [
        "\n",
        "Wildau station Berlin 0"
       ]
      },
      {
       "output_type": "stream",
       "stream": "stdout",
       "text": [
        "\n",
        "Fredersdorf (b Bln) station Berlin 0"
       ]
      },
      {
       "output_type": "stream",
       "stream": "stdout",
       "text": [
        "\n",
        "Bernau (b Bln) station Berlin 0"
       ]
      },
      {
       "output_type": "stream",
       "stream": "stdout",
       "text": [
        "\n",
        "Bernau (b Bln) station Berlin 1"
       ]
      },
      {
       "output_type": "stream",
       "stream": "stdout",
       "text": [
        "\n",
        "Bernau (b Bln) station Berlin 2"
       ]
      },
      {
       "output_type": "stream",
       "stream": "stdout",
       "text": [
        "\n",
        "Zepernick (b Bernau) station Berlin 0"
       ]
      },
      {
       "output_type": "stream",
       "stream": "stdout",
       "text": [
        "\n",
        "Zepernick (b Bernau) station Berlin 1"
       ]
      },
      {
       "output_type": "stream",
       "stream": "stdout",
       "text": [
        "\n",
        "Karl-Marx-Stra\u00dfe station Berlin 0"
       ]
      },
      {
       "output_type": "stream",
       "stream": "stdout",
       "text": [
        "\n",
        "Karl-Marx-Stra\u00dfe station Berlin 1"
       ]
      },
      {
       "output_type": "stream",
       "stream": "stdout",
       "text": [
        "\n",
        "Karl-Marx-Stra\u00dfe station Berlin 2"
       ]
      },
      {
       "output_type": "stream",
       "stream": "stdout",
       "text": [
        "\n",
        "Alexanderplatz station Berlin 0"
       ]
      },
      {
       "output_type": "stream",
       "stream": "stdout",
       "text": [
        "\n",
        "Alexanderplatz station Berlin 1"
       ]
      },
      {
       "output_type": "stream",
       "stream": "stdout",
       "text": [
        "\n",
        "Kaulsdorf-Nord station Berlin 0"
       ]
      },
      {
       "output_type": "stream",
       "stream": "stdout",
       "text": [
        "\n",
        "Kaulsdorf-Nord station Berlin 1"
       ]
      },
      {
       "output_type": "stream",
       "stream": "stdout",
       "text": [
        "\n",
        "Krumme Lanke station Berlin 0"
       ]
      },
      {
       "output_type": "stream",
       "stream": "stdout",
       "text": [
        "\n",
        "Spichernstra\u00dfe station Berlin 0"
       ]
      },
      {
       "output_type": "stream",
       "stream": "stdout",
       "text": [
        "\n",
        "Spichernstra\u00dfe station Berlin 1"
       ]
      },
      {
       "output_type": "stream",
       "stream": "stdout",
       "text": [
        "\n",
        "Spichernstra\u00dfe station Berlin 2"
       ]
      },
      {
       "output_type": "stream",
       "stream": "stdout",
       "text": [
        "\n",
        "Hirschgarten station Berlin 0"
       ]
      },
      {
       "output_type": "stream",
       "stream": "stdout",
       "text": [
        "\n",
        "Hirschgarten station Berlin 1"
       ]
      },
      {
       "output_type": "stream",
       "stream": "stdout",
       "text": [
        "\n",
        "Mahlsdorf station Berlin 0"
       ]
      },
      {
       "output_type": "stream",
       "stream": "stdout",
       "text": [
        "\n",
        "Mahlsdorf station Berlin 1"
       ]
      },
      {
       "output_type": "stream",
       "stream": "stdout",
       "text": [
        "\n",
        "Mahlsdorf station Berlin 2"
       ]
      },
      {
       "output_type": "stream",
       "stream": "stdout",
       "text": [
        "\n",
        "Mahlsdorf station Berlin 3"
       ]
      },
      {
       "output_type": "stream",
       "stream": "stdout",
       "text": [
        "\n",
        "Raoul-Wallenberg-Stra\u00dfe station Berlin 0"
       ]
      },
      {
       "output_type": "stream",
       "stream": "stdout",
       "text": [
        "\n"
       ]
      }
     ],
     "prompt_number": 16
    },
    {
     "cell_type": "code",
     "collapsed": false,
     "input": [
      "[s for s in stations_pos if stations_pos[s] == (-1,-1)]"
     ],
     "language": "python",
     "metadata": {},
     "outputs": [
      {
       "metadata": {},
       "output_type": "pyout",
       "prompt_number": 17,
       "text": [
        "[]"
       ]
      }
     ],
     "prompt_number": 17
    },
    {
     "cell_type": "code",
     "collapsed": false,
     "input": [
      "!ls -l"
     ],
     "language": "python",
     "metadata": {},
     "outputs": [
      {
       "output_type": "stream",
       "stream": "stdout",
       "text": [
        "total 11016\r\n",
        "-rw-rw-r-- 1 richard richard   325512 d\u00e9c.  15 21:06 bahn.png\r\n",
        "-rw-rw-r-- 1 richard richard    16258 d\u00e9c.  26 10:39 Berlin Bahn Netwerk.ipynb\r\n",
        "-rw-rw-r-- 1 richard richard    21569 d\u00e9c.  15 20:49 example1_graph.png\r\n",
        "drwxrwxr-x 2 richard richard     4096 juil.  3 03:42 metadata\r\n",
        "-rw-rw-r-- 1 richard richard     4645 juin   5  2013 one_tweet.json\r\n",
        "-rw-rw-r-- 1 richard richard   137672 d\u00e9c.  20 09:04 realtime_analytics_twitter.ipynb\r\n",
        "-rw-rw-r-- 1 richard richard 10375959 d\u00e9c.  26 10:35 shortpathdict.pkl\r\n",
        "-rw-rw-r-- 1 richard richard    38670 juin   5  2013 static_english.jpg\r\n",
        "-rw-rw-r-- 1 richard richard    38815 juin   5  2013 static_spanish.jpg\r\n",
        "-rw-rw-r-- 1 richard richard   190448 juin   5  2013 static_tweet_data.json.gz\r\n",
        "-rw-rw-r-- 1 richard richard    16706 d\u00e9c.  26 10:38 stations_pos.pkl\r\n",
        "-rw-rw-r-- 1 richard richard     2826 d\u00e9c.  16 14:12 Untitled0.ipynb\r\n",
        "-rw-rw-r-- 1 richard richard    46976 d\u00e9c.  17 14:52 Untitled1.ipynb\r\n",
        "-rw-rw-r-- 1 richard richard    20967 d\u00e9c.  20 09:31 Untitled2.ipynb\r\n",
        "-rw-rw-r-- 1 richard richard     6138 d\u00e9c.  24 14:41 Untitled3.ipynb\r\n"
       ]
      }
     ],
     "prompt_number": 20
    }
   ],
   "metadata": {}
  }
 ]
}