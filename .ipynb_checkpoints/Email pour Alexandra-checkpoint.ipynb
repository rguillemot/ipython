{
 "metadata": {
  "name": ""
 },
 "nbformat": 3,
 "nbformat_minor": 0,
 "worksheets": [
  {
   "cells": [
    {
     "cell_type": "markdown",
     "metadata": {},
     "source": [
      "Ma ch\u00e8re Alexandra,\n",
      "======\n",
      "Suite \u00e0 notre conversation de vendredi dernier, je voulais d\u00e9velopper un petit peu plus ce que je t'ai dit.\n",
      "Le but de notre projet est de d\u00e9terminer la station de m\u00e9tro qui permettrait \u00e0 un groupe de personnes de se retrouver le plus \"facilement\".\n",
      "L'adverbe *\"facilement\"* est ici une notion un peu subjective, mais j'y reviendrais un peu plus tard.\n",
      "\n",
      "J'ai r\u00e9alis\u00e9 une petite maquette afin de rassembler les diff\u00e9rents \u00e9l\u00e9ments dont nous pourrions avoir besoins au cours de notre projet.\n",
      "\n",
      "Je propose d'utiliser Berlin et son r\u00e9seau de transport en commun (U-Bahn et S-Bahn) comme environnement de test.\n",
      "\n",
      "Ma maquette est compos\u00e9e de 3 briques :\n",
      "\n",
      "* r\u00e9cup\u00e9rer les informations pulbiques sur le r\u00e9seau de transport en commun de Berlin\n",
      "* construite le graph du r\u00e9seau de transport \u00e0 partir duquel calculera la station de transport la plus adapt\u00e9e \u00e0 notre groupe d'utlisateur.\n",
      "* visualiser le r\u00e9sultat de notre calcul.\n",
      "\n",
      "Pour cette petite pr\u00e9sentation, je vais utliser **IPython**. C'est un environement de d\u00e9veloppement assez pratique qui permet de m\u00e9langer du texte, des images et du code. Je vais donc utliser le langage de programation **Python** qui dispose de librairies qui seront tr\u00e8s utiles \u00e0 notre projet.\n",
      "\n",
      "Allons y !"
     ]
    },
    {
     "cell_type": "markdown",
     "metadata": {},
     "source": [
      "Les informations publiques du r\u00e9seau de transport en commun de Berlin.\n",
      "========\n",
      "\n",
      "Pour faire simple je vais t\u00e9l\u00e9charger les informations que tu peux t\u00e9l\u00e9chager sur le site de la BVG.\n",
      "Malheureusement il n'y a pas un site commun pour le U-Bahn et le S-Bahn.\n"
     ]
    },
    {
     "cell_type": "code",
     "collapsed": false,
     "input": [
      "from IPython.display import HTML\n",
      "HTML('<iframe src=http://www.bvg.de/index.php/de/3717/name/U-Bahn.html width=1000 height=350></iframe>')"
     ],
     "language": "python",
     "metadata": {},
     "outputs": [
      {
       "html": [
        "<iframe src=http://www.bvg.de/index.php/de/3717/name/U-Bahn.html width=1000 height=350></iframe>"
       ],
       "metadata": {},
       "output_type": "pyout",
       "prompt_number": 6,
       "text": [
        "<IPython.core.display.HTML at 0x44b5bd0>"
       ]
      }
     ],
     "prompt_number": 6
    },
    {
     "cell_type": "code",
     "collapsed": false,
     "input": [
      "from IPython.display import HTML\n",
      "HTML('<iframe src=http://www.s-bahn-berlin.de/fahrplanundnetz/linien width=1000 height=350></iframe>')"
     ],
     "language": "python",
     "metadata": {},
     "outputs": [
      {
       "html": [
        "<iframe src=http://www.s-bahn-berlin.de/fahrplanundnetz/linien width=1000 height=350></iframe>"
       ],
       "metadata": {},
       "output_type": "pyout",
       "prompt_number": 7,
       "text": [
        "<IPython.core.display.HTML at 0x44b5f50>"
       ]
      }
     ],
     "prompt_number": 7
    },
    {
     "cell_type": "markdown",
     "metadata": {},
     "source": [
      "Python propose 2 librairies compl\u00e9mentaires pour aspirer les pages web:\n",
      "\n",
      "* **urllib** pour t\u00e9l\u00e9charger les pages HTML\n",
      "* **Beautiful Soup** (rigolo comme nom ?) pour extraire des informations du code HTML (Tu sais ce que sais o\u00f9 bien ?)\n",
      "\n",
      "**import** c'est la fonction Python pour charger les librairies"
     ]
    },
    {
     "cell_type": "code",
     "collapsed": false,
     "input": [
      "import urllib2\n",
      "from bs4 import BeautifulSoup"
     ],
     "language": "python",
     "metadata": {},
     "outputs": [],
     "prompt_number": 8
    },
    {
     "cell_type": "markdown",
     "metadata": {},
     "source": [
      "On va travailler en 2 temps:\n",
      "\n",
      "* On va r\u00e9cup\u00e9rer la liste de toutes les lignes.\n",
      "* On va r\u00e9cup\u00e9rer la liste de toutes les stations pour chaque ligne."
     ]
    },
    {
     "cell_type": "markdown",
     "metadata": {},
     "source": [
      "Le morceau de code ci dessous r\u00e9cup\u00e8re la liste des lignes de U-Bahn et de S-Bahn."
     ]
    },
    {
     "cell_type": "code",
     "collapsed": false,
     "input": [
      "html = urllib2.urlopen('http://www.bvg.de/index.php/de/3717/name/U-Bahn.html')\n",
      "soup = BeautifulSoup(html)\n",
      "ul = soup.find(\"ul\", {\"class\":\"link_list list_navheader\"})\n",
      "linien = ul.find_all(\"a\")\n",
      "ubahn_linie_urls={s.text.split(\" \")[-1]:s[\"href\"] for s in linien[:-1]}\n",
      "\n",
      "html = urllib2.urlopen('http://www.s-bahn-berlin.de/fahrplanundnetz/linien')\n",
      "soup = BeautifulSoup(html)\n",
      "section = soup.find(\"section\", {\"id\":\"content-middle\"})\n",
      "linien = section.find_all(\"a\", {\"class\":\"plainlink\"})\n",
      "sbahn_linie_urls={s[\"href\"].split(\"/\")[-2]:\"http://www.s-bahn-berlin.de/\"+s['href'] for s in linien}"
     ],
     "language": "python",
     "metadata": {},
     "outputs": [],
     "prompt_number": 9
    },
    {
     "cell_type": "markdown",
     "metadata": {},
     "source": [
      "Je suis d'accord \u00e7a a l'air un peu cryptique, mais tu peux au moins me reconna\u00eetre que c'est court. Tu peux voir ci dessous que \u00e7a a march\u00e9. Parce que bon tu pourrais t'imaginer, apr\u00e8s tout ce que tu as d\u00e9ja lu, que je te raconte des craques ...."
     ]
    },
    {
     "cell_type": "code",
     "collapsed": false,
     "input": [
      "dict(ubahn_linie_urls.items()+sbahn_linie_urls.items())\n"
     ],
     "language": "python",
     "metadata": {},
     "outputs": [
      {
       "metadata": {},
       "output_type": "pyout",
       "prompt_number": 10,
       "text": [
        "{u'U1': 'http://www.bvg.de/index.php/de/3729/name/U-Bahnlinie+U1.html',\n",
        " u'U2': 'http://www.bvg.de/index.php/de/3730/name/U-Bahnlinie+U2.html',\n",
        " u'U3': 'http://www.bvg.de/index.php/de/3731/name/U-Bahnlinie+U3.html',\n",
        " u'U4': 'http://www.bvg.de/index.php/de/3732/name/U-Bahnlinie+U4.html',\n",
        " u'U5': 'http://www.bvg.de/index.php/de/3733/name/U-Bahnlinie+U5.html',\n",
        " u'U55': 'http://www.bvg.de/index.php/de/470021/name/U-Bahnlinie+U55.html',\n",
        " u'U6': 'http://www.bvg.de/index.php/de/3734/name/U-Bahnlinie+U6.html',\n",
        " u'U7': 'http://www.bvg.de/index.php/de/3735/name/U-Bahnlinie+U7.html',\n",
        " u'U8': 'http://www.bvg.de/index.php/de/3736/name/U-Bahnlinie+U8.html',\n",
        " u'U9': 'http://www.bvg.de/index.php/de/3737/name/U-Bahnlinie+U9.html',\n",
        " 's1': 'http://www.s-bahn-berlin.de/fahrplanundnetz/linie/s1/1',\n",
        " 's2': 'http://www.s-bahn-berlin.de/fahrplanundnetz/linie/s2/2',\n",
        " 's25': 'http://www.s-bahn-berlin.de/fahrplanundnetz/linie/s25/14',\n",
        " 's3': 'http://www.s-bahn-berlin.de/fahrplanundnetz/linie/s3/4',\n",
        " 's41': 'http://www.s-bahn-berlin.de/fahrplanundnetz/linie/s41/5',\n",
        " 's42': 'http://www.s-bahn-berlin.de/fahrplanundnetz/linie/s42/6',\n",
        " 's45': 'http://www.s-bahn-berlin.de/fahrplanundnetz/linie/s45/17',\n",
        " 's46': 'http://www.s-bahn-berlin.de/fahrplanundnetz/linie/s46/7',\n",
        " 's47': 'http://www.s-bahn-berlin.de/fahrplanundnetz/linie/s47/9',\n",
        " 's5': 'http://www.s-bahn-berlin.de/fahrplanundnetz/linie/s5/8',\n",
        " 's7': 'http://www.s-bahn-berlin.de/fahrplanundnetz/linie/s7/10',\n",
        " 's75': 'http://www.s-bahn-berlin.de/fahrplanundnetz/linie/s75/11',\n",
        " 's8': 'http://www.s-bahn-berlin.de/fahrplanundnetz/linie/s8/12',\n",
        " 's85': 'http://www.s-bahn-berlin.de/fahrplanundnetz/linie/s85/13',\n",
        " 's9': 'http://www.s-bahn-berlin.de/fahrplanundnetz/linie/s9/15'}"
       ]
      }
     ],
     "prompt_number": 10
    },
    {
     "cell_type": "markdown",
     "metadata": {},
     "source": [
      "Ensuite on r\u00e9cup\u00e8re toutes les stations de chacune des lignes."
     ]
    },
    {
     "cell_type": "code",
     "collapsed": false,
     "input": [
      "def get_stations_from_uline(line_url):\n",
      "    print line_url[1]\n",
      "    html = urllib2.urlopen(line_url[1])\n",
      "    soup = BeautifulSoup(html)\n",
      "    line_table = soup.find(\"table\",{\"id\":\"line_detail_table\"})\n",
      "    stations = line_table.find_all(\"a\", {\"class\" : \"link_arrow\"})\n",
      "    return line_url[0],[s.text for s in stations]\n",
      "\n",
      "def get_stations_from_sline(line_url):\n",
      "    print line_url[1]\n",
      "    html = urllib2.urlopen(line_url[1])\n",
      "    soup = BeautifulSoup(html)\n",
      "    section = soup.find(\"section\", {\"id\":\"content-middle\"})\n",
      "    stations = section.find_all(\"a\", {\"intern\"})\n",
      "    return line_url[0],[s.text for s in stations]\n",
      "\n",
      "ubahn_stations = dict([get_stations_from_uline((url, ubahn_linie_urls[url])) for url in ubahn_linie_urls])\n",
      "\n",
      "sbahn_stations = dict([get_stations_from_sline((url, sbahn_linie_urls[url])) for url in sbahn_linie_urls])\n",
      "\n",
      "all_stations = dict(ubahn_stations.items()+sbahn_stations.items())\n"
     ],
     "language": "python",
     "metadata": {},
     "outputs": [
      {
       "output_type": "stream",
       "stream": "stdout",
       "text": [
        "http://www.bvg.de/index.php/de/3737/name/U-Bahnlinie+U9.html\n",
        "http://www.bvg.de/index.php/de/3736/name/U-Bahnlinie+U8.html"
       ]
      },
      {
       "output_type": "stream",
       "stream": "stdout",
       "text": [
        "\n",
        "http://www.bvg.de/index.php/de/3733/name/U-Bahnlinie+U5.html"
       ]
      },
      {
       "output_type": "stream",
       "stream": "stdout",
       "text": [
        "\n",
        "http://www.bvg.de/index.php/de/3732/name/U-Bahnlinie+U4.html"
       ]
      },
      {
       "output_type": "stream",
       "stream": "stdout",
       "text": [
        "\n",
        "http://www.bvg.de/index.php/de/3735/name/U-Bahnlinie+U7.html"
       ]
      },
      {
       "output_type": "stream",
       "stream": "stdout",
       "text": [
        "\n",
        "http://www.bvg.de/index.php/de/3734/name/U-Bahnlinie+U6.html"
       ]
      },
      {
       "output_type": "stream",
       "stream": "stdout",
       "text": [
        "\n",
        "http://www.bvg.de/index.php/de/3729/name/U-Bahnlinie+U1.html"
       ]
      },
      {
       "output_type": "stream",
       "stream": "stdout",
       "text": [
        "\n",
        "http://www.bvg.de/index.php/de/3731/name/U-Bahnlinie+U3.html"
       ]
      },
      {
       "output_type": "stream",
       "stream": "stdout",
       "text": [
        "\n",
        "http://www.bvg.de/index.php/de/3730/name/U-Bahnlinie+U2.html"
       ]
      },
      {
       "output_type": "stream",
       "stream": "stdout",
       "text": [
        "\n",
        "http://www.bvg.de/index.php/de/470021/name/U-Bahnlinie+U55.html"
       ]
      },
      {
       "output_type": "stream",
       "stream": "stdout",
       "text": [
        "\n",
        "http://www.s-bahn-berlin.de/fahrplanundnetz/linie/s9/15"
       ]
      },
      {
       "output_type": "stream",
       "stream": "stdout",
       "text": [
        "\n",
        "http://www.s-bahn-berlin.de/fahrplanundnetz/linie/s8/12"
       ]
      },
      {
       "output_type": "stream",
       "stream": "stdout",
       "text": [
        "\n",
        "http://www.s-bahn-berlin.de/fahrplanundnetz/linie/s3/4"
       ]
      },
      {
       "output_type": "stream",
       "stream": "stdout",
       "text": [
        "\n",
        "http://www.s-bahn-berlin.de/fahrplanundnetz/linie/s2/2"
       ]
      },
      {
       "output_type": "stream",
       "stream": "stdout",
       "text": [
        "\n",
        "http://www.s-bahn-berlin.de/fahrplanundnetz/linie/s1/1"
       ]
      },
      {
       "output_type": "stream",
       "stream": "stdout",
       "text": [
        "\n",
        "http://www.s-bahn-berlin.de/fahrplanundnetz/linie/s7/10"
       ]
      },
      {
       "output_type": "stream",
       "stream": "stdout",
       "text": [
        "\n",
        "http://www.s-bahn-berlin.de/fahrplanundnetz/linie/s5/8"
       ]
      },
      {
       "output_type": "stream",
       "stream": "stdout",
       "text": [
        "\n",
        "http://www.s-bahn-berlin.de/fahrplanundnetz/linie/s45/17"
       ]
      },
      {
       "output_type": "stream",
       "stream": "stdout",
       "text": [
        "\n",
        "http://www.s-bahn-berlin.de/fahrplanundnetz/linie/s46/7"
       ]
      },
      {
       "output_type": "stream",
       "stream": "stdout",
       "text": [
        "\n",
        "http://www.s-bahn-berlin.de/fahrplanundnetz/linie/s47/9"
       ]
      },
      {
       "output_type": "stream",
       "stream": "stdout",
       "text": [
        "\n",
        "http://www.s-bahn-berlin.de/fahrplanundnetz/linie/s41/5"
       ]
      },
      {
       "output_type": "stream",
       "stream": "stdout",
       "text": [
        "\n",
        "http://www.s-bahn-berlin.de/fahrplanundnetz/linie/s42/6"
       ]
      },
      {
       "output_type": "stream",
       "stream": "stdout",
       "text": [
        "\n",
        "http://www.s-bahn-berlin.de/fahrplanundnetz/linie/s25/14"
       ]
      },
      {
       "output_type": "stream",
       "stream": "stdout",
       "text": [
        "\n",
        "http://www.s-bahn-berlin.de/fahrplanundnetz/linie/s75/11"
       ]
      },
      {
       "output_type": "stream",
       "stream": "stdout",
       "text": [
        "\n",
        "http://www.s-bahn-berlin.de/fahrplanundnetz/linie/s85/13"
       ]
      },
      {
       "output_type": "stream",
       "stream": "stdout",
       "text": [
        "\n"
       ]
      }
     ],
     "prompt_number": 18
    },
    {
     "cell_type": "markdown",
     "metadata": {},
     "source": [
      "Ils sont un peu relouds \u00e0 la BVG, on est oblig\u00e9 de code diff\u00e9rents pour le U-Bahn et le  S-Bahn.\n",
      "Je ne te montre pas la totalit\u00e9 de ce que j'ai t\u00e9l\u00e9charg\u00e9 parce que c'est trop gros mais juste la ligne U2 que je pense que tu connais bien."
     ]
    },
    {
     "cell_type": "code",
     "collapsed": false,
     "input": [
      "all_stations[\"U2\"]"
     ],
     "language": "python",
     "metadata": {},
     "outputs": [
      {
       "metadata": {},
       "output_type": "pyout",
       "prompt_number": 19,
       "text": [
        "[u'\\nS+U Pankow',\n",
        " u'\\nU Vinetastra\\xdfe',\n",
        " u'\\nS+U Sch\\xf6nhauser Allee',\n",
        " u'\\nU Eberswalder Stra\\xdfe',\n",
        " u'\\nU Senefelderplatz',\n",
        " u'\\nU Rosa-Luxemburg-Platz',\n",
        " u'\\nS+U Alexanderplatz',\n",
        " u'\\nU Klosterstra\\xdfe',\n",
        " u'\\nU M\\xe4rkisches Museum',\n",
        " u'\\nU Spittelmarkt',\n",
        " u'\\nU Hausvogteiplatz',\n",
        " u'\\nU Stadtmitte',\n",
        " u'\\nU Mohrenstra\\xdfe',\n",
        " u'\\nS+U Potsdamer Platz',\n",
        " u'\\nU Mendelssohn-Bartholdy-Park',\n",
        " u'\\nU Gleisdreieck',\n",
        " u'\\nU B\\xfclowstra\\xdfe',\n",
        " u'\\nU Nollendorfplatz',\n",
        " u'\\nU Wittenbergplatz',\n",
        " u'\\nS+U Zoologischer Garten',\n",
        " u'\\nU Ernst-Reuter-Platz',\n",
        " u'\\nU Deutsche Oper',\n",
        " u'\\nU Bismarckstra\\xdfe',\n",
        " u'\\nU Sophie-Charlotte-Platz',\n",
        " u'\\nU Kaiserdamm',\n",
        " u'\\nU Theodor-Heuss-Platz',\n",
        " u'\\nU Neu-Westend',\n",
        " u'\\nU Olympia-Stadion',\n",
        " u'\\nU Ruhleben']"
       ]
      }
     ],
     "prompt_number": 19
    },
    {
     "cell_type": "markdown",
     "metadata": {},
     "source": [
      "Comme tu peux le constater j'ai cr\u00e9\u00e9 un petit dictionnaire qui associe au nom de chaque ligne toutes les stations.\n",
      "\n",
      "J'en profite pour faire un peu de nettoyage parce que la BVG ils ont une nomenclature des stations un peu h\u00e9l\u00e9rog\u00e8ne d'une station \u00e0 l'autre."
     ]
    },
    {
     "cell_type": "code",
     "collapsed": false,
     "input": [
      "for line_key in all_stations:\n",
      "    for i in range(len(all_stations[line_key])):\n",
      "        all_stations[line_key][i] = all_stations[line_key][i].replace(\"\\n\",\"\").replace('U ', '').replace('S+','').replace('S+U ','')"
     ],
     "language": "python",
     "metadata": {},
     "outputs": [],
     "prompt_number": 20
    },
    {
     "cell_type": "markdown",
     "metadata": {},
     "source": [
      "La premi\u00e8re \u00e9tape est termin\u00e9e. Il faut maintenant **calculer**."
     ]
    },
    {
     "cell_type": "markdown",
     "metadata": {},
     "source": [
      "Le graphe du reseau de transport berlinois.\n",
      "=====\n",
      "J'avoue que c'est l'\u00e9tape de notre projet que je pr\u00e9f\u00e8re: les calculs.\n",
      "\n",
      "Mais bon \u00e7a ne va pas \u00eatre bien compliqu\u00e9 vu que l'on ne vas rien faire et tout faire \u00e0 la librairie **pygraph**, une libraire de manipulation de graphes."
     ]
    },
    {
     "cell_type": "code",
     "collapsed": false,
     "input": [
      "from pygraph.classes.graph import graph"
     ],
     "language": "python",
     "metadata": {},
     "outputs": [],
     "prompt_number": 21
    },
    {
     "cell_type": "markdown",
     "metadata": {},
     "source": [
      "C'est tr\u00e8s simple on cr\u00e9e un noeud pour chaque station et on connecte les noeuds suivant qu'elle soient voisines sur une ligne."
     ]
    },
    {
     "cell_type": "code",
     "collapsed": false,
     "input": [
      "# On cr\u00e9e tous les noeuds\n",
      "gr = graph()\n",
      "\n",
      "for line_key in all_stations:\n",
      "    for s in all_stations[line_key]:\n",
      "        if not gr.has_node(s):\n",
      "            gr.add_node(s)\n",
      "\n",
      "# On connecte tous les noeuds en utlisant les lignes.            \n",
      "for line_key in all_stations:\n",
      "    for i in range(len(all_stations[line_key])-1):\n",
      "            if not gr.has_edge((all_stations[line_key][i],all_stations[line_key][i+1])):\n",
      "                    gr.add_edge((all_stations[line_key][i],all_stations[line_key][i+1]))"
     ],
     "language": "python",
     "metadata": {},
     "outputs": [],
     "prompt_number": 22
    },
    {
     "cell_type": "markdown",
     "metadata": {},
     "source": [
      "Comme tu peux le voir ci dessous il y a 311 stations dans notre graph. Il faut garder ce chiffre en t\u00eate."
     ]
    },
    {
     "cell_type": "code",
     "collapsed": false,
     "input": [
      "len(gr.nodes())"
     ],
     "language": "python",
     "metadata": {},
     "outputs": [
      {
       "metadata": {},
       "output_type": "pyout",
       "prompt_number": 23,
       "text": [
        "311"
       ]
      }
     ],
     "prompt_number": 23
    },
    {
     "cell_type": "code",
     "collapsed": false,
     "input": [
      "Ensuite la librairie **pygraph** calcule le plus court chemin entre 2 stations pour nous."
     ],
     "language": "python",
     "metadata": {},
     "outputs": []
    },
    {
     "cell_type": "code",
     "collapsed": false,
     "input": [
      "from pygraph.algorithms.minmax import shortest_path\n",
      "\n",
      "def shortpathdict_create(stations):\n",
      "    dict_path = {}\n",
      "    for n in stations:\n",
      "        paths = shortest_path(gr,n)\n",
      "        for d in paths[1].keys():\n",
      "            cur = d\n",
      "            path = []\n",
      "            while cur <> None:\n",
      "                path = [cur] + path\n",
      "                cur=paths[0][cur]\n",
      "            dict_path.update({(n,d):path})\n",
      "    return dict_path"
     ],
     "language": "python",
     "metadata": {},
     "outputs": [],
     "prompt_number": 24
    },
    {
     "cell_type": "markdown",
     "metadata": {},
     "source": [
      "On fait maintenant le calcule des gros bourins: le plus court chemin de chacune des 311 stations avec les 311 autres (au point o\u00f9 j'en suis je peux bien calculer le plus court de la stations par rapport \u00e0 elle m\u00eame ...)"
     ]
    },
    {
     "cell_type": "code",
     "collapsed": false,
     "input": [
      "%%time\n",
      "stations_set = gr.nodes()\n",
      "shortpathdict = shortpathdict_create(stations_set)"
     ],
     "language": "python",
     "metadata": {},
     "outputs": [
      {
       "output_type": "stream",
       "stream": "stdout",
       "text": [
        "CPU times: user 1.61 s, sys: 16 ms, total: 1.62 s\n",
        "Wall time: 1.61 s\n"
       ]
      }
     ],
     "prompt_number": 25
    },
    {
     "cell_type": "markdown",
     "metadata": {},
     "source": [
      "En fait \u00e7a a mis 2 secondes.\n",
      "\n",
      "Maintenant on peut regarder ce qu'il nous propose pour aller de **Birken Stra\u00dfe** \u00e0 **Hermanplatz**."
     ]
    },
    {
     "cell_type": "code",
     "collapsed": false,
     "input": [
      "shortpathdict[(u'Birkenstra\\xdfe',u'Hermannplatz')]"
     ],
     "language": "python",
     "metadata": {},
     "outputs": [
      {
       "metadata": {},
       "output_type": "pyout",
       "prompt_number": 26,
       "text": [
        "[u'Birkenstra\\xdfe',\n",
        " u'Turmstra\\xdfe',\n",
        " u'Hansaplatz',\n",
        " u'Zoologischer Garten',\n",
        " u'Wittenbergplatz',\n",
        " u'Nollendorfplatz',\n",
        " u'B\\xfclowstra\\xdfe',\n",
        " u'Gleisdreieck',\n",
        " u'M\\xf6ckernbr\\xfccke',\n",
        " u'Mehringdamm',\n",
        " u'Gneisenaustra\\xdfe',\n",
        " u'S\\xfcdstern',\n",
        " u'Hermannplatz']"
       ]
      }
     ],
     "prompt_number": 26
    },
    {
     "cell_type": "markdown",
     "metadata": {},
     "source": [
      "Bon j'ai un peu perdu l'information des lignes en route mais \u00e7a a l'air de marcher.\n",
      "\n",
      "Il prend la **U9** jusque **Zoologischer Garten**, ensuite **U1** jusque **M\u00f6ckernbr\u00fccke** et enfin **U7** jusqu' \u00e0 la destination.\n",
      "\n",
      "C'est le plus court chemin en terme de nombre de stations. Personnellement je trouve ce choix tr\u00e8s chiant je pr\u00e9f\u00e8re prendre la **U9** jusque **Westhafen**, prendre le S-Bahn jusque **Gensund-Brunnen** et la **U8** jusqu'\u00e0 destination. Mais bon il y a plus de stations.\n",
      "\n",
      "J'ai conscience qu'il y a des caract\u00e8re bizzards dans les noms des station. Ce sont des histoires de Unicode tr\u00e8s tr\u00e8s inint\u00e9ressantes surlesquelles je ne pr\u00e9f\u00e8re pas m'\u00e9tendre.\n",
      "\n",
      "On dispose maitenant d'un tableau de 311 ligne et 311 colones qui contient dans chaque case le plus court chemin entre les 2 stations.\n",
      "\n",
      "Consid\u00e9rons un exemple concret.\n",
      "\n",
      "**Francesca** est \u00e0 **Sch\u00f6nlein Stra\u00dfe**, tu es \u00e0 **Schonhauser Allee** et Akiko, Ellen et moi sommes \u00e0 **Birken Stra\u00dfe**. Ou pouvons nous retrouver ?\n",
      "\n",
      "On peut commencer par minimiser le nombre de stations parcourues par le groupe. Pour faire simple on va consid\u00e9rer que Akiko, Ellen et moi sommes une et m\u00eame personnes."
     ]
    },
    {
     "cell_type": "code",
     "collapsed": false,
     "input": [
      "groupe = [u'Birkenstra\\xdfe',u'Sch\\xf6nhauser Allee',u'Sch\\xf6nleinstra\\xdfe']\n",
      "\n",
      "def distance_groupe_station(station,groupe):\n",
      "    return sum([len(shortpathdict[(station,s)]) for s in groupe])\n",
      "\n",
      "distance_groupe = [distance_groupe_station(s,groupe) for s in stations_set]\n",
      "station_mindist = stations_set[distance_groupe.index(min(distance_groupe))]\n",
      "station_mindist"
     ],
     "language": "python",
     "metadata": {},
     "outputs": [
      {
       "metadata": {},
       "output_type": "pyout",
       "prompt_number": 27,
       "text": [
        "u'Sch\\xf6nhauser Allee'"
       ]
      }
     ],
     "prompt_number": 27
    },
    {
     "cell_type": "markdown",
     "metadata": {},
     "source": [
      "A c'est marrant on va dans ton quartier.\n",
      "\n",
      "On peut aussi minimiser l'\u00e9cart \u00e0 la moyenne du nombre de stations parcourues par chacun."
     ]
    },
    {
     "cell_type": "code",
     "collapsed": false,
     "input": [
      "def distance_stddev_groupe_station(station,groupe):\n",
      "    moyenne = sum([len(shortpathdict[(station,s)]) for s in groupe])/len(groupe)\n",
      "    return sum([(len(shortpathdict[(station,s)])-moyenne)**2 for s in groupe])\n",
      "\n",
      "distance_groupe_stddev = [distance_stddev_groupe_station(s,groupe) for s in stations_set]\n",
      "station_minstddev = stations_set[distance_groupe_stddev.index(min(distance_groupe_stddev))]\n",
      "station_minstddev"
     ],
     "language": "python",
     "metadata": {},
     "outputs": [
      {
       "metadata": {},
       "output_type": "pyout",
       "prompt_number": 28,
       "text": [
        "u'Sundgauer Stra\\xdfe'"
       ]
      }
     ],
     "prompt_number": 28
    },
    {
     "cell_type": "markdown",
     "metadata": {},
     "source": [
      "On peut regarder un peu plus en d\u00e9tail le r\u00e9sultat."
     ]
    },
    {
     "cell_type": "code",
     "collapsed": false,
     "input": [
      "res_mindist = {s:shortpathdict[(s,station_mindist)] for s in groupe}\n",
      "res_mindist"
     ],
     "language": "python",
     "metadata": {},
     "outputs": [
      {
       "metadata": {},
       "output_type": "pyout",
       "prompt_number": 29,
       "text": [
        "{u'Birkenstra\\xdfe': [u'Birkenstra\\xdfe',\n",
        "  u'Westhafen',\n",
        "  u'Wedding',\n",
        "  u'Gesundbrunnen',\n",
        "  u'Sch\\xf6nhauser Allee'],\n",
        " u'Sch\\xf6nhauser Allee': [u'Sch\\xf6nhauser Allee'],\n",
        " u'Sch\\xf6nleinstra\\xdfe': [u'Sch\\xf6nleinstra\\xdfe',\n",
        "  u'Kottbusser Tor',\n",
        "  u'Moritzplatz',\n",
        "  u'Heinrich-Heine-Stra\\xdfe',\n",
        "  u'Jannowitzbr\\xfccke',\n",
        "  u'Alexanderplatz',\n",
        "  u'Rosa-Luxemburg-Platz',\n",
        "  u'Senefelderplatz',\n",
        "  u'Eberswalder Stra\\xdfe',\n",
        "  u'Sch\\xf6nhauser Allee']}"
       ]
      }
     ],
     "prompt_number": 29
    },
    {
     "cell_type": "code",
     "collapsed": false,
     "input": [
      "res_minstddev = {s:shortpathdict[(s,station_minstddev)] for s in groupe}\n",
      "res_minstddev"
     ],
     "language": "python",
     "metadata": {},
     "outputs": [
      {
       "metadata": {},
       "output_type": "pyout",
       "prompt_number": 30,
       "text": [
        "{u'Birkenstra\\xdfe': [u'Birkenstra\\xdfe',\n",
        "  u'Turmstra\\xdfe',\n",
        "  u'Hansaplatz',\n",
        "  u'Zoologischer Garten',\n",
        "  u'Savignyplatz',\n",
        "  u'Charlottenburg',\n",
        "  u'Westkreuz',\n",
        "  u'Grunewald',\n",
        "  u'Nikolassee',\n",
        "  u'Schlachtensee',\n",
        "  u'Mexikoplatz',\n",
        "  u'Zehlendorf',\n",
        "  u'Sundgauer Stra\\xdfe'],\n",
        " u'Sch\\xf6nhauser Allee': [u'Sch\\xf6nhauser Allee',\n",
        "  u'Gesundbrunnen',\n",
        "  u'Wedding',\n",
        "  u'Westhafen',\n",
        "  u'Beusselstra\\xdfe',\n",
        "  u'Jungfernheide',\n",
        "  u'Westend',\n",
        "  u'Messe Nord/ICC',\n",
        "  u'Westkreuz',\n",
        "  u'Grunewald',\n",
        "  u'Nikolassee',\n",
        "  u'Schlachtensee',\n",
        "  u'Mexikoplatz',\n",
        "  u'Zehlendorf',\n",
        "  u'Sundgauer Stra\\xdfe'],\n",
        " u'Sch\\xf6nleinstra\\xdfe': [u'Sch\\xf6nleinstra\\xdfe',\n",
        "  u'Kottbusser Tor',\n",
        "  u'Prinzenstra\\xdfe',\n",
        "  u'Hallesches Tor',\n",
        "  u'M\\xf6ckernbr\\xfccke',\n",
        "  u'Yorckstra\\xdfe',\n",
        "  u'S\\xfcdkreuz',\n",
        "  u'Sch\\xf6neberg',\n",
        "  u'Friedenau',\n",
        "  u'Feuerbachstra\\xdfe',\n",
        "  u'Rathaus Steglitz',\n",
        "  u'Botanischer Garten',\n",
        "  u'Lichterfelde West',\n",
        "  u'Sundgauer Stra\\xdfe']}"
       ]
      }
     ],
     "prompt_number": 30
    },
    {
     "cell_type": "markdown",
     "metadata": {},
     "source": [
      "Le premier r\u00e9sultat a l'air assez logique et le deuxi\u00e8me est un peu plus bizzard."
     ]
    },
    {
     "cell_type": "markdown",
     "metadata": {},
     "source": [
      "Visualisation du r\u00e9sultat.\n",
      "=====\n",
      "\n",
      "Maintenant que notre calcul est termin\u00e9 passons \u00e0 la visualisation du r\u00e9sultat. Je suppose que c'est la partie qui t'int\u00e9resse le plus, en effet c'est ce que verra notre utlisateur final.\n",
      "\n",
      "Nous allons simplement dessiner sur une carte le chemin de chaque el\u00e9ment du groupe jusqu'\u00e0 la sation calcul\u00e9e.\n",
      "\n",
      "Pour cela nous allons utiliser quelques outils fournis par **Google**.\n",
      "\n",
      "Tout d'abord obtenir la position sur une carte de toutes les stations entrant en compte dans les solutions \n"
     ]
    },
    {
     "cell_type": "code",
     "collapsed": false,
     "input": [
      "import json\n",
      "\n",
      "def geocode_raw(addr):\n",
      "        url = \"http://maps.googleapis.com/maps/api/geocode/json?address=\"+urllib2.quote(addr.encode('utf-8'))+\"&sensor=true\"\n",
      "        data = urllib2.urlopen(url).read()\n",
      "        if json.loads(data)['status'] == 'OK':\n",
      "            return [json.loads(data)['results'][0]['geometry']['location']['lat'],json.loads(data)['results'][0]['geometry']['location']['lng']]\n",
      "        else:\n",
      "            return -1,-1\n",
      "def geocode(addr):\n",
      "    for i in range(5):\n",
      "        pos = geocode_raw(addr)\n",
      "        if pos <> (-1,-1):\n",
      "            return pos\n",
      "        else:\n",
      "            print addr+\" %s\"%(i)\n",
      "\n",
      "res_stations_set = set([s for k in res_mindist for s in res_mindist[k]] + [s for k in res_minstddev for s in res_minstddev[k]])\n",
      "stations_pos = { s:geocode(s + \" station Berlin\") for s in res_stations_set}\n",
      "stations_pos"
     ],
     "language": "python",
     "metadata": {},
     "outputs": [
      {
       "metadata": {},
       "output_type": "pyout",
       "prompt_number": 75,
       "text": [
        "{u'Alexanderplatz': [52.521642, 13.411007],\n",
        " u'Beusselstra\\xdfe': [52.534354, 13.329042],\n",
        " u'Birkenstra\\xdfe': [52.532229, 13.341417],\n",
        " u'Botanischer Garten': [52.447784, 13.306766],\n",
        " u'Charlottenburg': [52.50472600000001, 13.303524],\n",
        " u'Eberswalder Stra\\xdfe': [52.541085, 13.41216],\n",
        " u'Feuerbachstra\\xdfe': [52.463546, 13.332575],\n",
        " u'Friedenau': [52.470586, 13.341388],\n",
        " u'Gesundbrunnen': [52.548963, 13.388513],\n",
        " u'Grunewald': [52.488693, 13.26172],\n",
        " u'Hallesches Tor': [52.497774, 13.39176],\n",
        " u'Hansaplatz': [52.518111, 13.342165],\n",
        " u'Heinrich-Heine-Stra\\xdfe': [52.510858, 13.416169],\n",
        " u'Jannowitzbr\\xfccke': [52.51427, 13.419347],\n",
        " u'Jungfernheide': [52.530375, 13.299446],\n",
        " u'Kottbusser Tor': [52.499249, 13.418167],\n",
        " u'Lichterfelde West': [52.44335, 13.293732],\n",
        " u'Messe Nord/ICC': [52.507525, 13.283445],\n",
        " u'Mexikoplatz': [52.436937, 13.232712],\n",
        " u'Moritzplatz': [52.503739, 13.410947],\n",
        " u'M\\xf6ckernbr\\xfccke': [52.49894399999999, 13.383256],\n",
        " u'Nikolassee': [52.431559, 13.193252],\n",
        " u'Prinzenstra\\xdfe': [52.49827399999999, 13.406531],\n",
        " u'Rathaus Steglitz': [52.455833, 13.322948],\n",
        " u'Rosa-Luxemburg-Platz': [52.528191, 13.410405],\n",
        " u'Savignyplatz': [52.505093, 13.319271],\n",
        " u'Schlachtensee': [52.43997599999999, 13.215025],\n",
        " u'Sch\\xf6neberg': [52.479377, 13.352068],\n",
        " u'Sch\\xf6nhauser Allee': [52.5492, 13.41546],\n",
        " u'Sch\\xf6nleinstra\\xdfe': [52.493179, 13.422241],\n",
        " u'Senefelderplatz': [52.532622, 13.412625],\n",
        " u'Sundgauer Stra\\xdfe': [52.436544, 13.274377],\n",
        " u'S\\xfcdkreuz': [52.47514899999999, 13.364989],\n",
        " u'Turmstra\\xdfe': [52.525837, 13.342401],\n",
        " u'Wedding': [52.543251, 13.36817],\n",
        " u'Westend': [52.51807, 13.284638],\n",
        " u'Westhafen': [52.53625, 13.344253],\n",
        " u'Westkreuz': [52.500671, 13.284063],\n",
        " u'Yorckstra\\xdfe': [52.49117, 13.372128],\n",
        " u'Zehlendorf': [52.431067, 13.258659],\n",
        " u'Zoologischer Garten': [52.50727699999999, 13.331992]}"
       ]
      }
     ],
     "prompt_number": 75
    },
    {
     "cell_type": "markdown",
     "metadata": {},
     "source": [
      "\n",
      "\n"
     ]
    },
    {
     "cell_type": "markdown",
     "metadata": {},
     "source": [
      "On a maitenant un tableau de correspondance qui nous donne la position (latitude et longitude de toutes les stations consid\u00e9r\u00e9es dans notre exemple).\n",
      "\n",
      "Il faut maitenant dessiner la carte. L\u00e0 j'avoue que c'est toute une partie technique de manipulation de l'API Google Map, sur laquelle je n'ai pas hyper envie de m'\u00e9tendre."
     ]
    },
    {
     "cell_type": "code",
     "collapsed": false,
     "input": [
      "from IPython.core import display"
     ],
     "language": "python",
     "metadata": {},
     "outputs": [],
     "prompt_number": 37
    },
    {
     "cell_type": "code",
     "collapsed": false,
     "input": [
      "%%javascript\n",
      "\n",
      "function verifyJSLoaded(){\n",
      "    var jsapiLoaded = (typeof google === 'object' && typeof google.maps === 'object');\n",
      "    console.log(\"Google API Loaded: \" + jsapiLoaded);\n",
      "    return jsapiLoaded;\n",
      "}\n",
      "\n",
      "function loadScript() {\n",
      "  if (!verifyJSLoaded()) {\n",
      "    console.log('Loading Google API.');\n",
      "    var script = document.createElement(\"script\");\n",
      "    script.type = \"text/javascript\";\n",
      "    script.src = \"https://maps.googleapis.com/maps/api/js?v=3.exp&sensor=false&callback=console.log\";\n",
      "    document.body.appendChild(script);\n",
      "  }\n",
      "}\n",
      "\n",
      "loadScript();"
     ],
     "language": "python",
     "metadata": {},
     "outputs": [
      {
       "javascript": [
        "\n",
        "function verifyJSLoaded(){\n",
        "    var jsapiLoaded = (typeof google === 'object' && typeof google.maps === 'object');\n",
        "    console.log(\"Google API Loaded: \" + jsapiLoaded);\n",
        "    return jsapiLoaded;\n",
        "}\n",
        "\n",
        "function loadScript() {\n",
        "  if (!verifyJSLoaded()) {\n",
        "    console.log('Loading Google API.');\n",
        "    var script = document.createElement(\"script\");\n",
        "    script.type = \"text/javascript\";\n",
        "    script.src = \"https://maps.googleapis.com/maps/api/js?v=3.exp&sensor=false&callback=console.log\";\n",
        "    document.body.appendChild(script);\n",
        "  }\n",
        "}\n",
        "\n",
        "loadScript();"
       ],
       "metadata": {},
       "output_type": "display_data",
       "text": [
        "<IPython.core.display.Javascript at 0x5b53fd0>"
       ]
      }
     ],
     "prompt_number": 33
    },
    {
     "cell_type": "code",
     "collapsed": false,
     "input": [
      "def googlemap_html():\n",
      "    html=\"\"\"\n",
      "<html>\n",
      "    <head>\n",
      "        <title>Remove Markers</title>\n",
      "        <style>\n",
      "            html, body, #map-canvas {\n",
      "            height: 100%;\n",
      "            margin: 0px;\n",
      "            padding: 0px\n",
      "            }\n",
      "            .gm-style img { max-width: none; }\n",
      "            .gm-style label { width: auto; display: inline; }\n",
      "            #panel {\n",
      "                position: absolute;\n",
      "                top: 10%;\n",
      "                right: 3%;\n",
      "                z-index: 5;\n",
      "                background-color: #fff;\n",
      "                padding: 5px;\n",
      "                border: 1px solid #999;\n",
      "            }\n",
      "        </style>\n",
      "    </head>\n",
      "    <body>\n",
      "        <div id=\"map-canvas\" style=\"width:1040px; height:600px\"></div>\n",
      "    </body>\n",
      "</html>\n",
      "    \"\"\"\n",
      "    return html"
     ],
     "language": "python",
     "metadata": {},
     "outputs": [],
     "prompt_number": 80
    },
    {
     "cell_type": "code",
     "collapsed": false,
     "input": [
      "def googlemap_jscript(center,zoom):\n",
      "    jscript = \"\"\"\n",
      "// In the following example, markers appear when the user clicks on the map.\n",
      "// The markers are stored in an array.\n",
      "// The user can then click an option to hide, show or delete the markers.\n",
      "var map;\n",
      "var markers = [];\n",
      "\n",
      "function initialize() {\n",
      "  var center = new google.maps.LatLng(%s, %s);\n",
      "  var mapOptions = {\n",
      "    zoom: %s,\n",
      "    center: center\n",
      "  };\n",
      "  map = new google.maps.Map(document.getElementById('map-canvas'),\n",
      "      mapOptions);\n",
      "}\n",
      "\n",
      "initialize();\n",
      "document.map = map;\n",
      "    \"\"\"\n",
      "    return jscript%(center[0],center[1],zoom)"
     ],
     "language": "python",
     "metadata": {},
     "outputs": [],
     "prompt_number": 116
    },
    {
     "cell_type": "code",
     "collapsed": false,
     "input": [
      "def googlemap_create():\n",
      "    return display.HTML(googlemap_html())\n",
      "\n",
      "def googlemap_init(center,zoom):\n",
      "    return display.Javascript(googlemap_jscript(center,zoom))"
     ],
     "language": "python",
     "metadata": {},
     "outputs": [],
     "prompt_number": 92
    },
    {
     "cell_type": "code",
     "collapsed": false,
     "input": [
      "googlemap_create()"
     ],
     "language": "python",
     "metadata": {},
     "outputs": [
      {
       "html": [
        "\n",
        "<html>\n",
        "    <head>\n",
        "        <title>Remove Markers</title>\n",
        "        <style>\n",
        "            html, body, #map-canvas {\n",
        "            height: 100%;\n",
        "            margin: 0px;\n",
        "            padding: 0px\n",
        "            }\n",
        "            .gm-style img { max-width: none; }\n",
        "            .gm-style label { width: auto; display: inline; }\n",
        "            #panel {\n",
        "                position: absolute;\n",
        "                top: 10%;\n",
        "                right: 3%;\n",
        "                z-index: 5;\n",
        "                background-color: #fff;\n",
        "                padding: 5px;\n",
        "                border: 1px solid #999;\n",
        "            }\n",
        "        </style>\n",
        "    </head>\n",
        "    <body>\n",
        "        <div id=\"map-canvas\" style=\"width:1040px; height:600px\"></div>\n",
        "    </body>\n",
        "</html>\n",
        "    "
       ],
       "metadata": {},
       "output_type": "pyout",
       "prompt_number": 93,
       "text": [
        "<IPython.core.display.HTML at 0x5d1fa90>"
       ]
      }
     ],
     "prompt_number": 93
    },
    {
     "cell_type": "code",
     "collapsed": false,
     "input": [
      "googlemap_init(stations_pos[u'Sch\\xf6nhauser Allee'],12)"
     ],
     "language": "python",
     "metadata": {},
     "outputs": [
      {
       "javascript": [
        "\n",
        "// In the following example, markers appear when the user clicks on the map.\n",
        "// The markers are stored in an array.\n",
        "// The user can then click an option to hide, show or delete the markers.\n",
        "var map;\n",
        "var markers = [];\n",
        "\n",
        "function initialize() {\n",
        "  var center = new google.maps.LatLng(52.5492, 13.41546);\n",
        "  var mapOptions = {\n",
        "    zoom: 12,\n",
        "    center: center\n",
        "  };\n",
        "  map = new google.maps.Map(document.getElementById('map-canvas'),\n",
        "      mapOptions);\n",
        "}\n",
        "\n",
        "initialize();\n",
        "document.map = map;\n",
        "    "
       ],
       "metadata": {},
       "output_type": "pyout",
       "prompt_number": 117,
       "text": [
        "<IPython.core.display.Javascript at 0x67b5ed0>"
       ]
      }
     ],
     "prompt_number": 117
    },
    {
     "cell_type": "code",
     "collapsed": false,
     "input": [
      "def polyline_jscript(positions,titles,color):\n",
      "    coords = [\"new google.maps.LatLng(%s,%s)\"%(p[0],p[1]) for p in positions]\n",
      "    titles = [\"'\"+t+\"'\" for t in titles]\n",
      "    coords_str = \",\\n\".join(coords)\n",
      "    titles_str = \",\\n\".join(titles)\n",
      "    \n",
      "    polylinejscript = \"\"\"\n",
      "    var flightPlanCoordinates = [\n",
      "        %s\n",
      "      ];\n",
      "    var titles = [\n",
      "        %s\n",
      "    ];\n",
      "    var flightPath = new google.maps.Polyline({\n",
      "        path: flightPlanCoordinates,\n",
      "        geodesic: true,\n",
      "        strokeColor: '%s',\n",
      "        strokeOpacity: 1.0,\n",
      "        strokeWeight: 2\n",
      "      });\n",
      "      \n",
      "    flightPath.setMap(document.map);\n",
      "      \n",
      "    for (var i = 0; i < flightPlanCoordinates.length; i++) {\n",
      "        var marker = new google.maps.Marker({\n",
      "            position: flightPlanCoordinates[i],\n",
      "            title: titles[i],\n",
      "            map: document.map\n",
      "        });\n",
      "        marker.setIcon('http://maps.google.com/mapfiles/ms/icons/green-dot.png');\n",
      "    }\n",
      "    \n",
      "    \"\"\"\n",
      "    return polylinejscript%(coords_str,titles_str,color)\n",
      "\n",
      "def googlemap_polyline(positions,titles,color):\n",
      "    return display.Javascript(polyline_jscript(positions,titles,color))"
     ],
     "language": "python",
     "metadata": {},
     "outputs": [],
     "prompt_number": 113
    },
    {
     "cell_type": "code",
     "collapsed": false,
     "input": [
      "for m in groupe:\n",
      "    googlemap_polyline([stations_pos[s] for s in res_mindist[m]],res_mindist[m],\"blue\")\n"
     ],
     "language": "python",
     "metadata": {},
     "outputs": [],
     "prompt_number": 118
    }
   ],
   "metadata": {}
  }
 ]
}