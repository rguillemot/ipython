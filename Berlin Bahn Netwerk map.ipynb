{
 "metadata": {
  "name": ""
 },
 "nbformat": 3,
 "nbformat_minor": 0,
 "worksheets": [
  {
   "cells": [
    {
     "cell_type": "code",
     "collapsed": false,
     "input": [
      "import IPython.core.display\n",
      "import time"
     ],
     "language": "python",
     "metadata": {},
     "outputs": [],
     "prompt_number": 168
    },
    {
     "cell_type": "code",
     "collapsed": false,
     "input": [
      "%%javascript\n",
      "\n",
      "function verifyJSLoaded(){\n",
      "    var jsapiLoaded = (typeof google === 'object' && typeof google.maps === 'object');\n",
      "    console.log(\"Google API Loaded: \" + jsapiLoaded);\n",
      "    return jsapiLoaded;\n",
      "}\n",
      "\n",
      "function loadScript() {\n",
      "  if (!verifyJSLoaded()) {\n",
      "    console.log('Loading Google API.');\n",
      "    var script = document.createElement(\"script\");\n",
      "    script.type = \"text/javascript\";\n",
      "    script.src = \"https://maps.googleapis.com/maps/api/js?v=3.exp&sensor=false&callback=console.log\";\n",
      "    document.body.appendChild(script);\n",
      "  }\n",
      "}\n",
      "\n",
      "loadScript();"
     ],
     "language": "python",
     "metadata": {},
     "outputs": [
      {
       "javascript": [
        "\n",
        "function verifyJSLoaded(){\n",
        "    var jsapiLoaded = (typeof google === 'object' && typeof google.maps === 'object');\n",
        "    console.log(\"Google API Loaded: \" + jsapiLoaded);\n",
        "    return jsapiLoaded;\n",
        "}\n",
        "\n",
        "function loadScript() {\n",
        "  if (!verifyJSLoaded()) {\n",
        "    console.log('Loading Google API.');\n",
        "    var script = document.createElement(\"script\");\n",
        "    script.type = \"text/javascript\";\n",
        "    script.src = \"https://maps.googleapis.com/maps/api/js?v=3.exp&sensor=false&callback=console.log\";\n",
        "    document.body.appendChild(script);\n",
        "  }\n",
        "}\n",
        "\n",
        "loadScript();"
       ],
       "metadata": {},
       "output_type": "display_data",
       "text": [
        "<IPython.core.display.Javascript at 0x2e5d2d0>"
       ]
      }
     ],
     "prompt_number": 1
    },
    {
     "cell_type": "code",
     "collapsed": false,
     "input": [
      "def googlemap_html():\n",
      "    html=\"\"\"\n",
      "<html>\n",
      "    <head>\n",
      "        <title>Remove Markers</title>\n",
      "        <style>\n",
      "            html, body, #map-canvas {\n",
      "            height: 100%;\n",
      "            margin: 0px;\n",
      "            padding: 0px\n",
      "            }\n",
      "            .gm-style img { max-width: none; }\n",
      "            .gm-style label { width: auto; display: inline; }\n",
      "            #panel {\n",
      "                position: absolute;\n",
      "                top: 10%;\n",
      "                right: 3%;\n",
      "                z-index: 5;\n",
      "                background-color: #fff;\n",
      "                padding: 5px;\n",
      "                border: 1px solid #999;\n",
      "            }\n",
      "        </style>\n",
      "    </head>\n",
      "    <body>\n",
      "        <div id=\"panel\">\n",
      "            <input type=button id=btnDel value=\"Delete Markers\">\n",
      "        </div>\n",
      "        <div id=\"map-canvas\" style=\"width:1040px; height:600px\"></div>\n",
      "        <p>Click on the map to add markers.</p>\n",
      "    </body>\n",
      "</html>\n",
      "    \"\"\"\n",
      "    return html"
     ],
     "language": "python",
     "metadata": {},
     "outputs": [],
     "prompt_number": 138
    },
    {
     "cell_type": "code",
     "collapsed": false,
     "input": [
      "def googlemap_jscript(center,zoom):\n",
      "    jscript = \"\"\"\n",
      "// In the following example, markers appear when the user clicks on the map.\n",
      "// The markers are stored in an array.\n",
      "// The user can then click an option to hide, show or delete the markers.\n",
      "var map;\n",
      "var markers = [];\n",
      "\n",
      "function initialize() {\n",
      "  var center = new google.maps.LatLng(%s, %s);\n",
      "  var mapOptions = {\n",
      "    zoom: %s,\n",
      "    center: center,\n",
      "  };\n",
      "  map = new google.maps.Map(document.getElementById('map-canvas'),\n",
      "      mapOptions);\n",
      "\n",
      "  google.maps.event.addListener(map, 'click', function(event) {\n",
      "    addMarker(event.latLng);\n",
      "  });\n",
      "}\n",
      "\n",
      "// Add a marker to the map and push to the array.\n",
      "function addMarker(location) {\n",
      "  var marker = new google.maps.Marker({\n",
      "    position: location,\n",
      "    map: map,\n",
      "    draggable: true\n",
      "  });\n",
      "  markers.push(marker);\n",
      "}\n",
      "\n",
      "// Sets the map on all markers in the array.\n",
      "function setAllMap(map) {\n",
      "  for (var i = 0; i < markers.length; i++) {\n",
      "    markers[i].setMap(map);\n",
      "  }\n",
      "}\n",
      "\n",
      "// Removes the markers from the map, but keeps them in the array.\n",
      "function clearMarkers() {\n",
      "  setAllMap(null);\n",
      "}\n",
      "\n",
      "// Deletes all markers in the array by removing references to them.\n",
      "function deleteMarkers() {\n",
      "  clearMarkers();\n",
      "  markers = [];\n",
      "}\n",
      "\n",
      "initialize();\n",
      "document.getElementById('btnDel').onclick = deleteMarkers;\n",
      "document.map = map;\n",
      "document.markers = markers;\n",
      "    \"\"\"\n",
      "    return jscript%(center[0],center[1],zoom)"
     ],
     "language": "python",
     "metadata": {},
     "outputs": [],
     "prompt_number": 152
    },
    {
     "cell_type": "code",
     "collapsed": false,
     "input": [
      "def googlemap_create():\n",
      "    return display.HTML(googlemap_html())\n",
      "\n",
      "def googlemap_init(center,zoom):\n",
      "    return display.Javascript(googlemap_jscript(center,zoom))"
     ],
     "language": "python",
     "metadata": {},
     "outputs": [],
     "prompt_number": 181
    },
    {
     "cell_type": "code",
     "collapsed": false,
     "input": [
      "googlemap_create()"
     ],
     "language": "python",
     "metadata": {},
     "outputs": [
      {
       "html": [
        "\n",
        "<html>\n",
        "    <head>\n",
        "        <title>Remove Markers</title>\n",
        "        <style>\n",
        "            html, body, #map-canvas {\n",
        "            height: 100%;\n",
        "            margin: 0px;\n",
        "            padding: 0px\n",
        "            }\n",
        "            .gm-style img { max-width: none; }\n",
        "            .gm-style label { width: auto; display: inline; }\n",
        "            #panel {\n",
        "                position: absolute;\n",
        "                top: 10%;\n",
        "                right: 3%;\n",
        "                z-index: 5;\n",
        "                background-color: #fff;\n",
        "                padding: 5px;\n",
        "                border: 1px solid #999;\n",
        "            }\n",
        "        </style>\n",
        "    </head>\n",
        "    <body>\n",
        "        <div id=\"panel\">\n",
        "            <input type=button id=btnDel value=\"Delete Markers\">\n",
        "        </div>\n",
        "        <div id=\"map-canvas\" style=\"width:1040px; height:600px\"></div>\n",
        "        <p>Click on the map to add markers.</p>\n",
        "    </body>\n",
        "</html>\n",
        "    "
       ],
       "metadata": {},
       "output_type": "pyout",
       "prompt_number": 214,
       "text": [
        "<IPython.core.display.HTML at 0x2facd10>"
       ]
      }
     ],
     "prompt_number": 214
    },
    {
     "cell_type": "code",
     "collapsed": false,
     "input": [
      "googlemap_init((lat,lon),14)"
     ],
     "language": "python",
     "metadata": {},
     "outputs": [
      {
       "javascript": [
        "\n",
        "// In the following example, markers appear when the user clicks on the map.\n",
        "// The markers are stored in an array.\n",
        "// The user can then click an option to hide, show or delete the markers.\n",
        "var map;\n",
        "var markers = [];\n",
        "\n",
        "function initialize() {\n",
        "  var center = new google.maps.LatLng(52.516506, 13.381815);\n",
        "  var mapOptions = {\n",
        "    zoom: 14,\n",
        "    center: center,\n",
        "  };\n",
        "  map = new google.maps.Map(document.getElementById('map-canvas'),\n",
        "      mapOptions);\n",
        "\n",
        "  google.maps.event.addListener(map, 'click', function(event) {\n",
        "    addMarker(event.latLng);\n",
        "  });\n",
        "}\n",
        "\n",
        "// Add a marker to the map and push to the array.\n",
        "function addMarker(location) {\n",
        "  var marker = new google.maps.Marker({\n",
        "    position: location,\n",
        "    map: map,\n",
        "    draggable: true\n",
        "  });\n",
        "  markers.push(marker);\n",
        "}\n",
        "\n",
        "// Sets the map on all markers in the array.\n",
        "function setAllMap(map) {\n",
        "  for (var i = 0; i < markers.length; i++) {\n",
        "    markers[i].setMap(map);\n",
        "  }\n",
        "}\n",
        "\n",
        "// Removes the markers from the map, but keeps them in the array.\n",
        "function clearMarkers() {\n",
        "  setAllMap(null);\n",
        "}\n",
        "\n",
        "// Deletes all markers in the array by removing references to them.\n",
        "function deleteMarkers() {\n",
        "  clearMarkers();\n",
        "  markers = [];\n",
        "}\n",
        "\n",
        "initialize();\n",
        "document.getElementById('btnDel').onclick = deleteMarkers;\n",
        "document.map = map;\n",
        "document.markers = markers;\n",
        "    "
       ],
       "metadata": {},
       "output_type": "pyout",
       "prompt_number": 215,
       "text": [
        "<IPython.core.display.Javascript at 0x2fac610>"
       ]
      }
     ],
     "prompt_number": 215
    },
    {
     "cell_type": "code",
     "collapsed": false,
     "input": [
      "positions = []\n",
      "def add_positions(lat,lng):\n",
      "    global positions\n",
      "    print \"add: (%s,%s)\"%(lat,lng)\n",
      "    positions += [(lat,lng)]"
     ],
     "language": "python",
     "metadata": {},
     "outputs": [],
     "prompt_number": 219
    },
    {
     "cell_type": "code",
     "collapsed": false,
     "input": [
      "%%javascript\n",
      "\n",
      "var kernel = IPython.notebook.kernel;\n",
      "\n",
      "for (var i=0;i<document.markers.length;++i) {\n",
      "    var command = \"add_positions(\" + document.markers[i].position.lat() + \",\" + document.markers[i].position.lng() + \")\";\n",
      "    console.log(command)\n",
      "    kernel.execute(command);\n",
      "}"
     ],
     "language": "python",
     "metadata": {},
     "outputs": [
      {
       "javascript": [
        "\n",
        "var kernel = IPython.notebook.kernel;\n",
        "\n",
        "for (var i=0;i<document.markers.length;++i) {\n",
        "    var command = \"add_positions(\" + document.markers[i].position.lat() + \",\" + document.markers[i].position.lng() + \")\";\n",
        "    console.log(command)\n",
        "    kernel.execute(command);\n",
        "}"
       ],
       "metadata": {},
       "output_type": "display_data",
       "text": [
        "<IPython.core.display.Javascript at 0x2f6ed90>"
       ]
      }
     ],
     "prompt_number": 220
    },
    {
     "cell_type": "code",
     "collapsed": false,
     "input": [
      "positions"
     ],
     "language": "python",
     "metadata": {},
     "outputs": [
      {
       "metadata": {},
       "output_type": "pyout",
       "prompt_number": 221,
       "text": [
        "[(52.518469356015025, 13.351914880913682),\n",
        " (52.522856327586354, 13.38693380181212),\n",
        " (52.51152242173904, 13.387706278008409)]"
       ]
      }
     ],
     "prompt_number": 221
    },
    {
     "cell_type": "code",
     "collapsed": false,
     "input": [
      "def polyline_jscript(positions,titles,color):\n",
      "    coords = [\"new google.maps.LatLng(%s,%s)\"%(p[0],p[1]) for p in positions]\n",
      "    coords_str = \",\\n\".join(coords)\n",
      "    \n",
      "    polylinejscript = \"\"\"\n",
      "    var flightPlanCoordinates = [\n",
      "        %s\n",
      "      ];\n",
      "      var flightPath = new google.maps.Polyline({\n",
      "        path: flightPlanCoordinates,\n",
      "        geodesic: true,\n",
      "        strokeColor: '%s',\n",
      "        strokeOpacity: 1.0,\n",
      "        strokeWeight: 2\n",
      "      });\n",
      "      \n",
      "    flightPath.setMap(document.map);\n",
      "      \n",
      "    for (var i = 0; i < flightPlanCoordinates.length; i++) {\n",
      "        var marker = new google.maps.Marker({\n",
      "            position: flightPlanCoordinates[i],\n",
      "            map: document.map\n",
      "        });\n",
      "        marker.setIcon('http://maps.google.com/mapfiles/ms/icons/green-dot.png')\n",
      "    }\n",
      "    \n",
      "    \"\"\"\n",
      "    return polylinejscript%(coords_str,color)\n",
      "\n",
      "def googlemap_polyline(positions,color):\n",
      "    return display.Javascript(polyline_jscript(positions,color))"
     ],
     "language": "python",
     "metadata": {},
     "outputs": [],
     "prompt_number": 223
    },
    {
     "cell_type": "code",
     "collapsed": false,
     "input": [
      "googlemap_polyline(positions,'blue')"
     ],
     "language": "python",
     "metadata": {},
     "outputs": [
      {
       "javascript": [
        "\n",
        "    var flightPlanCoordinates = [\n",
        "        new google.maps.LatLng(52.518469356,13.3519148809),\n",
        "new google.maps.LatLng(52.5228563276,13.3869338018),\n",
        "new google.maps.LatLng(52.5115224217,13.387706278)\n",
        "      ];\n",
        "      var flightPath = new google.maps.Polyline({\n",
        "        path: flightPlanCoordinates,\n",
        "        geodesic: true,\n",
        "        strokeColor: 'blue',\n",
        "        strokeOpacity: 1.0,\n",
        "        strokeWeight: 2\n",
        "      });\n",
        "      \n",
        "    flightPath.setMap(document.map);\n",
        "      \n",
        "    for (var i = 0; i < flightPlanCoordinates.length; i++) {\n",
        "        var marker = new google.maps.Marker({\n",
        "            position: flightPlanCoordinates[i],\n",
        "            map: document.map\n",
        "        });\n",
        "        marker.setIcon('http://maps.google.com/mapfiles/ms/icons/green-dot.png')\n",
        "    }\n",
        "    \n",
        "    "
       ],
       "metadata": {},
       "output_type": "pyout",
       "prompt_number": 222,
       "text": [
        "<IPython.core.display.Javascript at 0x2facdd0>"
       ]
      }
     ],
     "prompt_number": 222
    },
    {
     "cell_type": "code",
     "collapsed": false,
     "input": [
      "display.Javascript(polylyne_jscript(positions))"
     ],
     "language": "python",
     "metadata": {},
     "outputs": [
      {
       "javascript": [
        "\n",
        "    var flightPlanCoordinates = [\n",
        "        new google.maps.LatLng(52.5324060519,13.3442974021),\n",
        "new google.maps.LatLng(52.5271497393,13.467206948),\n",
        "new google.maps.LatLng(52.503749782,13.3580303122)\n",
        "      ];\n",
        "      var flightPath = new google.maps.Polyline({\n",
        "        path: flightPlanCoordinates,\n",
        "        geodesic: true,\n",
        "        strokeColor: '#FF0000',\n",
        "        strokeOpacity: 1.0,\n",
        "        strokeWeight: 2\n",
        "      });\n",
        "    \n",
        "      flightPath.setMap(document.map);\n",
        "    "
       ],
       "metadata": {},
       "output_type": "pyout",
       "prompt_number": 107,
       "text": [
        "<IPython.core.display.Javascript at 0x2fac790>"
       ]
      }
     ],
     "prompt_number": 107
    },
    {
     "cell_type": "code",
     "collapsed": false,
     "input": [
      "import urllib\n",
      "import json\n",
      "def geocode_raw(addr):\n",
      "        url = \"http://maps.googleapis.com/maps/api/geocode/json?address=\"+urllib.quote(addr.encode('utf-8'))+\"&sensor=true\"\n",
      "        data = urllib.urlopen(url).read()\n",
      "        if json.loads(data)['status'] == 'OK':\n",
      "            return [json.loads(data)['results'][0]['geometry']['location']['lat'],json.loads(data)['results'][0]['geometry']['location']['lng']]\n",
      "        else:\n",
      "            return -1,-1\n",
      "def geocode(addr):\n",
      "    for i in range(5):\n",
      "        pos = geocode_raw(addr)\n",
      "        if pos <> (-1,-1):\n",
      "            return pos\n",
      "        else:\n",
      "            print addr+\" %s\"%(i)\n",
      "data = geocode(u'Brandburger T\u00f6r'+ \" station Berlin\")\n",
      "lat = data[0]\n",
      "lon = data[1]\n",
      "(lat,lon)"
     ],
     "language": "python",
     "metadata": {},
     "outputs": [
      {
       "metadata": {},
       "output_type": "pyout",
       "prompt_number": 75,
       "text": [
        "(52.516506, 13.381815)"
       ]
      }
     ],
     "prompt_number": 75
    },
    {
     "cell_type": "code",
     "collapsed": false,
     "input": [
      "jscript = \"\"\"\n",
      "document.map.setCenter(new google.maps.LatLng(%s,%s));\n",
      "\"\"\"\n",
      "print jscript%(lat,lon)\n",
      "display.Javascript(jscript%(lat,lon))"
     ],
     "language": "python",
     "metadata": {},
     "outputs": [
      {
       "output_type": "stream",
       "stream": "stdout",
       "text": [
        "\n",
        "document.map.setCenter(new google.maps.LatLng(52.516506,13.381815));\n",
        "\n"
       ]
      },
      {
       "javascript": [
        "\n",
        "document.map.setCenter(new google.maps.LatLng(52.516506,13.381815));\n"
       ],
       "metadata": {},
       "output_type": "pyout",
       "prompt_number": 101,
       "text": [
        "<IPython.core.display.Javascript at 0x2fac690>"
       ]
      }
     ],
     "prompt_number": 101
    }
   ],
   "metadata": {}
  }
 ]
}