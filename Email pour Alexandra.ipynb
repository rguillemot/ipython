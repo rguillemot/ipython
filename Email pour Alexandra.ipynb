{
 "metadata": {
  "name": ""
 },
 "nbformat": 3,
 "nbformat_minor": 0,
 "worksheets": [
  {
   "cells": [
    {
     "cell_type": "markdown",
     "metadata": {},
     "source": [
      "Ma ch\u00e8re Alexandra,\n",
      "======\n",
      "Suite \u00e0 notre conversation de vendredi dernier, je voulais d\u00e9velopper un petit peu plus ce que je t'ai dit.\n",
      "Le but de notre projet est de d\u00e9terminer la station de m\u00e9tro qui permettrait \u00e0 un groupe de personnes de se retrouver le plus \"facilement\".\n",
      "L'adverbe *\"facilement\"* est ici une notion un peu subjective, mais j'y reviendrais un peu plus tard.\n",
      "\n",
      "J'ai r\u00e9alis\u00e9 une petite maquette afin de rassembler les diff\u00e9rents \u00e9l\u00e9ments dont nous pourrions avoir besoins au cours de notre projet.\n",
      "\n",
      "Je propose d'utiliser Berlin et son r\u00e9seau de transport en commun (U-Bahn et S-Bahn) comme environnement de test.\n",
      "\n",
      "Ma maquette est compos\u00e9e de 3 briques :\n",
      "\n",
      "* r\u00e9cup\u00e9rer les informations pulbiques sur le r\u00e9seau de transport en commun de Berlin\n",
      "* construite le graph du r\u00e9seau de transport \u00e0 partir duquel calculera la station de transport la plus adapt\u00e9e \u00e0 notre groupe d'utlisateur.\n",
      "* visualiser le r\u00e9sultat de notre calcul.\n",
      "\n",
      "Pour cette petite pr\u00e9sentation, je vais utliser **IPython**. C'est un environement de d\u00e9veloppement assez pratique qui permet de m\u00e9langer du texte, des images et du code. Je vais donc utliser le langage de programation **Python** qui dispose de librairies qui seront tr\u00e8s utiles \u00e0 notre projet.\n",
      "\n",
      "Allons y !"
     ]
    },
    {
     "cell_type": "markdown",
     "metadata": {},
     "source": [
      "Les informations publiques du r\u00e9seau de transport en commun de Berlin.\n",
      "========\n",
      "\n",
      "Pour faire simple je vais t\u00e9l\u00e9charger les informations que tu peux t\u00e9l\u00e9chager sur le site de la BVG.\n",
      "Malheureusement il n'y a pas un site commun pour le U-Bahn et le S-Bahn.\n"
     ]
    },
    {
     "cell_type": "code",
     "collapsed": false,
     "input": [
      "from IPython.display import HTML\n",
      "HTML('<iframe src=http://www.bvg.de/index.php/de/3717/name/U-Bahn.html width=1000 height=350></iframe>')"
     ],
     "language": "python",
     "metadata": {},
     "outputs": [
      {
       "html": [
        "<iframe src=http://www.bvg.de/index.php/de/3717/name/U-Bahn.html width=1000 height=350></iframe>"
       ],
       "metadata": {},
       "output_type": "pyout",
       "prompt_number": 1,
       "text": [
        "<IPython.core.display.HTML at 0x3d34bd0>"
       ]
      }
     ],
     "prompt_number": 1
    },
    {
     "cell_type": "code",
     "collapsed": false,
     "input": [
      "from IPython.display import HTML\n",
      "HTML('<iframe src=http://www.s-bahn-berlin.de/fahrplanundnetz/linien width=1000 height=350></iframe>')"
     ],
     "language": "python",
     "metadata": {},
     "outputs": [
      {
       "html": [
        "<iframe src=http://www.s-bahn-berlin.de/fahrplanundnetz/linien width=1000 height=350></iframe>"
       ],
       "metadata": {},
       "output_type": "pyout",
       "prompt_number": 2,
       "text": [
        "<IPython.core.display.HTML at 0x3d34d90>"
       ]
      }
     ],
     "prompt_number": 2
    },
    {
     "cell_type": "markdown",
     "metadata": {},
     "source": [
      "Python propose 2 librairies compl\u00e9mentaires pour aspirer les pages web:\n",
      "\n",
      "* **urllib** pour t\u00e9l\u00e9charger les pages HTML\n",
      "* **Beautiful Soup** (rigolo comme nom ?) pour extraire des informations du code HTML (Tu sais ce que sais o\u00f9 bien ?)\n",
      "\n",
      "**import** c'est la fonction Python pour charger les librairies"
     ]
    },
    {
     "cell_type": "code",
     "collapsed": false,
     "input": [
      "import urllib2\n",
      "from bs4 import BeautifulSoup"
     ],
     "language": "python",
     "metadata": {},
     "outputs": [],
     "prompt_number": 3
    },
    {
     "cell_type": "markdown",
     "metadata": {},
     "source": [
      "On va travailler en 2 temps:\n",
      "\n",
      "* On va r\u00e9cup\u00e9rer la liste de toutes les lignes.\n",
      "* On va r\u00e9cup\u00e9rer la liste de toutes les stations pour chaque ligne."
     ]
    },
    {
     "cell_type": "markdown",
     "metadata": {},
     "source": [
      "Le morceau de code ci dessous r\u00e9cup\u00e8re la liste des lignes de U-Bahn et de S-Bahn."
     ]
    },
    {
     "cell_type": "code",
     "collapsed": false,
     "input": [
      "html = urllib2.urlopen('http://www.bvg.de/index.php/de/3717/name/U-Bahn.html')\n",
      "soup = BeautifulSoup(html)\n",
      "ul = soup.find(\"ul\", {\"class\":\"link_list list_navheader\"})\n",
      "linien = ul.find_all(\"a\")\n",
      "ubahn_linie_urls={s.text.split(\" \")[-1]:s[\"href\"] for s in linien[:-1]}\n",
      "\n",
      "html = urllib2.urlopen('http://www.s-bahn-berlin.de/fahrplanundnetz/linien')\n",
      "soup = BeautifulSoup(html)\n",
      "section = soup.find(\"section\", {\"id\":\"content-middle\"})\n",
      "linien = section.find_all(\"a\", {\"class\":\"plainlink\"})\n",
      "sbahn_linie_urls={s[\"href\"].split(\"/\")[-2]:\"http://www.s-bahn-berlin.de/\"+s['href'] for s in linien}"
     ],
     "language": "python",
     "metadata": {},
     "outputs": [],
     "prompt_number": 4
    },
    {
     "cell_type": "markdown",
     "metadata": {},
     "source": [
      "Je suis d'accord \u00e7a a l'air un peu cryptique, mais tu peux au moins me reconna\u00eetre que c'est court. Tu peux voir ci dessous que \u00e7a a march\u00e9. Parce que bon tu pourrais t'imaginer, apr\u00e8s tout ce que tu as d\u00e9ja lu, que je te raconte des craques ...."
     ]
    },
    {
     "cell_type": "code",
     "collapsed": false,
     "input": [
      "dict(ubahn_linie_urls.items()+sbahn_linie_urls.items())\n"
     ],
     "language": "python",
     "metadata": {},
     "outputs": [
      {
       "metadata": {},
       "output_type": "pyout",
       "prompt_number": 10,
       "text": [
        "{u'U1': 'http://www.bvg.de/index.php/de/3729/name/U-Bahnlinie+U1.html',\n",
        " u'U2': 'http://www.bvg.de/index.php/de/3730/name/U-Bahnlinie+U2.html',\n",
        " u'U3': 'http://www.bvg.de/index.php/de/3731/name/U-Bahnlinie+U3.html',\n",
        " u'U4': 'http://www.bvg.de/index.php/de/3732/name/U-Bahnlinie+U4.html',\n",
        " u'U5': 'http://www.bvg.de/index.php/de/3733/name/U-Bahnlinie+U5.html',\n",
        " u'U55': 'http://www.bvg.de/index.php/de/470021/name/U-Bahnlinie+U55.html',\n",
        " u'U6': 'http://www.bvg.de/index.php/de/3734/name/U-Bahnlinie+U6.html',\n",
        " u'U7': 'http://www.bvg.de/index.php/de/3735/name/U-Bahnlinie+U7.html',\n",
        " u'U8': 'http://www.bvg.de/index.php/de/3736/name/U-Bahnlinie+U8.html',\n",
        " u'U9': 'http://www.bvg.de/index.php/de/3737/name/U-Bahnlinie+U9.html',\n",
        " 's1': 'http://www.s-bahn-berlin.de/fahrplanundnetz/linie/s1/1',\n",
        " 's2': 'http://www.s-bahn-berlin.de/fahrplanundnetz/linie/s2/2',\n",
        " 's25': 'http://www.s-bahn-berlin.de/fahrplanundnetz/linie/s25/14',\n",
        " 's3': 'http://www.s-bahn-berlin.de/fahrplanundnetz/linie/s3/4',\n",
        " 's41': 'http://www.s-bahn-berlin.de/fahrplanundnetz/linie/s41/5',\n",
        " 's42': 'http://www.s-bahn-berlin.de/fahrplanundnetz/linie/s42/6',\n",
        " 's45': 'http://www.s-bahn-berlin.de/fahrplanundnetz/linie/s45/17',\n",
        " 's46': 'http://www.s-bahn-berlin.de/fahrplanundnetz/linie/s46/7',\n",
        " 's47': 'http://www.s-bahn-berlin.de/fahrplanundnetz/linie/s47/9',\n",
        " 's5': 'http://www.s-bahn-berlin.de/fahrplanundnetz/linie/s5/8',\n",
        " 's7': 'http://www.s-bahn-berlin.de/fahrplanundnetz/linie/s7/10',\n",
        " 's75': 'http://www.s-bahn-berlin.de/fahrplanundnetz/linie/s75/11',\n",
        " 's8': 'http://www.s-bahn-berlin.de/fahrplanundnetz/linie/s8/12',\n",
        " 's85': 'http://www.s-bahn-berlin.de/fahrplanundnetz/linie/s85/13',\n",
        " 's9': 'http://www.s-bahn-berlin.de/fahrplanundnetz/linie/s9/15'}"
       ]
      }
     ],
     "prompt_number": 10
    },
    {
     "cell_type": "markdown",
     "metadata": {},
     "source": [
      "Ensuite on r\u00e9cup\u00e8re toutes les stations de chacune des lignes."
     ]
    },
    {
     "cell_type": "code",
     "collapsed": false,
     "input": [
      "def get_stations_from_uline(line_url):\n",
      "    print line_url[1]\n",
      "    html = urllib2.urlopen(line_url[1])\n",
      "    soup = BeautifulSoup(html)\n",
      "    line_table = soup.find(\"table\",{\"id\":\"line_detail_table\"})\n",
      "    stations = line_table.find_all(\"a\", {\"class\" : \"link_arrow\"})\n",
      "    return line_url[0],[s.text for s in stations]\n",
      "\n",
      "def get_stations_from_sline(line_url):\n",
      "    print line_url[1]\n",
      "    html = urllib2.urlopen(line_url[1])\n",
      "    soup = BeautifulSoup(html)\n",
      "    section = soup.find(\"section\", {\"id\":\"content-middle\"})\n",
      "    stations = section.find_all(\"a\", {\"intern\"})\n",
      "    return line_url[0],[s.text for s in stations]\n",
      "\n",
      "ubahn_stations = dict([get_stations_from_uline((url, ubahn_linie_urls[url])) for url in ubahn_linie_urls])\n",
      "\n",
      "sbahn_stations = dict([get_stations_from_sline((url, sbahn_linie_urls[url])) for url in sbahn_linie_urls])\n",
      "\n",
      "all_stations = dict(ubahn_stations.items()+sbahn_stations.items())\n"
     ],
     "language": "python",
     "metadata": {},
     "outputs": [
      {
       "output_type": "stream",
       "stream": "stdout",
       "text": [
        "http://www.bvg.de/index.php/de/3737/name/U-Bahnlinie+U9.html\n",
        "http://www.bvg.de/index.php/de/3736/name/U-Bahnlinie+U8.html"
       ]
      },
      {
       "output_type": "stream",
       "stream": "stdout",
       "text": [
        "\n",
        "http://www.bvg.de/index.php/de/3733/name/U-Bahnlinie+U5.html"
       ]
      },
      {
       "output_type": "stream",
       "stream": "stdout",
       "text": [
        "\n",
        "http://www.bvg.de/index.php/de/3732/name/U-Bahnlinie+U4.html"
       ]
      },
      {
       "output_type": "stream",
       "stream": "stdout",
       "text": [
        "\n",
        "http://www.bvg.de/index.php/de/3735/name/U-Bahnlinie+U7.html"
       ]
      },
      {
       "output_type": "stream",
       "stream": "stdout",
       "text": [
        "\n",
        "http://www.bvg.de/index.php/de/3734/name/U-Bahnlinie+U6.html"
       ]
      },
      {
       "output_type": "stream",
       "stream": "stdout",
       "text": [
        "\n",
        "http://www.bvg.de/index.php/de/3729/name/U-Bahnlinie+U1.html"
       ]
      },
      {
       "output_type": "stream",
       "stream": "stdout",
       "text": [
        "\n",
        "http://www.bvg.de/index.php/de/3731/name/U-Bahnlinie+U3.html"
       ]
      },
      {
       "output_type": "stream",
       "stream": "stdout",
       "text": [
        "\n",
        "http://www.bvg.de/index.php/de/3730/name/U-Bahnlinie+U2.html"
       ]
      },
      {
       "output_type": "stream",
       "stream": "stdout",
       "text": [
        "\n",
        "http://www.bvg.de/index.php/de/470021/name/U-Bahnlinie+U55.html"
       ]
      },
      {
       "output_type": "stream",
       "stream": "stdout",
       "text": [
        "\n",
        "http://www.s-bahn-berlin.de/fahrplanundnetz/linie/s9/15"
       ]
      },
      {
       "output_type": "stream",
       "stream": "stdout",
       "text": [
        "\n",
        "http://www.s-bahn-berlin.de/fahrplanundnetz/linie/s8/12"
       ]
      },
      {
       "output_type": "stream",
       "stream": "stdout",
       "text": [
        "\n",
        "http://www.s-bahn-berlin.de/fahrplanundnetz/linie/s3/4"
       ]
      },
      {
       "output_type": "stream",
       "stream": "stdout",
       "text": [
        "\n",
        "http://www.s-bahn-berlin.de/fahrplanundnetz/linie/s2/2"
       ]
      },
      {
       "output_type": "stream",
       "stream": "stdout",
       "text": [
        "\n",
        "http://www.s-bahn-berlin.de/fahrplanundnetz/linie/s1/1"
       ]
      },
      {
       "output_type": "stream",
       "stream": "stdout",
       "text": [
        "\n",
        "http://www.s-bahn-berlin.de/fahrplanundnetz/linie/s7/10"
       ]
      },
      {
       "output_type": "stream",
       "stream": "stdout",
       "text": [
        "\n",
        "http://www.s-bahn-berlin.de/fahrplanundnetz/linie/s5/8"
       ]
      },
      {
       "output_type": "stream",
       "stream": "stdout",
       "text": [
        "\n",
        "http://www.s-bahn-berlin.de/fahrplanundnetz/linie/s45/17"
       ]
      },
      {
       "output_type": "stream",
       "stream": "stdout",
       "text": [
        "\n",
        "http://www.s-bahn-berlin.de/fahrplanundnetz/linie/s46/7"
       ]
      },
      {
       "output_type": "stream",
       "stream": "stdout",
       "text": [
        "\n",
        "http://www.s-bahn-berlin.de/fahrplanundnetz/linie/s47/9"
       ]
      },
      {
       "output_type": "stream",
       "stream": "stdout",
       "text": [
        "\n",
        "http://www.s-bahn-berlin.de/fahrplanundnetz/linie/s41/5"
       ]
      },
      {
       "output_type": "stream",
       "stream": "stdout",
       "text": [
        "\n",
        "http://www.s-bahn-berlin.de/fahrplanundnetz/linie/s42/6"
       ]
      },
      {
       "output_type": "stream",
       "stream": "stdout",
       "text": [
        "\n",
        "http://www.s-bahn-berlin.de/fahrplanundnetz/linie/s25/14"
       ]
      },
      {
       "output_type": "stream",
       "stream": "stdout",
       "text": [
        "\n",
        "http://www.s-bahn-berlin.de/fahrplanundnetz/linie/s75/11"
       ]
      },
      {
       "output_type": "stream",
       "stream": "stdout",
       "text": [
        "\n",
        "http://www.s-bahn-berlin.de/fahrplanundnetz/linie/s85/13"
       ]
      },
      {
       "output_type": "stream",
       "stream": "stdout",
       "text": [
        "\n"
       ]
      }
     ],
     "prompt_number": 6
    },
    {
     "cell_type": "markdown",
     "metadata": {},
     "source": [
      "Ils sont un peu relouds \u00e0 la BVG, on est oblig\u00e9 de code diff\u00e9rents pour le U-Bahn et le  S-Bahn.\n",
      "Je ne te montre pas la totalit\u00e9 de ce que j'ai t\u00e9l\u00e9charg\u00e9 parce que c'est trop gros mais juste la ligne U2 que je pense que tu connais bien."
     ]
    },
    {
     "cell_type": "code",
     "collapsed": false,
     "input": [
      "all_stations[\"U2\"]"
     ],
     "language": "python",
     "metadata": {},
     "outputs": [
      {
       "metadata": {},
       "output_type": "pyout",
       "prompt_number": 7,
       "text": [
        "[u'\\nS+U Pankow',\n",
        " u'\\nU Vinetastra\\xdfe',\n",
        " u'\\nS+U Sch\\xf6nhauser Allee',\n",
        " u'\\nU Eberswalder Stra\\xdfe',\n",
        " u'\\nU Senefelderplatz',\n",
        " u'\\nU Rosa-Luxemburg-Platz',\n",
        " u'\\nS+U Alexanderplatz',\n",
        " u'\\nU Klosterstra\\xdfe',\n",
        " u'\\nU M\\xe4rkisches Museum',\n",
        " u'\\nU Spittelmarkt',\n",
        " u'\\nU Hausvogteiplatz',\n",
        " u'\\nU Stadtmitte',\n",
        " u'\\nU Mohrenstra\\xdfe',\n",
        " u'\\nS+U Potsdamer Platz',\n",
        " u'\\nU Mendelssohn-Bartholdy-Park',\n",
        " u'\\nU Gleisdreieck',\n",
        " u'\\nU B\\xfclowstra\\xdfe',\n",
        " u'\\nU Nollendorfplatz',\n",
        " u'\\nU Wittenbergplatz',\n",
        " u'\\nS+U Zoologischer Garten',\n",
        " u'\\nU Ernst-Reuter-Platz',\n",
        " u'\\nU Deutsche Oper',\n",
        " u'\\nU Bismarckstra\\xdfe',\n",
        " u'\\nU Sophie-Charlotte-Platz',\n",
        " u'\\nU Kaiserdamm',\n",
        " u'\\nU Theodor-Heuss-Platz',\n",
        " u'\\nU Neu-Westend',\n",
        " u'\\nU Olympia-Stadion',\n",
        " u'\\nU Ruhleben']"
       ]
      }
     ],
     "prompt_number": 7
    },
    {
     "cell_type": "markdown",
     "metadata": {},
     "source": [
      "Comme tu peux le constater j'ai cr\u00e9\u00e9 un petit dictionnaire qui associe au nom de chaque ligne toutes les stations.\n",
      "\n",
      "J'en profite pour faire un peu de nettoyage parce que la BVG ils ont une nomenclature des stations un peu h\u00e9l\u00e9rog\u00e8ne d'une station \u00e0 l'autre."
     ]
    },
    {
     "cell_type": "code",
     "collapsed": false,
     "input": [
      "for line_key in all_stations:\n",
      "    for i in range(len(all_stations[line_key])):\n",
      "        all_stations[line_key][i] = all_stations[line_key][i].replace(\"\\n\",\"\").replace('U ', '').replace('S+','').replace('S+U ','')"
     ],
     "language": "python",
     "metadata": {},
     "outputs": [],
     "prompt_number": 8
    },
    {
     "cell_type": "markdown",
     "metadata": {},
     "source": [
      "On sauvegarde tout dans un fichier."
     ]
    },
    {
     "cell_type": "code",
     "collapsed": false,
     "input": [
      "import pickle\n",
      "output = open('all_stations.pkl', 'wb')\n",
      "pickle.dump(all_stations,output)\n",
      "output.close()"
     ],
     "language": "python",
     "metadata": {},
     "outputs": [],
     "prompt_number": 184
    },
    {
     "cell_type": "markdown",
     "metadata": {},
     "source": [
      "La premi\u00e8re \u00e9tape est termin\u00e9e. Il faut maintenant **calculer**."
     ]
    },
    {
     "cell_type": "markdown",
     "metadata": {},
     "source": [
      "Le graphe du reseau de transport berlinois.\n",
      "=====\n",
      "J'avoue que c'est l'\u00e9tape de notre projet que je pr\u00e9f\u00e8re: les calculs.\n",
      "\n",
      "Mais bon \u00e7a ne va pas \u00eatre bien compliqu\u00e9 vu que l'on ne vas rien faire et tout faire \u00e0 la librairie **pygraph**, une libraire de manipulation de graphes."
     ]
    },
    {
     "cell_type": "code",
     "collapsed": false,
     "input": [
      "from pygraph.classes.graph import graph"
     ],
     "language": "python",
     "metadata": {},
     "outputs": [],
     "prompt_number": 11
    },
    {
     "cell_type": "markdown",
     "metadata": {},
     "source": [
      "C'est tr\u00e8s simple on cr\u00e9e un noeud pour chaque station et on connecte les noeuds suivant qu'elle soient voisines sur une ligne."
     ]
    },
    {
     "cell_type": "code",
     "collapsed": false,
     "input": [
      "# On cr\u00e9e tous les noeuds\n",
      "gr = graph()\n",
      "\n",
      "for line_key in all_stations:\n",
      "    for s in all_stations[line_key]:\n",
      "        if not gr.has_node(s):\n",
      "            gr.add_node(s)\n",
      "\n",
      "# On connecte tous les noeuds en utlisant les lignes.            \n",
      "for line_key in all_stations:\n",
      "    for i in range(len(all_stations[line_key])-1):\n",
      "            if not gr.has_edge((all_stations[line_key][i],all_stations[line_key][i+1])):\n",
      "                    gr.add_edge((all_stations[line_key][i],all_stations[line_key][i+1]))"
     ],
     "language": "python",
     "metadata": {},
     "outputs": [],
     "prompt_number": 12
    },
    {
     "cell_type": "markdown",
     "metadata": {},
     "source": [
      "Comme tu peux le voir ci dessous il y a 311 stations dans notre graph. Il faut garder ce chiffre en t\u00eate."
     ]
    },
    {
     "cell_type": "code",
     "collapsed": false,
     "input": [
      "len(gr.nodes())"
     ],
     "language": "python",
     "metadata": {},
     "outputs": [
      {
       "metadata": {},
       "output_type": "pyout",
       "prompt_number": 13,
       "text": [
        "311"
       ]
      }
     ],
     "prompt_number": 13
    },
    {
     "cell_type": "markdown",
     "metadata": {},
     "source": [
      "Ensuite la librairie **pygraph** calcule le plus court chemin entre 2 stations pour nous."
     ]
    },
    {
     "cell_type": "code",
     "collapsed": false,
     "input": [
      "from pygraph.algorithms.minmax import shortest_path\n",
      "\n",
      "def shortpathdict_create(stations):\n",
      "    dict_path = {}\n",
      "    for n in stations:\n",
      "        paths = shortest_path(gr,n)\n",
      "        for d in paths[1].keys():\n",
      "            cur = d\n",
      "            path = []\n",
      "            while cur <> None:\n",
      "                path = [cur] + path\n",
      "                cur=paths[0][cur]\n",
      "            dict_path.update({(n,d):path})\n",
      "    return dict_path"
     ],
     "language": "python",
     "metadata": {},
     "outputs": [],
     "prompt_number": 15
    },
    {
     "cell_type": "markdown",
     "metadata": {},
     "source": [
      "On fait maintenant le calcule des gros bourins: le plus court chemin de chacune des 311 stations avec les 311 autres (au point o\u00f9 j'en suis je peux bien calculer le plus court de la stations par rapport \u00e0 elle m\u00eame ...)"
     ]
    },
    {
     "cell_type": "code",
     "collapsed": false,
     "input": [
      "%%time\n",
      "stations_set = gr.nodes()\n",
      "shortpathdict = shortpathdict_create(stations_set)"
     ],
     "language": "python",
     "metadata": {},
     "outputs": [
      {
       "output_type": "stream",
       "stream": "stdout",
       "text": [
        "CPU times: user 2.1 s, sys: 19 ms, total: 2.12 s\n",
        "Wall time: 2.12 s\n"
       ]
      }
     ],
     "prompt_number": 16
    },
    {
     "cell_type": "markdown",
     "metadata": {},
     "source": [
      "En fait \u00e7a a mis 2 secondes.\n",
      "\n",
      "Maintenant on peut regarder ce qu'il nous propose pour aller de **Birken Stra\u00dfe** \u00e0 **Hermanplatz**."
     ]
    },
    {
     "cell_type": "code",
     "collapsed": false,
     "input": [
      "shortpathdict[(u'Birkenstra\\xdfe',u'Hermannplatz')]"
     ],
     "language": "python",
     "metadata": {},
     "outputs": [
      {
       "metadata": {},
       "output_type": "pyout",
       "prompt_number": 17,
       "text": [
        "[u'Birkenstra\\xdfe',\n",
        " u'Turmstra\\xdfe',\n",
        " u'Hansaplatz',\n",
        " u'Zoologischer Garten',\n",
        " u'Wittenbergplatz',\n",
        " u'Nollendorfplatz',\n",
        " u'B\\xfclowstra\\xdfe',\n",
        " u'Gleisdreieck',\n",
        " u'M\\xf6ckernbr\\xfccke',\n",
        " u'Mehringdamm',\n",
        " u'Gneisenaustra\\xdfe',\n",
        " u'S\\xfcdstern',\n",
        " u'Hermannplatz']"
       ]
      }
     ],
     "prompt_number": 17
    },
    {
     "cell_type": "markdown",
     "metadata": {},
     "source": [
      "Bon j'ai un peu perdu l'information des lignes en route mais \u00e7a a l'air de marcher.\n",
      "\n",
      "Il prend la **U9** jusque **Zoologischer Garten**, ensuite **U1** jusque **M\u00f6ckernbr\u00fccke** et enfin **U7** jusqu' \u00e0 la destination.\n",
      "\n",
      "C'est le plus court chemin en terme de nombre de stations. Personnellement je trouve ce choix tr\u00e8s chiant je pr\u00e9f\u00e8re prendre la **U9** jusque **Westhafen**, prendre le S-Bahn jusque **Gensund-Brunnen** et la **U8** jusqu'\u00e0 destination. Mais bon il y a plus de stations.\n",
      "\n",
      "J'ai conscience qu'il y a des caract\u00e8re bizzards dans les noms des station. Ce sont des histoires de Unicode tr\u00e8s tr\u00e8s inint\u00e9ressantes surlesquelles je ne pr\u00e9f\u00e8re pas m'\u00e9tendre.\n",
      "\n",
      "On dispose maitenant d'un tableau de 311 ligne et 311 colones qui contient dans chaque case le plus court chemin entre les 2 stations.\n",
      "\n",
      "Consid\u00e9rons un exemple concret.\n",
      "\n",
      "**Francesca** est \u00e0 **Sch\u00f6nlein Stra\u00dfe**, tu es \u00e0 **Schonhauser Allee** et Akiko, Ellen et moi sommes \u00e0 **Birken Stra\u00dfe**. Ou pouvons nous retrouver ?\n",
      "\n",
      "On peut commencer par minimiser le nombre de stations parcourues par le groupe. Pour faire simple on va consid\u00e9rer que Akiko, Ellen et moi sommes une et m\u00eame personnes."
     ]
    },
    {
     "cell_type": "code",
     "collapsed": false,
     "input": [
      "groupe = [u'Birkenstra\\xdfe',u'Sch\\xf6nhauser Allee',u'Sch\\xf6nleinstra\\xdfe']\n",
      "\n",
      "def distance_groupe_station(station,groupe):\n",
      "    return sum([len(shortpathdict[(station,s)]) for s in groupe])\n",
      "\n",
      "distance_groupe = [distance_groupe_station(s,groupe) for s in stations_set]\n",
      "station_mindist = stations_set[distance_groupe.index(min(distance_groupe))]\n",
      "station_mindist"
     ],
     "language": "python",
     "metadata": {},
     "outputs": [
      {
       "metadata": {},
       "output_type": "pyout",
       "prompt_number": 20,
       "text": [
        "u'Sch\\xf6nhauser Allee'"
       ]
      }
     ],
     "prompt_number": 20
    },
    {
     "cell_type": "markdown",
     "metadata": {},
     "source": [
      "A c'est marrant on va dans ton quartier.\n",
      "\n",
      "On peut aussi minimiser l'\u00e9cart \u00e0 la moyenne du nombre de stations parcourues par chacun."
     ]
    },
    {
     "cell_type": "code",
     "collapsed": false,
     "input": [
      "def distance_stddev_groupe_station(station,groupe):\n",
      "    moyenne = sum([len(shortpathdict[(station,s)]) for s in groupe])/len(groupe)\n",
      "    return sum([(len(shortpathdict[(station,s)])-moyenne)**2 for s in groupe])\n",
      "\n",
      "distance_groupe_stddev = [distance_stddev_groupe_station(s,groupe) for s in stations_set]\n",
      "station_minstddev = stations_set[distance_groupe_stddev.index(min(distance_groupe_stddev))]\n",
      "station_minstddev"
     ],
     "language": "python",
     "metadata": {},
     "outputs": [
      {
       "metadata": {},
       "output_type": "pyout",
       "prompt_number": 21,
       "text": [
        "u'Sundgauer Stra\\xdfe'"
       ]
      }
     ],
     "prompt_number": 21
    },
    {
     "cell_type": "markdown",
     "metadata": {},
     "source": [
      "On peut regarder un peu plus en d\u00e9tail le r\u00e9sultat."
     ]
    },
    {
     "cell_type": "code",
     "collapsed": false,
     "input": [
      "res_mindist = {s:shortpathdict[(s,station_mindist)] for s in groupe}\n",
      "res_mindist"
     ],
     "language": "python",
     "metadata": {},
     "outputs": [
      {
       "metadata": {},
       "output_type": "pyout",
       "prompt_number": 22,
       "text": [
        "{u'Birkenstra\\xdfe': [u'Birkenstra\\xdfe',\n",
        "  u'Westhafen',\n",
        "  u'Wedding',\n",
        "  u'Gesundbrunnen',\n",
        "  u'Sch\\xf6nhauser Allee'],\n",
        " u'Sch\\xf6nhauser Allee': [u'Sch\\xf6nhauser Allee'],\n",
        " u'Sch\\xf6nleinstra\\xdfe': [u'Sch\\xf6nleinstra\\xdfe',\n",
        "  u'Kottbusser Tor',\n",
        "  u'Moritzplatz',\n",
        "  u'Heinrich-Heine-Stra\\xdfe',\n",
        "  u'Jannowitzbr\\xfccke',\n",
        "  u'Alexanderplatz',\n",
        "  u'Rosa-Luxemburg-Platz',\n",
        "  u'Senefelderplatz',\n",
        "  u'Eberswalder Stra\\xdfe',\n",
        "  u'Sch\\xf6nhauser Allee']}"
       ]
      }
     ],
     "prompt_number": 22
    },
    {
     "cell_type": "code",
     "collapsed": false,
     "input": [
      "res_minstddev = {s:shortpathdict[(s,station_minstddev)] for s in groupe}\n",
      "res_minstddev"
     ],
     "language": "python",
     "metadata": {},
     "outputs": [
      {
       "metadata": {},
       "output_type": "pyout",
       "prompt_number": 23,
       "text": [
        "{u'Birkenstra\\xdfe': [u'Birkenstra\\xdfe',\n",
        "  u'Turmstra\\xdfe',\n",
        "  u'Hansaplatz',\n",
        "  u'Zoologischer Garten',\n",
        "  u'Savignyplatz',\n",
        "  u'Charlottenburg',\n",
        "  u'Westkreuz',\n",
        "  u'Grunewald',\n",
        "  u'Nikolassee',\n",
        "  u'Schlachtensee',\n",
        "  u'Mexikoplatz',\n",
        "  u'Zehlendorf',\n",
        "  u'Sundgauer Stra\\xdfe'],\n",
        " u'Sch\\xf6nhauser Allee': [u'Sch\\xf6nhauser Allee',\n",
        "  u'Gesundbrunnen',\n",
        "  u'Wedding',\n",
        "  u'Westhafen',\n",
        "  u'Beusselstra\\xdfe',\n",
        "  u'Jungfernheide',\n",
        "  u'Westend',\n",
        "  u'Messe Nord/ICC',\n",
        "  u'Westkreuz',\n",
        "  u'Grunewald',\n",
        "  u'Nikolassee',\n",
        "  u'Schlachtensee',\n",
        "  u'Mexikoplatz',\n",
        "  u'Zehlendorf',\n",
        "  u'Sundgauer Stra\\xdfe'],\n",
        " u'Sch\\xf6nleinstra\\xdfe': [u'Sch\\xf6nleinstra\\xdfe',\n",
        "  u'Kottbusser Tor',\n",
        "  u'Prinzenstra\\xdfe',\n",
        "  u'Hallesches Tor',\n",
        "  u'M\\xf6ckernbr\\xfccke',\n",
        "  u'Yorckstra\\xdfe',\n",
        "  u'S\\xfcdkreuz',\n",
        "  u'Sch\\xf6neberg',\n",
        "  u'Friedenau',\n",
        "  u'Feuerbachstra\\xdfe',\n",
        "  u'Rathaus Steglitz',\n",
        "  u'Botanischer Garten',\n",
        "  u'Lichterfelde West',\n",
        "  u'Sundgauer Stra\\xdfe']}"
       ]
      }
     ],
     "prompt_number": 23
    },
    {
     "cell_type": "markdown",
     "metadata": {},
     "source": [
      "Le premier r\u00e9sultat a l'air assez logique et le deuxi\u00e8me est un peu plus bizzard.\n",
      "\n",
      "Encore une fois on sauvegarde tout dans un fichier."
     ]
    },
    {
     "cell_type": "code",
     "collapsed": false,
     "input": [
      "import pickle\n",
      "output = open('shortpathdict.pkl', 'wb')\n",
      "pickle.dump(shortpathdict,output)\n",
      "output.close()"
     ],
     "language": "python",
     "metadata": {},
     "outputs": [],
     "prompt_number": 183
    },
    {
     "cell_type": "markdown",
     "metadata": {},
     "source": [
      "Visualisation du r\u00e9sultat.\n",
      "=====\n",
      "\n",
      "Maintenant que notre calcul est termin\u00e9 passons \u00e0 la visualisation du r\u00e9sultat.\n",
      "\n",
      "On utilise google pour r\u00e9cup\u00e9rer toutes les coordonn\u00e9es de chacune des sations de m\u00e9tros."
     ]
    },
    {
     "cell_type": "code",
     "collapsed": false,
     "input": [
      "import json\n",
      "\n",
      "def geocode_raw(addr):\n",
      "        url = \"http://maps.googleapis.com/maps/api/geocode/json?address=\"+urllib2.quote(addr.encode('utf-8'))+\"&sensor=true\"\n",
      "        data = urllib2.urlopen(url).read()\n",
      "        if json.loads(data)['status'] == 'OK':\n",
      "            return [json.loads(data)['results'][0]['geometry']['location']['lat'],json.loads(data)['results'][0]['geometry']['location']['lng']]\n",
      "        else:\n",
      "            return -1,-1\n",
      "def geocode(addr):\n",
      "    for i in range(5):\n",
      "        pos = geocode_raw(addr)\n",
      "        if pos <> (-1,-1):\n",
      "            return pos\n",
      "        else:\n",
      "            print addr+\" %s\"%(i)\n",
      "\n",
      "res_stations_set = set([s for k in res_mindist for s in res_mindist[k]] + [s for k in res_minstddev for s in res_minstddev[k]])\n",
      "stations_pos = { s:geocode(s + \" \" + + \" station Berlin\") for s in gr.nodes()}"
     ],
     "language": "python",
     "metadata": {},
     "outputs": [
      {
       "output_type": "stream",
       "stream": "stdout",
       "text": [
        "Hausvogteiplatz station Berlin 0\n",
        "M\u00fchlenbeck-M\u00f6nchm\u00fchle station Berlin 0"
       ]
      },
      {
       "output_type": "stream",
       "stream": "stdout",
       "text": [
        "\n",
        "Biesdorf station Berlin 0"
       ]
      },
      {
       "output_type": "stream",
       "stream": "stdout",
       "text": [
        "\n",
        "Biesdorf station Berlin 1"
       ]
      },
      {
       "output_type": "stream",
       "stream": "stdout",
       "text": [
        "\n",
        "Rathaus Neuk\u00f6lln station Berlin 0"
       ]
      },
      {
       "output_type": "stream",
       "stream": "stdout",
       "text": [
        "\n",
        "N\u00f6ldnerplatz station Berlin 0"
       ]
      },
      {
       "output_type": "stream",
       "stream": "stdout",
       "text": [
        "\n",
        "Richard-Wagner-Platz station Berlin 0"
       ]
      },
      {
       "output_type": "stream",
       "stream": "stdout",
       "text": [
        "\n",
        "Richard-Wagner-Platz station Berlin 1"
       ]
      },
      {
       "output_type": "stream",
       "stream": "stdout",
       "text": [
        "\n",
        "Pichelsberg station Berlin 0"
       ]
      },
      {
       "output_type": "stream",
       "stream": "stdout",
       "text": [
        "\n",
        "Moritzplatz station Berlin 0"
       ]
      },
      {
       "output_type": "stream",
       "stream": "stdout",
       "text": [
        "\n",
        "Franz\u00f6sische Stra\u00dfe station Berlin 0"
       ]
      },
      {
       "output_type": "stream",
       "stream": "stdout",
       "text": [
        "\n",
        "Rosa-Luxemburg-Platz station Berlin 0"
       ]
      },
      {
       "output_type": "stream",
       "stream": "stdout",
       "text": [
        "\n",
        "Rosa-Luxemburg-Platz station Berlin 1"
       ]
      },
      {
       "output_type": "stream",
       "stream": "stdout",
       "text": [
        "\n"
       ]
      }
     ],
     "prompt_number": 38
    },
    {
     "cell_type": "markdown",
     "metadata": {},
     "source": [
      "Il faut faire quelques petites corrections et on peut sauvegarder dans un fichier."
     ]
    },
    {
     "cell_type": "code",
     "collapsed": false,
     "input": [
      "stations_pos[u'Scharnweberstra\\xdfe'][0]=52+34.0/60\n",
      "stations_pos[u'Scharnweberstra\\xdfe'][1]=13+18.0/60\n",
      "stations_pos[u'Flughafen Bln-Sch\\xf6nefeld'][0]=52+23.0/60\n",
      "stations_pos[u'Flughafen Bln-Sch\\xf6nefeld'][1]=13+30.0/60\n",
      "\n",
      "\n",
      "import pickle\n",
      "output = open('stations_pos.pkl', 'wb')\n",
      "pickle.dump(stations_pos,output)\n",
      "output.close()"
     ],
     "language": "python",
     "metadata": {},
     "outputs": [],
     "prompt_number": 185
    },
    {
     "cell_type": "markdown",
     "metadata": {},
     "source": [
      "On peut tr\u00e8s simplement afficher nos r\u00e9sultats sous forme de nuage de points sur un graphique."
     ]
    },
    {
     "cell_type": "code",
     "collapsed": false,
     "input": [
      "# -*- coding: utf-8 -*- \n",
      "\n",
      "import matplotlib.pyplot as plt\n",
      "import numpy as np\n",
      "\n",
      "from matplotlib import rcParams\n",
      "rcParams['text.latex.unicode']=True\n",
      "\n",
      "f, ax = plt.subplots(figsize=(12,6))\n",
      "\n",
      "for k in all_stations['s42']:\n",
      "    ax.plot(stations_pos[k][1],stations_pos[k][0],marker='o',c='red',label=k)\n",
      "    \n",
      "linie = 's9'\n",
      "for k in all_stations[linie]:\n",
      "    x = stations_pos[k][1]\n",
      "    y = stations_pos[k][0]\n",
      "    ax.plot(x,y,marker='o',c='blue',label=k)\n",
      "    ax.annotate(u'{}'.format(k), xy=(x,y), xytext=(-5, 5), ha='right',\n",
      "                textcoords='offset points')\n",
      "    "
     ],
     "language": "python",
     "metadata": {},
     "outputs": [
      {
       "metadata": {},
       "output_type": "display_data",
       "png": "[encoded data removed]",
       "text": [
        "<matplotlib.figure.Figure at 0x652add0>"
       ]
      }
     ],
     "prompt_number": 180
    }
   ],
   "metadata": {}
  }
 ]
}