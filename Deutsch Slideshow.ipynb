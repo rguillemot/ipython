{
 "metadata": {
  "name": ""
 },
 "nbformat": 3,
 "nbformat_minor": 0,
 "worksheets": [
  {
   "cells": [
    {
     "cell_type": "code",
     "collapsed": false,
     "input": [
      "import re\n",
      "def replace_with_hide_terms(s):\n",
      "    s_split = s.split('\\\\')\n",
      "    ret = u''\n",
      "    for idx in range(len(s_split)/2):\n",
      "        ret += s_split[2*idx] + u'\\\\HIDE{' + s_split[2*idx+1] + '}'\n",
      "    ret += s_split[-1]\n",
      "    return ret\n",
      "\n",
      "def replace_with_bold_terms(s):\n",
      "    s_split = s.split('/')\n",
      "    ret = u''\n",
      "    for idx in range(len(s_split)/2):\n",
      "        ret += s_split[2*idx] + u'\\\\BOLD{' + s_split[2*idx+1] + '}'\n",
      "    ret += s_split[-1]\n",
      "    return ret"
     ],
     "language": "python",
     "metadata": {},
     "outputs": [],
     "prompt_number": 63
    },
    {
     "cell_type": "code",
     "collapsed": false,
     "input": [
      "#!/usr/bin/env python\n",
      "# -*- coding: utf-8 -*-\n",
      "\n",
      "import codecs\n",
      "import unicodedata\n",
      "\n",
      "\n",
      "def Load_cards(filename):\n",
      "    all_cards = []\n",
      "    curr = []\n",
      "    for filelineno, line in enumerate(codecs.open(filename,'r', encoding='latin')):\n",
      "        line = line.strip()\n",
      "        if line not in u'':\n",
      "            curr += [replace_with_bold_terms(replace_with_hide_terms(line))]\n",
      "        else:\n",
      "            all_cards += [curr]\n",
      "            curr = []\n",
      "    return all_cards"
     ],
     "language": "python",
     "metadata": {},
     "outputs": [],
     "prompt_number": 98
    },
    {
     "cell_type": "code",
     "collapsed": false,
     "input": [
      "adj_praep_cards = Load_cards('Input/Adjektive+Praeposition.txt')\n",
      "verb_praep_cards = Load_cards('Input/Verb+Praeposition.txt')\n",
      "themes_cards = Load_cards('Input/Th\u00e8mes.txt')"
     ],
     "language": "python",
     "metadata": {},
     "outputs": [],
     "prompt_number": 107
    },
    {
     "cell_type": "code",
     "collapsed": false,
     "input": [
      "import pickle\n",
      "def save_cards(filename,cards):\n",
      "    ofile = open(filename,'wb')\n",
      "    pickle.dump(cards,ofile)\n",
      "    ofile.close()"
     ],
     "language": "python",
     "metadata": {},
     "outputs": [],
     "prompt_number": 120
    },
    {
     "cell_type": "code",
     "collapsed": false,
     "input": [
      "save_cards('Input/adj_praep.pkl',adj_praep_cards)\n",
      "save_cards('Input/verb_praep.pkl',verb_praep_cards)\n",
      "save_cards('Input/themes.pkl',themes_cards)"
     ],
     "language": "python",
     "metadata": {},
     "outputs": [],
     "prompt_number": 118
    },
    {
     "cell_type": "heading",
     "level": 1,
     "metadata": {},
     "source": [
      "A utiliser \u00e0 partir d'ici !!!!"
     ]
    },
    {
     "cell_type": "code",
     "collapsed": false,
     "input": [
      "import random\n",
      "import pickle\n",
      "import codecs\n",
      "\n",
      "def load_cards(filename):\n",
      "    ofile = open(filename,'rb')\n",
      "    ret = pickle.load(ofile)\n",
      "    ofile.close()\n",
      "    return ret\n",
      "\n",
      "def latex_cards(cards,random_flag = False):\n",
      "    latex = u'\\\\documentclass{beamer}\\n'\n",
      "    latex += u'\\\\usepackage[english,francais]{babel}\\n'\n",
      "    latex += u'\\\\usepackage[utf8]{inputenc}\\n'\n",
      "    \n",
      "    latex += u'\\\\addtobeamertemplate{background canvas}{\\\\transfade[duration=1]}{}\\n'\n",
      "    \n",
      "    latex += u'\\\\newcommand{\\\\HIDE}[1]{\\\\visible<2->{\\\\textcolor{red}{\\\\textbf{#1}}}}\\n'\n",
      "    latex += u'\\\\newcommand{\\\\BOLD}[1]{\\\\textbf{#1}}\\n'\n",
      "    \n",
      "    latex += u'\\\\begin{document}\\n'\n",
      "    \n",
      "    if random_flag:\n",
      "        random.shuffle(cards)\n",
      "    \n",
      "    for card in cards:\n",
      "        latex +=u'\\\\begin{frame}\\n'\n",
      "        latex +=u'\\\\transduration{4}\\n'\n",
      "        latex +=u'\\\\Large\\n'\n",
      "        for s in card:\n",
      "            latex += s + '\\\\\\\\\\n'\n",
      "            latex += '\\\\vspace{0.5cm}\\n'\n",
      "        latex +=u'\\\\end{frame}\\n'\n",
      "    \n",
      "    latex += u'\\\\end{document}\\n'\n",
      "    return latex"
     ],
     "language": "python",
     "metadata": {},
     "outputs": [],
     "prompt_number": 5
    },
    {
     "cell_type": "code",
     "collapsed": false,
     "input": [
      "adj_praep_cards=load_cards('Input/adj_praep.pkl')\n",
      "verb_praep_cards=load_cards('Input/verb_praep.pkl')\n",
      "themes_cards=load_cards('Input/themes.pkl')"
     ],
     "language": "python",
     "metadata": {},
     "outputs": [],
     "prompt_number": 2
    },
    {
     "cell_type": "code",
     "collapsed": false,
     "input": [
      "TheCards = themes_cards\n",
      "RandomFlag = False"
     ],
     "language": "python",
     "metadata": {},
     "outputs": [],
     "prompt_number": 17
    },
    {
     "cell_type": "code",
     "collapsed": false,
     "input": [
      "filename_slides = 'Slides/slides.tex'\n",
      "ofile = codecs.open(filename_slides,'wb',encoding='utf-8')\n",
      "ofile.write(latex_cards(TheCards,RandomFlag))\n",
      "ofile.close()"
     ],
     "language": "python",
     "metadata": {},
     "outputs": [],
     "prompt_number": 18
    },
    {
     "cell_type": "code",
     "collapsed": false,
     "input": [
      "!pdflatex -interaction nonstopmode -output-directory=./compile/ Slides/slides.tex > pdflatex.log"
     ],
     "language": "python",
     "metadata": {},
     "outputs": [],
     "prompt_number": 19
    },
    {
     "cell_type": "code",
     "collapsed": false,
     "input": [
      "!evince compile/slides.pdf > evince.log"
     ],
     "language": "python",
     "metadata": {},
     "outputs": [],
     "prompt_number": 20
    }
   ],
   "metadata": {}
  }
 ]
}