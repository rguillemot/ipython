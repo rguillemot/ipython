{
 "metadata": {
  "name": ""
 },
 "nbformat": 3,
 "nbformat_minor": 0,
 "worksheets": [
  {
   "cells": [
    {
     "cell_type": "code",
     "collapsed": false,
     "input": [
      "import urllib2\n",
      "from bs4 import BeautifulSoup"
     ],
     "language": "python",
     "metadata": {},
     "outputs": [],
     "prompt_number": 2
    },
    {
     "cell_type": "code",
     "collapsed": false,
     "input": [
      "import pickle"
     ],
     "language": "python",
     "metadata": {},
     "outputs": [],
     "prompt_number": 3
    },
    {
     "cell_type": "code",
     "collapsed": false,
     "input": [
      "ifile = open('dw_links.pkl','rb')\n",
      "links = pickle.load(ifile)\n",
      "ifile.close()"
     ],
     "language": "python",
     "metadata": {},
     "outputs": [],
     "prompt_number": 3
    },
    {
     "cell_type": "code",
     "collapsed": false,
     "input": [
      "len(links)"
     ],
     "language": "python",
     "metadata": {},
     "outputs": [
      {
       "metadata": {},
       "output_type": "pyout",
       "prompt_number": 4,
       "text": [
        "903"
       ]
      }
     ],
     "prompt_number": 4
    },
    {
     "cell_type": "code",
     "collapsed": false,
     "input": [
      "def Nachricht_text(href):\n",
      "    html = urllib2.urlopen(href)\n",
      "    soup = BeautifulSoup(html)\n",
      "    longText = soup.find(\"div\",{\"class\":\"longText\"})\n",
      "    paragraphs = [p.text for p in longText.find_all(\"p\") if p.text != u'\\n***']\n",
      "    return paragraphs\n"
     ],
     "language": "python",
     "metadata": {},
     "outputs": [],
     "prompt_number": 5
    },
    {
     "cell_type": "code",
     "collapsed": false,
     "input": [
      "Nachricht_text(links[0])"
     ],
     "language": "python",
     "metadata": {},
     "outputs": [
      {
       "metadata": {},
       "output_type": "pyout",
       "prompt_number": 6,
       "text": [
        "[u'\\nDie EU versucht, Russland in der Ukraine-Krise durch weitere Strafma\\xdfnahmen an den Verhandlungstisch zu bringen. Die EU-Staats- und Regierungschefs beschlossen auf ihrem Krisengipfel in Br\\xfcssel, gegen weitere zw\\xf6lf Personen Einreiseverbote und Kontensperrungen zu verh\\xe4ngen. Es soll sich um hochrangige Offizielle von der Krim und Russland handeln, die ma\\xdfgeblich zur nach EU-Sicht v\\xf6lkerrechtswidrigen Annektion der Halbinsel durch Russland beigetragen haben. Die Namen sollen im Laufe des Tages bekanntgegeben werden. Au\\xdferdem sagte die EU den f\\xfcr Juni geplanten Gipfel mit Russland ab. Zudem soll an diesem Freitag der erste Teil des Assoziierungsabkommens mit der Ukraine unterzeichnet werden. Damit bindet die EU Kiew fester an den Westen. Russlands Parlamentschef Sergej Naryschkin warf dem Westen \"grobe Einmischung\" in die inneren Belange der Ukraine vor. Er sei \\xfcberzeugt, dass die EU und die USA das strategische Gleichgewicht in der Welt auf kritische Weise ersch\\xfctterten, sagte Naryschkin laut Agentur Interfax in einer Parlamentsdebatte.',\n",
        " u'\\nDie Strafma\\xdfnahmen von EU und USA gegen Russland zeigen erste Wirkungen. Nach der Ratingagentur Standard & Poor\\'s stufte auch Konkurrent Fitch Russland herunter. Angesichts der Spannungen zwischen Moskau und dem Westen aufgrund der Krim-Krise teilte Fitch mit, die wirtschaftlichen Aussichten Russlands w\\xfcrden von stabil auf negativ herabgesetzt. Dieser Schritt ber\\xfccksichtige die Auswirkungen m\\xf6glicher Sanktionen, hie\\xdf es in einer Erkl\\xe4rung der US-Ratingagentur. Standard & Poor\\'s verwies auf die \"geopolitischen Risiken\", die Investitionen aufhalten und eine Kapitalflucht zur Folge haben k\\xf6nnten. Die B\\xf6rse in Moskau \\xf6ffnete mit rund drei Prozent im Minus.',\n",
        " u'\\nDer Kurznachrichtendienst Twitter ist in der T\\xfcrkei blockiert worden. Nutzer bekamen am fr\\xfchen Freitagmorgen beim Aufruf der entsprechenden Internetseite eine Nachricht der t\\xfcrkischen Telekommunikationsbeh\\xf6rde zu sehen, in der zur Begr\\xfcndung der Sperrung Gerichtsentscheidungen zitiert wurden. Die staatliche Nachrichtenagentur Anatolia berichtete, die Beh\\xf6rde habe Twitter blockiert, weil der Kurznachrichtendienst Anordnungen t\\xfcrkischer Gerichte ignoriert habe, bestimmte Links zu entfernen. Nur Stunden zuvor hatte der t\\xfcrkische Ministerpr\\xe4sident Recep Tayyip Erdogan die Sperrung angedroht. Erdogan war in den vergangenen Wochen durch Internet-Enth\\xfcllungen politisch unter Druck geraten und hatte deshalb angek\\xfcndigt, nach der Kommunalwahl Ende des Monats gegen soziale Medien vorzugehen. Diese werden von seinen politischen Gegnern stark genutzt. Die f\\xfcr Digital-Politik zust\\xe4ndige EU-Kommissarin Neelie Kroes kritisierte die Sperrung auf ihrem Twitteraccount als Zensur.',\n",
        " u'\\nDas oberste Gericht Thailands hat die Parlamentswahl vom 2. Februar f\\xfcr ung\\xfcltig erkl\\xe4rt. Die Entscheidung wurde damit begr\\xfcndet, dass die Wahl gegen die Verfassung versto\\xdfen habe, da nicht in allen Bezirken gleichzeitig abgestimmt worden sei. Die Opposition hatte die Wahl boykottiert. Regierungskritische Demonstranten hatten tausende Wahllokale blockiert, mehrere Millionen Menschen konnten ihre Stimme nicht abgeben. Die Gegner von Ministerpr\\xe4sidentin Yingluck Shinawatra fordern die Einsetzung eines Expertenrats, der eine Reihe von Reformen durchsetzen soll.',\n",
        " u'\\nBei einem Angriff auf ein Luxushotel in der afghanischen Hauptstadt Kabul sind mindestens zw\\xf6lf Menschen get\\xf6tet worden, darunter die vier minderj\\xe4hrigen Angreifer. Der \\xdcberfall, zu dem sich die radikalislamischen Taliban bekannten, richtete sich gegen das Hotel Serena. Ein Sprecher des Innenministeriums sagte, unter den Get\\xf6teten seien drei Frauen und zwei Kinder. Die vier Angreifer seien von afghanischen Sicherheitskr\\xe4ften erschossen worden. Eines der Opfer war ein Ex-Diplomat aus Paraguay, der sich als Wahlbeobachter f\\xfcr die Pr\\xe4sidentenwahl in Afghanistan zur Verf\\xfcgung gestellt hatte.',\n",
        " u'\\nDie EU-L\\xe4nder haben sich darauf geeinigt, das EU-Zinssteuergesetz zu versch\\xe4rfen. Nach 15-j\\xe4hrigen Verhandlungen machte Luxemburg den Weg frei f\\xfcr die Neuregelung, mit der das Bankgeheimnis f\\xfcr Ausl\\xe4nder in der EU quasi aufgehoben wird. Ziel ist es, den Informationsaustausch zwischen den Steuerbeh\\xf6rden der EU-L\\xe4nder zu verbessern, um grenz\\xfcberschreitende Steuerflucht zu bek\\xe4mpfen. Bundeskanzlerin Angela Merkel sagte, in der Frage der Steuergerechtigkeit komme die EU nun erheblich voran. Das reformierte Gesetz soll bereits in der kommenden Woche vom EU-Ministerrat f\\xf6rmlich verabschiedet werden.']"
       ]
      }
     ],
     "prompt_number": 6
    },
    {
     "cell_type": "code",
     "collapsed": false,
     "input": [
      "import threading\n",
      "import Queue\n",
      "import time"
     ],
     "language": "python",
     "metadata": {},
     "outputs": [],
     "prompt_number": 8
    },
    {
     "cell_type": "code",
     "collapsed": false,
     "input": [
      "class ThreadLoad(threading.Thread):\n",
      "        def __init__(self, queue, dico, log):\n",
      "                threading.Thread.__init__(self)\n",
      "                self.queue = queue\n",
      "                self.dico = dico\n",
      "                self.log = log\n",
      "\n",
      "        def run(self):\n",
      "              while True:\n",
      "\n",
      "                url = self.queue.get()\n",
      "                self.log += ['{} get {}'.format(self.getName(),url[17:25])]\n",
      "\n",
      "                text = Nachricht_text(url)\n",
      "                self.dico.update({url[17:25] : text})"
     ],
     "language": "python",
     "metadata": {},
     "outputs": [],
     "prompt_number": 9
    },
    {
     "cell_type": "code",
     "collapsed": false,
     "input": [
      "taskQueue = Queue.Queue()\n",
      "dico = {}\n",
      "log = []\n",
      "for n in range(20):\n",
      "    t = ThreadLoad(taskQueue,dico,log)\n",
      "    t.setDaemon(True)\n",
      "    t.start()"
     ],
     "language": "python",
     "metadata": {},
     "outputs": [],
     "prompt_number": 10
    },
    {
     "cell_type": "code",
     "collapsed": false,
     "input": [
      "for n in range (len(links)):\n",
      "    taskQueue.put(links[n])"
     ],
     "language": "python",
     "metadata": {},
     "outputs": [],
     "prompt_number": 11
    },
    {
     "cell_type": "code",
     "collapsed": false,
     "input": [
      "(len(log),len(dico))"
     ],
     "language": "python",
     "metadata": {},
     "outputs": [
      {
       "metadata": {},
       "output_type": "pyout",
       "prompt_number": 96,
       "text": [
        "(903, 903)"
       ]
      }
     ],
     "prompt_number": 96
    },
    {
     "cell_type": "code",
     "collapsed": false,
     "input": [
      "log[-1]"
     ],
     "language": "python",
     "metadata": {},
     "outputs": [
      {
       "metadata": {},
       "output_type": "pyout",
       "prompt_number": 53,
       "text": [
        "'Thread-6 get 01042012'"
       ]
      }
     ],
     "prompt_number": 53
    },
    {
     "cell_type": "code",
     "collapsed": false,
     "input": [
      "for s in dico[u'21032014']:\n",
      "    print s"
     ],
     "language": "python",
     "metadata": {},
     "outputs": [
      {
       "output_type": "stream",
       "stream": "stdout",
       "text": [
        "\n",
        "Die EU versucht, Russland in der Ukraine-Krise durch weitere Strafma\u00dfnahmen an den Verhandlungstisch zu bringen. Die EU-Staats- und Regierungschefs beschlossen auf ihrem Krisengipfel in Br\u00fcssel, gegen weitere zw\u00f6lf Personen Einreiseverbote und Kontensperrungen zu verh\u00e4ngen. Es soll sich um hochrangige Offizielle von der Krim und Russland handeln, die ma\u00dfgeblich zur nach EU-Sicht v\u00f6lkerrechtswidrigen Annektion der Halbinsel durch Russland beigetragen haben. Die Namen sollen im Laufe des Tages bekanntgegeben werden. Au\u00dferdem sagte die EU den f\u00fcr Juni geplanten Gipfel mit Russland ab. Zudem soll an diesem Freitag der erste Teil des Assoziierungsabkommens mit der Ukraine unterzeichnet werden. Damit bindet die EU Kiew fester an den Westen. Russlands Parlamentschef Sergej Naryschkin warf dem Westen \"grobe Einmischung\" in die inneren Belange der Ukraine vor. Er sei \u00fcberzeugt, dass die EU und die USA das strategische Gleichgewicht in der Welt auf kritische Weise ersch\u00fctterten, sagte Naryschkin laut Agentur Interfax in einer Parlamentsdebatte.\n",
        "\n",
        "Die Strafma\u00dfnahmen von EU und USA gegen Russland zeigen erste Wirkungen. Nach der Ratingagentur Standard & Poor's stufte auch Konkurrent Fitch Russland herunter. Angesichts der Spannungen zwischen Moskau und dem Westen aufgrund der Krim-Krise teilte Fitch mit, die wirtschaftlichen Aussichten Russlands w\u00fcrden von stabil auf negativ herabgesetzt. Dieser Schritt ber\u00fccksichtige die Auswirkungen m\u00f6glicher Sanktionen, hie\u00df es in einer Erkl\u00e4rung der US-Ratingagentur. Standard & Poor's verwies auf die \"geopolitischen Risiken\", die Investitionen aufhalten und eine Kapitalflucht zur Folge haben k\u00f6nnten. Die B\u00f6rse in Moskau \u00f6ffnete mit rund drei Prozent im Minus.\n",
        "\n",
        "Der Kurznachrichtendienst Twitter ist in der T\u00fcrkei blockiert worden. Nutzer bekamen am fr\u00fchen Freitagmorgen beim Aufruf der entsprechenden Internetseite eine Nachricht der t\u00fcrkischen Telekommunikationsbeh\u00f6rde zu sehen, in der zur Begr\u00fcndung der Sperrung Gerichtsentscheidungen zitiert wurden. Die staatliche Nachrichtenagentur Anatolia berichtete, die Beh\u00f6rde habe Twitter blockiert, weil der Kurznachrichtendienst Anordnungen t\u00fcrkischer Gerichte ignoriert habe, bestimmte Links zu entfernen. Nur Stunden zuvor hatte der t\u00fcrkische Ministerpr\u00e4sident Recep Tayyip Erdogan die Sperrung angedroht. Erdogan war in den vergangenen Wochen durch Internet-Enth\u00fcllungen politisch unter Druck geraten und hatte deshalb angek\u00fcndigt, nach der Kommunalwahl Ende des Monats gegen soziale Medien vorzugehen. Diese werden von seinen politischen Gegnern stark genutzt. Die f\u00fcr Digital-Politik zust\u00e4ndige EU-Kommissarin Neelie Kroes kritisierte die Sperrung auf ihrem Twitteraccount als Zensur.\n",
        "\n",
        "Das oberste Gericht Thailands hat die Parlamentswahl vom 2. Februar f\u00fcr ung\u00fcltig erkl\u00e4rt. Die Entscheidung wurde damit begr\u00fcndet, dass die Wahl gegen die Verfassung versto\u00dfen habe, da nicht in allen Bezirken gleichzeitig abgestimmt worden sei. Die Opposition hatte die Wahl boykottiert. Regierungskritische Demonstranten hatten tausende Wahllokale blockiert, mehrere Millionen Menschen konnten ihre Stimme nicht abgeben. Die Gegner von Ministerpr\u00e4sidentin Yingluck Shinawatra fordern die Einsetzung eines Expertenrats, der eine Reihe von Reformen durchsetzen soll.\n",
        "\n",
        "Bei einem Angriff auf ein Luxushotel in der afghanischen Hauptstadt Kabul sind mindestens zw\u00f6lf Menschen get\u00f6tet worden, darunter die vier minderj\u00e4hrigen Angreifer. Der \u00dcberfall, zu dem sich die radikalislamischen Taliban bekannten, richtete sich gegen das Hotel Serena. Ein Sprecher des Innenministeriums sagte, unter den Get\u00f6teten seien drei Frauen und zwei Kinder. Die vier Angreifer seien von afghanischen Sicherheitskr\u00e4ften erschossen worden. Eines der Opfer war ein Ex-Diplomat aus Paraguay, der sich als Wahlbeobachter f\u00fcr die Pr\u00e4sidentenwahl in Afghanistan zur Verf\u00fcgung gestellt hatte.\n",
        "\n",
        "Die EU-L\u00e4nder haben sich darauf geeinigt, das EU-Zinssteuergesetz zu versch\u00e4rfen. Nach 15-j\u00e4hrigen Verhandlungen machte Luxemburg den Weg frei f\u00fcr die Neuregelung, mit der das Bankgeheimnis f\u00fcr Ausl\u00e4nder in der EU quasi aufgehoben wird. Ziel ist es, den Informationsaustausch zwischen den Steuerbeh\u00f6rden der EU-L\u00e4nder zu verbessern, um grenz\u00fcberschreitende Steuerflucht zu bek\u00e4mpfen. Bundeskanzlerin Angela Merkel sagte, in der Frage der Steuergerechtigkeit komme die EU nun erheblich voran. Das reformierte Gesetz soll bereits in der kommenden Woche vom EU-Ministerrat f\u00f6rmlich verabschiedet werden.\n"
       ]
      }
     ],
     "prompt_number": 47
    },
    {
     "cell_type": "code",
     "collapsed": false,
     "input": [
      "ofile = open('dw_artikel.pkl','wb')\n",
      "pickle.dump(dico,ofile)\n",
      "ofile.close()"
     ],
     "language": "python",
     "metadata": {},
     "outputs": [],
     "prompt_number": 97
    },
    {
     "cell_type": "code",
     "collapsed": false,
     "input": [
      "count = 0\n",
      "for elt in dico:\n",
      "    for s in dico[elt]:\n",
      "        count += len(s)\n",
      "countofile = open('dw_artikel.pkl','wb')\n",
      "pickle.dump(dico,ofile)\n",
      "ofile.close()"
     ],
     "language": "python",
     "metadata": {},
     "outputs": [
      {
       "metadata": {},
       "output_type": "pyout",
       "prompt_number": 104,
       "text": [
        "3805638"
       ]
      }
     ],
     "prompt_number": 104
    },
    {
     "cell_type": "code",
     "collapsed": false,
     "input": [
      "def splitParagraphIntoSentences(paragraph):\n",
      "    ''' break a paragraph into sentences\n",
      "        and return a list '''\n",
      "    import re\n",
      "    # to split by multile characters\n",
      "\n",
      "    #   regular expressions are easiest (and fastest)\n",
      "    sentenceEnders = re.compile('[.!?]')\n",
      "    sentenceList = sentenceEnders.split(paragraph)\n",
      "    return sentenceList"
     ],
     "language": "python",
     "metadata": {},
     "outputs": [],
     "prompt_number": 105
    },
    {
     "cell_type": "code",
     "collapsed": false,
     "input": [
      "splitParagraphIntoSentences(dico['20032014'][1])"
     ],
     "language": "python",
     "metadata": {},
     "outputs": [
      {
       "metadata": {},
       "output_type": "pyout",
       "prompt_number": 109,
       "text": [
        "[u'\\nRussische Truppen haben am Mittwochabend die Kontrolle \\xfcber einen weiteren St\\xfctzpunkt der ukrainischen Marine auf der Halbinsel Krim \\xfcbernommen',\n",
        " u' Der Vorfall ereignete sich rund 30 Kilometer s\\xfcdwestlich von Simferopol',\n",
        " u' Zuvor hatten sich russische Kr\\xe4fte bereits die Kontrolle \\xfcber den ukrainischen Flottenst\\xfctzpunkt in Sewastopol gesichert',\n",
        " u' Dabei wurde der ukrainische Marinechef Sergej Gajduk von prorussischen Milizen festgenommen',\n",
        " u' Sowohl Moskau als auch Kiew forderten die handelnden Kr\\xe4fte auf der Krim auf, den Mann wieder freizulassen',\n",
        " u' Die ukrainische F\\xfchrung k\\xfcndigte den R\\xfcckzug des eigenen Milit\\xe4rs auf das Festland an',\n",
        " u' Moskau will den international nicht anerkannten Anschluss der Krim an Russland bis zum Wochenende vollziehen',\n",
        " u'']"
       ]
      }
     ],
     "prompt_number": 109
    },
    {
     "cell_type": "code",
     "collapsed": false,
     "input": [
      "import re\n",
      "html = urllib2.urlopen('http://www.dw.de/deutsch-lernen/glossar/s-9151')\n",
      "soup = BeautifulSoup(html)\n",
      "links = soup.findAll('a', href=re.compile('^/begriffe-aus-der-nachrichtensprache'))\n",
      "glossar = [l['href'] for l in links]"
     ],
     "language": "python",
     "metadata": {},
     "outputs": [],
     "prompt_number": 4
    },
    {
     "cell_type": "code",
     "collapsed": false,
     "input": [
      "def get_glossar(href):\n",
      "    html = urllib2.urlopen('http://www.dw.de'+href)\n",
      "    soup = BeautifulSoup(html)\n",
      "    longText = soup.find(\"div\",{\"class\":\"longText\"})\n",
      "    paragraphs = [p for p in longText.find_all(\"p\") if p.text != u'\\n***']\n",
      "    dico = {}\n",
      "    for p in paragraphs:\n",
      "        text = ''.join(p.findAll(text=True)).strip()\n",
      "        if text == u'Erkl\u00e4rung':\n",
      "            break\n",
      "        text_split = text.split(u'\u2013')\n",
      "        begriff = text_split[0].strip()\n",
      "        definition = ''\n",
      "        example = ''\n",
      "        \n",
      "        if len(text_split) >= 2:\n",
      "            re_example = re.search('^.*\\((.*)\\).*$',text_split[1])\n",
      "            if re_example != None:\n",
      "                example = re_example.group(1)\n",
      "                def_split = text_split[1].split('(')\n",
      "                definition = ''.join(def_split[0:-1]).strip()\n",
      "            else:\n",
      "                definition = text_split[1]\n",
      "        else:\n",
      "            print href\n",
      "            print begriff\n",
      "        \n",
      "        dico.update({begriff:(definition,example)})\n",
      "        \n",
      "        \n",
      "    return dico"
     ],
     "language": "python",
     "metadata": {},
     "outputs": [],
     "prompt_number": 135
    },
    {
     "cell_type": "code",
     "collapsed": false,
     "input": [
      "all_dicos = [get_glossar(g) for g in glossar]"
     ],
     "language": "python",
     "metadata": {},
     "outputs": [
      {
       "output_type": "stream",
       "stream": "stdout",
       "text": [
        "/begriffe-aus-der-nachrichtensprache-f/a-2577299\n",
        "(Die SPD und CDU formierten sich, um das Problem gemeinsam zu l\u00f6sen.)\n",
        "/begriffe-aus-der-nachrichtensprache-ij/a-2577329"
       ]
      },
      {
       "output_type": "stream",
       "stream": "stdout",
       "text": [
        "\n",
        "\n",
        "/begriffe-aus-der-nachrichtensprache-xyz/a-2581763"
       ]
      },
      {
       "output_type": "stream",
       "stream": "stdout",
       "text": [
        "\n",
        "\n",
        "/begriffe-aus-der-nachrichtensprache-xyz/a-2581763\n",
        "\n"
       ]
      }
     ],
     "prompt_number": 136
    },
    {
     "cell_type": "code",
     "collapsed": false,
     "input": [
      "[type(d) for d in all_dicos ]"
     ],
     "language": "python",
     "metadata": {},
     "outputs": [
      {
       "metadata": {},
       "output_type": "pyout",
       "prompt_number": 141,
       "text": [
        "[dict,\n",
        " dict,\n",
        " dict,\n",
        " dict,\n",
        " dict,\n",
        " dict,\n",
        " dict,\n",
        " dict,\n",
        " dict,\n",
        " dict,\n",
        " dict,\n",
        " dict,\n",
        " dict,\n",
        " dict,\n",
        " dict,\n",
        " dict,\n",
        " dict,\n",
        " dict,\n",
        " dict,\n",
        " dict,\n",
        " dict]"
       ]
      }
     ],
     "prompt_number": 141
    },
    {
     "cell_type": "code",
     "collapsed": false,
     "input": [
      "def updateInPlace(a,b):\n",
      "    a.update(b)\n",
      "    return a\n",
      "\n",
      "global_dico = reduce(updateInPlace ,all_dicos)"
     ],
     "language": "python",
     "metadata": {},
     "outputs": [],
     "prompt_number": 146
    },
    {
     "cell_type": "code",
     "collapsed": false,
     "input": [
      "u'(Die SPD und CDU formierten sich, um das Problem gemeinsam zu l\\xf6sen.)'\n",
      "global_dico['sich formieren']=(u' hier: zusammenhalten; zusammenarbeiten', u'(Die SPD und CDU formierten sich, um das Problem gemeinsam zu l\\xf6sen.)')\n"
     ],
     "language": "python",
     "metadata": {},
     "outputs": [],
     "prompt_number": 162
    },
    {
     "cell_type": "code",
     "collapsed": false,
     "input": [
      "global_dico['sich formieren']"
     ],
     "language": "python",
     "metadata": {},
     "outputs": [
      {
       "metadata": {},
       "output_type": "pyout",
       "prompt_number": 163,
       "text": [
        "(u' hier: zusammenhalten; zusammenarbeiten',\n",
        " u'(Die SPD und CDU formierten sich, um das Problem gemeinsam zu l\\xf6sen.)')"
       ]
      }
     ],
     "prompt_number": 163
    },
    {
     "cell_type": "code",
     "collapsed": false,
     "input": [
      "del global_dico[u'(Die SPD und CDU formierten sich, um das Problem gemeinsam zu l\\xf6sen.)']"
     ],
     "language": "python",
     "metadata": {},
     "outputs": [],
     "prompt_number": 165
    },
    {
     "cell_type": "code",
     "collapsed": false,
     "input": [
      "{k for k in global_dico if global_dico[k][1]==u''}"
     ],
     "language": "python",
     "metadata": {},
     "outputs": [
      {
       "metadata": {},
       "output_type": "pyout",
       "prompt_number": 169,
       "text": [
        "{u'Au\\xdferparlamentarische Opposition (APO), die',\n",
        " u'Bundesland, das',\n",
        " u'Bundestag, der',\n",
        " u'Bundesversammlung, die',\n",
        " u'CSU, die',\n",
        " u'Charta, die',\n",
        " u'Gr\\xfcnen, die (Pl.)',\n",
        " u'Hartz IV (sprich: Hartz vier)',\n",
        " u'Union, die*',\n",
        " u'Unternehmen, das'}"
       ]
      }
     ],
     "prompt_number": 169
    },
    {
     "cell_type": "code",
     "collapsed": false,
     "input": [
      "ofile = open('dw_glossar.pkl','wb')\n",
      "pickle.dump(global_dico,ofile)\n",
      "ofile.close()"
     ],
     "language": "python",
     "metadata": {},
     "outputs": [],
     "prompt_number": 170
    },
    {
     "cell_type": "code",
     "collapsed": false,
     "input": [
      "!ls -l"
     ],
     "language": "python",
     "metadata": {},
     "outputs": [
      {
       "output_type": "stream",
       "stream": "stdout",
       "text": [
        "total 14376\r\n",
        "-rw-r--r-- 1 richard richard    34330 mars   7 12:09 A la recherche du temps perdu.ipynb\r\n",
        "-rw-r--r-- 1 richard richard    11964 mars   7 15:32 all_stations.pkl\r\n",
        "-rw-r--r-- 1 richard richard    23843 mars  27 11:04 Berlin Network Map.ipynb\r\n",
        "-rw-r--r-- 1 richard richard    24084 mars  27 13:32 Deutsche Welle Nachrichten.ipynb\r\n",
        "-rw-r--r-- 1 richard richard  3905665 mars  27 09:06 dw_artikel.pkl\r\n",
        "-rw-r--r-- 1 richard richard    80953 mars  27 13:31 dw_glossar.pkl\r\n",
        "-rw-r--r-- 1 richard richard    70332 mars  27 09:06 dw_links.pkl\r\n",
        "-rw-r--r-- 1 richard richard    65860 mars   7 15:39 Email pour Alexandra.ipynb\r\n",
        "-rw-r--r-- 1 richard richard 10466395 mars   7 15:28 shortpathdict.pkl\r\n",
        "-rw-r--r-- 1 richard richard    16684 mars   7 15:38 stations_pos.pkl\r\n"
       ]
      }
     ],
     "prompt_number": 173
    },
    {
     "cell_type": "code",
     "collapsed": false,
     "input": [
      "{global_dico[k] for k in global_dico if u'in die Kritik geraten' in k }"
     ],
     "language": "python",
     "metadata": {},
     "outputs": [
      {
       "metadata": {},
       "output_type": "pyout",
       "prompt_number": 347,
       "text": [
        "{(u'\\xf6ffentlich kritisiert werden',\n",
        "  u'Wegen seiner unh\\xf6flichen Bemerkungen letzte Woche geriet der Politiker bei vielen in die Kritik.')}"
       ]
      }
     ],
     "prompt_number": 347
    },
    {
     "cell_type": "code",
     "collapsed": false,
     "input": [
      "ifile = open('dw_artikel.pkl','rb')\n",
      "dw_artikel = pickle.load(ifile)\n",
      "ifile.close()"
     ],
     "language": "python",
     "metadata": {},
     "outputs": [],
     "prompt_number": 366
    },
    {
     "cell_type": "code",
     "collapsed": false,
     "input": [
      "def splitParagraphIntoSentences(paragraph):\n",
      "    ''' break a paragraph into sentences\n",
      "        and return a list '''\n",
      "    import re\n",
      "    # to split by multile characters\n",
      "\n",
      "    #   regular expressions are easiest (and fastest)\n",
      "    sentenceEnders = re.compile('([.!?])')\n",
      "    sentenceList = sentenceEnders.split(paragraph)\n",
      "    return [ [e for e in re.split(u'([\\s.,;:?!\\n\\t])',''.join(p).strip())[0:-1] if e != u' ' and e != u''] for p in zip(sentenceList[::2][:-1],sentenceList[1::2])]"
     ],
     "language": "python",
     "metadata": {},
     "outputs": [],
     "prompt_number": 342
    },
    {
     "cell_type": "code",
     "collapsed": false,
     "input": [
      "dw_artikel = {k:[splitParagraphIntoSentences(p) for p in dw_artikel[k]] for k in dw_artikel}"
     ],
     "language": "python",
     "metadata": {},
     "outputs": [],
     "prompt_number": 367
    },
    {
     "cell_type": "code",
     "collapsed": false,
     "input": [
      "def testword(s):\n",
      "    if s[0] in keep_followers:\n",
      "        return False\n",
      "    else:\n",
      "        return True\n",
      "\n",
      "dump = ''\n",
      "count = 0\n",
      "links = []\n",
      "followers ={}\n",
      "for k in dw_artikel:\n",
      "    for pidx,p in enumerate(dw_artikel[k]):\n",
      "        prevsidx = None\n",
      "        prev_s = None\n",
      "        for sidx in reversed(range(len(p))):\n",
      "            if sidx > 1:\n",
      "                if len(p[sidx-1]) > 1 and p[sidx-1][-2].isdigit():\n",
      "                    if testword(p[sidx]):\n",
      "                        count = count +1\n",
      "                        if p[sidx][0] in followers:\n",
      "                            followers[p[sidx][0]] += 1\n",
      "                        else:\n",
      "                            followers[p[sidx][0]] = 1\n",
      "                        dump+='%d - %s-%d-%d - %s'%(count, k,pidx,sidx,' '.join(p[sidx-1][:-1]+ ['//'] +p[sidx])+'\\n\\n')\n",
      "                        #p[sidx-1][-2]+=u'.'\n",
      "                        #p[sidx-1] = p[sidx-1][:-1]+ p[sidx]\n",
      "                        #del p[sidx]\n",
      "print count\n",
      "for f in followers:\n",
      "    print f\n",
      "print dump"
     ],
     "language": "python",
     "metadata": {},
     "outputs": [
      {
       "output_type": "stream",
       "stream": "stdout",
       "text": [
        "0\n",
        "\n"
       ]
      }
     ],
     "prompt_number": 468
    },
    {
     "cell_type": "code",
     "collapsed": false,
     "input": [
      "ofile = open('dw_artikel_words.pkl','wb')\n",
      "pickle.dump(dw_artikel,ofile)\n",
      "ofile.close()"
     ],
     "language": "python",
     "metadata": {},
     "outputs": [],
     "prompt_number": 469
    },
    {
     "cell_type": "code",
     "collapsed": false,
     "input": [
      "len(dw_artikel)"
     ],
     "language": "python",
     "metadata": {},
     "outputs": [
      {
       "metadata": {},
       "output_type": "pyout",
       "prompt_number": 480,
       "text": [
        "903"
       ]
      }
     ],
     "prompt_number": 480
    },
    {
     "cell_type": "code",
     "collapsed": false,
     "input": [
      "ofile = open('zahl_nicht_folger.pkl','wb')\n",
      "pickle.dump(keep_followers,ofile)\n",
      "ofile.close()"
     ],
     "language": "python",
     "metadata": {},
     "outputs": [],
     "prompt_number": 465
    },
    {
     "cell_type": "code",
     "collapsed": false,
     "input": [
      "keep_followers = {\n",
      " u'Afghanistan': 1,\n",
      " u'Allein': 1,\n",
      " u'Andere': 1,\n",
      " u'Anderthalb': 1,\n",
      " u'Angesichts': 2,\n",
      " u'Auch': 5,\n",
      " u'Auf': 2,\n",
      " u'Au\\xdferdem': 2,\n",
      " u'Bayer': 3,\n",
      " u'Bei': 4,\n",
      " u'Besser': 1,\n",
      " u'Bilbao': 1,\n",
      " u'Bisher': 1,\n",
      " u'Bundesweit': 1,\n",
      " u'Cameron': 1,\n",
      " u'Da': 1,\n",
      " u'Damals': 1,\n",
      " u'Damit': 2,\n",
      " u'Danach': 1,\n",
      " u'Das': 10,\n",
      " u'Dazu': 1,\n",
      " u'Der': 8,\n",
      " u'Derzeit': 1,\n",
      " u'Deutschland': 2,\n",
      " u'Die': 16,\n",
      " u'Dies': 1,\n",
      " u'Diese': 1,\n",
      " u'Dieser': 1,\n",
      " u'Doch': 1,\n",
      " u'Ein': 1,\n",
      " u'Eine': 1,\n",
      " u'Er': 2,\n",
      " u'Es': 1,\n",
      " u'Etwa': 1,\n",
      " u'FC': 3,\n",
      " u'Falls': 1,\n",
      " u'F\\xfcr': 4,\n",
      " u'Grund': 1,\n",
      " u'Hannover': 1,\n",
      " u'Hier': 2,\n",
      " u'Im': 4,\n",
      " u'In': 4,\n",
      " u'Jakub': 1,\n",
      " u'Kernpunkte': 1,\n",
      " u'Kundgebungen': 1,\n",
      " u'Kurz': 1,\n",
      " u'Lugo': 1,\n",
      " u'Lukas': 1,\n",
      " u'Mehr': 1,\n",
      " u'Mit': 2,\n",
      " u'M\\xf6glicherweise': 1,\n",
      " u'M\\xf6nchengladbach': 1,\n",
      " u'Nach': 4,\n",
      " u'Ohne': 2,\n",
      " u'Pflichtspielsieg': 1,\n",
      " u'Sch\\xe4tzungen': 1,\n",
      " u'Seine': 1,\n",
      " u'Selbstverbrennung': 1,\n",
      " u'Sicherheitsbeh\\xf6rden': 1,\n",
      " u'Sollte': 1,\n",
      " u'Somalia': 1,\n",
      " u'Timo': 1,\n",
      " u'Trainer': 1,\n",
      " u'UN-Generalsekret\\xe4r': 1,\n",
      " u'US-Flotte': 1,\n",
      " u'US-Pr\\xe4sident': 1,\n",
      " u'Um': 1,\n",
      " u'Weihnachtsfeiertag': 1,\n",
      " u'Westerwelle': 1,\n",
      " u'Zu': 2,\n",
      " u'Zugleich': 1,\n",
      " u'Zuvor': 1,\n",
      " u'\\u2013': 1}"
     ],
     "language": "python",
     "metadata": {},
     "outputs": [],
     "prompt_number": 462
    },
    {
     "cell_type": "code",
     "collapsed": false,
     "input": [
      "import operator\n",
      "count = 0\n",
      "pattern =  re.compile(u'^er')\n",
      "\n",
      "dico = {}\n",
      "\n",
      "for k in dw_artikel:\n",
      "    for p in dw_artikel[k]:\n",
      "        for s in p:\n",
      "            for widx, w in enumerate(s):\n",
      "                if w in dico:\n",
      "                    dico[w]+=1\n",
      "                else:\n",
      "                    dico[w]=1\n",
      "        \n",
      "corpus = tuple(reversed([(k[0],k[1]) for k in sorted(dico.items(), key=operator.itemgetter(1))]))\n",
      "len(corpus)"
     ],
     "language": "python",
     "metadata": {},
     "outputs": [
      {
       "metadata": {},
       "output_type": "pyout",
       "prompt_number": 709,
       "text": [
        "43381"
       ]
      }
     ],
     "prompt_number": 709
    },
    {
     "cell_type": "code",
     "collapsed": false,
     "input": [
      "# -*- coding: utf-8 -*- \n",
      "\n",
      "import matplotlib.pyplot as plt\n",
      "import numpy as np\n",
      "\n",
      "from matplotlib import rcParams\n",
      "rcParams['text.latex.unicode']=True\n",
      "\n",
      "f, ax = plt.subplots(figsize=(12,6))\n",
      "freq = [f for (w,f) in corpus]\n",
      "ax.plot(log(freq[:])/log(2))"
     ],
     "language": "python",
     "metadata": {},
     "outputs": [
      {
       "metadata": {},
       "output_type": "pyout",
       "prompt_number": 723,
       "text": [
        "[<matplotlib.lines.Line2D at 0xa6ede10>]"
       ]
      },
      {
       "metadata": {},
       "output_type": "display_data",
       "png": "[encoded data removed]",
       "text": [
        "<matplotlib.figure.Figure at 0xa6f6190>"
       ]
      }
     ],
     "prompt_number": 723
    }
   ],
   "metadata": {}
  }
 ]
}