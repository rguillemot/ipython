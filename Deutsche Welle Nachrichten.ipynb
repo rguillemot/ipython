{
 "metadata": {
  "name": ""
 },
 "nbformat": 3,
 "nbformat_minor": 0,
 "worksheets": [
  {
   "cells": [
    {
     "cell_type": "code",
     "collapsed": false,
     "input": [
      "import urllib2\n",
      "from bs4 import BeautifulSoup"
     ],
     "language": "python",
     "metadata": {},
     "outputs": [],
     "prompt_number": 1
    },
    {
     "cell_type": "code",
     "collapsed": false,
     "input": [
      "import pickle"
     ],
     "language": "python",
     "metadata": {},
     "outputs": [],
     "prompt_number": 2
    },
    {
     "cell_type": "code",
     "collapsed": false,
     "input": [
      "ifile = open('dw_links.pkl','rb')\n",
      "links = pickle.load(ifile)\n",
      "ifile.close()"
     ],
     "language": "python",
     "metadata": {},
     "outputs": [],
     "prompt_number": 3
    },
    {
     "cell_type": "code",
     "collapsed": false,
     "input": [
      "len(links)"
     ],
     "language": "python",
     "metadata": {},
     "outputs": [
      {
       "metadata": {},
       "output_type": "pyout",
       "prompt_number": 4,
       "text": [
        "903"
       ]
      }
     ],
     "prompt_number": 4
    },
    {
     "cell_type": "code",
     "collapsed": false,
     "input": [
      "def Nachricht_text(href):\n",
      "    html = urllib2.urlopen(href)\n",
      "    soup = BeautifulSoup(html)\n",
      "    longText = soup.find(\"div\",{\"class\":\"longText\"})\n",
      "    paragraphs = [p.text for p in longText.find_all(\"p\") if p.text != u'\\n***']\n",
      "    return paragraphs\n"
     ],
     "language": "python",
     "metadata": {},
     "outputs": [],
     "prompt_number": 5
    },
    {
     "cell_type": "code",
     "collapsed": false,
     "input": [
      "Nachricht_text(links[0])"
     ],
     "language": "python",
     "metadata": {},
     "outputs": [
      {
       "metadata": {},
       "output_type": "pyout",
       "prompt_number": 6,
       "text": [
        "[u'\\nDie EU versucht, Russland in der Ukraine-Krise durch weitere Strafma\\xdfnahmen an den Verhandlungstisch zu bringen. Die EU-Staats- und Regierungschefs beschlossen auf ihrem Krisengipfel in Br\\xfcssel, gegen weitere zw\\xf6lf Personen Einreiseverbote und Kontensperrungen zu verh\\xe4ngen. Es soll sich um hochrangige Offizielle von der Krim und Russland handeln, die ma\\xdfgeblich zur nach EU-Sicht v\\xf6lkerrechtswidrigen Annektion der Halbinsel durch Russland beigetragen haben. Die Namen sollen im Laufe des Tages bekanntgegeben werden. Au\\xdferdem sagte die EU den f\\xfcr Juni geplanten Gipfel mit Russland ab. Zudem soll an diesem Freitag der erste Teil des Assoziierungsabkommens mit der Ukraine unterzeichnet werden. Damit bindet die EU Kiew fester an den Westen. Russlands Parlamentschef Sergej Naryschkin warf dem Westen \"grobe Einmischung\" in die inneren Belange der Ukraine vor. Er sei \\xfcberzeugt, dass die EU und die USA das strategische Gleichgewicht in der Welt auf kritische Weise ersch\\xfctterten, sagte Naryschkin laut Agentur Interfax in einer Parlamentsdebatte.',\n",
        " u'\\nDie Strafma\\xdfnahmen von EU und USA gegen Russland zeigen erste Wirkungen. Nach der Ratingagentur Standard & Poor\\'s stufte auch Konkurrent Fitch Russland herunter. Angesichts der Spannungen zwischen Moskau und dem Westen aufgrund der Krim-Krise teilte Fitch mit, die wirtschaftlichen Aussichten Russlands w\\xfcrden von stabil auf negativ herabgesetzt. Dieser Schritt ber\\xfccksichtige die Auswirkungen m\\xf6glicher Sanktionen, hie\\xdf es in einer Erkl\\xe4rung der US-Ratingagentur. Standard & Poor\\'s verwies auf die \"geopolitischen Risiken\", die Investitionen aufhalten und eine Kapitalflucht zur Folge haben k\\xf6nnten. Die B\\xf6rse in Moskau \\xf6ffnete mit rund drei Prozent im Minus.',\n",
        " u'\\nDer Kurznachrichtendienst Twitter ist in der T\\xfcrkei blockiert worden. Nutzer bekamen am fr\\xfchen Freitagmorgen beim Aufruf der entsprechenden Internetseite eine Nachricht der t\\xfcrkischen Telekommunikationsbeh\\xf6rde zu sehen, in der zur Begr\\xfcndung der Sperrung Gerichtsentscheidungen zitiert wurden. Die staatliche Nachrichtenagentur Anatolia berichtete, die Beh\\xf6rde habe Twitter blockiert, weil der Kurznachrichtendienst Anordnungen t\\xfcrkischer Gerichte ignoriert habe, bestimmte Links zu entfernen. Nur Stunden zuvor hatte der t\\xfcrkische Ministerpr\\xe4sident Recep Tayyip Erdogan die Sperrung angedroht. Erdogan war in den vergangenen Wochen durch Internet-Enth\\xfcllungen politisch unter Druck geraten und hatte deshalb angek\\xfcndigt, nach der Kommunalwahl Ende des Monats gegen soziale Medien vorzugehen. Diese werden von seinen politischen Gegnern stark genutzt. Die f\\xfcr Digital-Politik zust\\xe4ndige EU-Kommissarin Neelie Kroes kritisierte die Sperrung auf ihrem Twitteraccount als Zensur.',\n",
        " u'\\nDas oberste Gericht Thailands hat die Parlamentswahl vom 2. Februar f\\xfcr ung\\xfcltig erkl\\xe4rt. Die Entscheidung wurde damit begr\\xfcndet, dass die Wahl gegen die Verfassung versto\\xdfen habe, da nicht in allen Bezirken gleichzeitig abgestimmt worden sei. Die Opposition hatte die Wahl boykottiert. Regierungskritische Demonstranten hatten tausende Wahllokale blockiert, mehrere Millionen Menschen konnten ihre Stimme nicht abgeben. Die Gegner von Ministerpr\\xe4sidentin Yingluck Shinawatra fordern die Einsetzung eines Expertenrats, der eine Reihe von Reformen durchsetzen soll.',\n",
        " u'\\nBei einem Angriff auf ein Luxushotel in der afghanischen Hauptstadt Kabul sind mindestens zw\\xf6lf Menschen get\\xf6tet worden, darunter die vier minderj\\xe4hrigen Angreifer. Der \\xdcberfall, zu dem sich die radikalislamischen Taliban bekannten, richtete sich gegen das Hotel Serena. Ein Sprecher des Innenministeriums sagte, unter den Get\\xf6teten seien drei Frauen und zwei Kinder. Die vier Angreifer seien von afghanischen Sicherheitskr\\xe4ften erschossen worden. Eines der Opfer war ein Ex-Diplomat aus Paraguay, der sich als Wahlbeobachter f\\xfcr die Pr\\xe4sidentenwahl in Afghanistan zur Verf\\xfcgung gestellt hatte.',\n",
        " u'\\nDie EU-L\\xe4nder haben sich darauf geeinigt, das EU-Zinssteuergesetz zu versch\\xe4rfen. Nach 15-j\\xe4hrigen Verhandlungen machte Luxemburg den Weg frei f\\xfcr die Neuregelung, mit der das Bankgeheimnis f\\xfcr Ausl\\xe4nder in der EU quasi aufgehoben wird. Ziel ist es, den Informationsaustausch zwischen den Steuerbeh\\xf6rden der EU-L\\xe4nder zu verbessern, um grenz\\xfcberschreitende Steuerflucht zu bek\\xe4mpfen. Bundeskanzlerin Angela Merkel sagte, in der Frage der Steuergerechtigkeit komme die EU nun erheblich voran. Das reformierte Gesetz soll bereits in der kommenden Woche vom EU-Ministerrat f\\xf6rmlich verabschiedet werden.']"
       ]
      }
     ],
     "prompt_number": 6
    },
    {
     "cell_type": "code",
     "collapsed": false,
     "input": [
      "import threading\n",
      "import Queue\n",
      "import time"
     ],
     "language": "python",
     "metadata": {},
     "outputs": [],
     "prompt_number": 8
    },
    {
     "cell_type": "code",
     "collapsed": false,
     "input": [
      "class ThreadLoad(threading.Thread):\n",
      "        def __init__(self, queue, dico, log):\n",
      "                threading.Thread.__init__(self)\n",
      "                self.queue = queue\n",
      "                self.dico = dico\n",
      "                self.log = log\n",
      "\n",
      "        def run(self):\n",
      "              while True:\n",
      "\n",
      "                url = self.queue.get()\n",
      "                self.log += ['{} get {}'.format(self.getName(),url[17:25])]\n",
      "\n",
      "                text = Nachricht_text(url)\n",
      "                self.dico.update({url[17:25] : text})"
     ],
     "language": "python",
     "metadata": {},
     "outputs": [],
     "prompt_number": 9
    },
    {
     "cell_type": "code",
     "collapsed": false,
     "input": [
      "taskQueue = Queue.Queue()\n",
      "dico = {}\n",
      "log = []\n",
      "for n in range(20):\n",
      "    t = ThreadLoad(taskQueue,dico,log)\n",
      "    t.setDaemon(True)\n",
      "    t.start()"
     ],
     "language": "python",
     "metadata": {},
     "outputs": [],
     "prompt_number": 10
    },
    {
     "cell_type": "code",
     "collapsed": false,
     "input": [
      "for n in range (len(links)):\n",
      "    taskQueue.put(links[n])"
     ],
     "language": "python",
     "metadata": {},
     "outputs": [],
     "prompt_number": 11
    },
    {
     "cell_type": "code",
     "collapsed": false,
     "input": [
      "(len(log),len(dico))"
     ],
     "language": "python",
     "metadata": {},
     "outputs": [
      {
       "metadata": {},
       "output_type": "pyout",
       "prompt_number": 96,
       "text": [
        "(903, 903)"
       ]
      }
     ],
     "prompt_number": 96
    },
    {
     "cell_type": "code",
     "collapsed": false,
     "input": [
      "log[-1]"
     ],
     "language": "python",
     "metadata": {},
     "outputs": [
      {
       "metadata": {},
       "output_type": "pyout",
       "prompt_number": 53,
       "text": [
        "'Thread-6 get 01042012'"
       ]
      }
     ],
     "prompt_number": 53
    },
    {
     "cell_type": "code",
     "collapsed": false,
     "input": [
      "for s in dico[u'21032014']:\n",
      "    print s"
     ],
     "language": "python",
     "metadata": {},
     "outputs": [
      {
       "output_type": "stream",
       "stream": "stdout",
       "text": [
        "\n",
        "Die EU versucht, Russland in der Ukraine-Krise durch weitere Strafma\u00dfnahmen an den Verhandlungstisch zu bringen. Die EU-Staats- und Regierungschefs beschlossen auf ihrem Krisengipfel in Br\u00fcssel, gegen weitere zw\u00f6lf Personen Einreiseverbote und Kontensperrungen zu verh\u00e4ngen. Es soll sich um hochrangige Offizielle von der Krim und Russland handeln, die ma\u00dfgeblich zur nach EU-Sicht v\u00f6lkerrechtswidrigen Annektion der Halbinsel durch Russland beigetragen haben. Die Namen sollen im Laufe des Tages bekanntgegeben werden. Au\u00dferdem sagte die EU den f\u00fcr Juni geplanten Gipfel mit Russland ab. Zudem soll an diesem Freitag der erste Teil des Assoziierungsabkommens mit der Ukraine unterzeichnet werden. Damit bindet die EU Kiew fester an den Westen. Russlands Parlamentschef Sergej Naryschkin warf dem Westen \"grobe Einmischung\" in die inneren Belange der Ukraine vor. Er sei \u00fcberzeugt, dass die EU und die USA das strategische Gleichgewicht in der Welt auf kritische Weise ersch\u00fctterten, sagte Naryschkin laut Agentur Interfax in einer Parlamentsdebatte.\n",
        "\n",
        "Die Strafma\u00dfnahmen von EU und USA gegen Russland zeigen erste Wirkungen. Nach der Ratingagentur Standard & Poor's stufte auch Konkurrent Fitch Russland herunter. Angesichts der Spannungen zwischen Moskau und dem Westen aufgrund der Krim-Krise teilte Fitch mit, die wirtschaftlichen Aussichten Russlands w\u00fcrden von stabil auf negativ herabgesetzt. Dieser Schritt ber\u00fccksichtige die Auswirkungen m\u00f6glicher Sanktionen, hie\u00df es in einer Erkl\u00e4rung der US-Ratingagentur. Standard & Poor's verwies auf die \"geopolitischen Risiken\", die Investitionen aufhalten und eine Kapitalflucht zur Folge haben k\u00f6nnten. Die B\u00f6rse in Moskau \u00f6ffnete mit rund drei Prozent im Minus.\n",
        "\n",
        "Der Kurznachrichtendienst Twitter ist in der T\u00fcrkei blockiert worden. Nutzer bekamen am fr\u00fchen Freitagmorgen beim Aufruf der entsprechenden Internetseite eine Nachricht der t\u00fcrkischen Telekommunikationsbeh\u00f6rde zu sehen, in der zur Begr\u00fcndung der Sperrung Gerichtsentscheidungen zitiert wurden. Die staatliche Nachrichtenagentur Anatolia berichtete, die Beh\u00f6rde habe Twitter blockiert, weil der Kurznachrichtendienst Anordnungen t\u00fcrkischer Gerichte ignoriert habe, bestimmte Links zu entfernen. Nur Stunden zuvor hatte der t\u00fcrkische Ministerpr\u00e4sident Recep Tayyip Erdogan die Sperrung angedroht. Erdogan war in den vergangenen Wochen durch Internet-Enth\u00fcllungen politisch unter Druck geraten und hatte deshalb angek\u00fcndigt, nach der Kommunalwahl Ende des Monats gegen soziale Medien vorzugehen. Diese werden von seinen politischen Gegnern stark genutzt. Die f\u00fcr Digital-Politik zust\u00e4ndige EU-Kommissarin Neelie Kroes kritisierte die Sperrung auf ihrem Twitteraccount als Zensur.\n",
        "\n",
        "Das oberste Gericht Thailands hat die Parlamentswahl vom 2. Februar f\u00fcr ung\u00fcltig erkl\u00e4rt. Die Entscheidung wurde damit begr\u00fcndet, dass die Wahl gegen die Verfassung versto\u00dfen habe, da nicht in allen Bezirken gleichzeitig abgestimmt worden sei. Die Opposition hatte die Wahl boykottiert. Regierungskritische Demonstranten hatten tausende Wahllokale blockiert, mehrere Millionen Menschen konnten ihre Stimme nicht abgeben. Die Gegner von Ministerpr\u00e4sidentin Yingluck Shinawatra fordern die Einsetzung eines Expertenrats, der eine Reihe von Reformen durchsetzen soll.\n",
        "\n",
        "Bei einem Angriff auf ein Luxushotel in der afghanischen Hauptstadt Kabul sind mindestens zw\u00f6lf Menschen get\u00f6tet worden, darunter die vier minderj\u00e4hrigen Angreifer. Der \u00dcberfall, zu dem sich die radikalislamischen Taliban bekannten, richtete sich gegen das Hotel Serena. Ein Sprecher des Innenministeriums sagte, unter den Get\u00f6teten seien drei Frauen und zwei Kinder. Die vier Angreifer seien von afghanischen Sicherheitskr\u00e4ften erschossen worden. Eines der Opfer war ein Ex-Diplomat aus Paraguay, der sich als Wahlbeobachter f\u00fcr die Pr\u00e4sidentenwahl in Afghanistan zur Verf\u00fcgung gestellt hatte.\n",
        "\n",
        "Die EU-L\u00e4nder haben sich darauf geeinigt, das EU-Zinssteuergesetz zu versch\u00e4rfen. Nach 15-j\u00e4hrigen Verhandlungen machte Luxemburg den Weg frei f\u00fcr die Neuregelung, mit der das Bankgeheimnis f\u00fcr Ausl\u00e4nder in der EU quasi aufgehoben wird. Ziel ist es, den Informationsaustausch zwischen den Steuerbeh\u00f6rden der EU-L\u00e4nder zu verbessern, um grenz\u00fcberschreitende Steuerflucht zu bek\u00e4mpfen. Bundeskanzlerin Angela Merkel sagte, in der Frage der Steuergerechtigkeit komme die EU nun erheblich voran. Das reformierte Gesetz soll bereits in der kommenden Woche vom EU-Ministerrat f\u00f6rmlich verabschiedet werden.\n"
       ]
      }
     ],
     "prompt_number": 47
    },
    {
     "cell_type": "code",
     "collapsed": false,
     "input": [
      "ofile = open('dw_artikel.pkl','wb')\n",
      "pickle.dump(dico,ofile)\n",
      "ofile.close()"
     ],
     "language": "python",
     "metadata": {},
     "outputs": [],
     "prompt_number": 97
    },
    {
     "cell_type": "code",
     "collapsed": false,
     "input": [
      "count = 0\n",
      "for elt in dico:\n",
      "    for s in dico[elt]:\n",
      "        count += len(s)\n",
      "countofile = open('dw_artikel.pkl','wb')\n",
      "pickle.dump(dico,ofile)\n",
      "ofile.close()"
     ],
     "language": "python",
     "metadata": {},
     "outputs": [
      {
       "metadata": {},
       "output_type": "pyout",
       "prompt_number": 104,
       "text": [
        "3805638"
       ]
      }
     ],
     "prompt_number": 104
    },
    {
     "cell_type": "code",
     "collapsed": false,
     "input": [
      "def splitParagraphIntoSentences(paragraph):\n",
      "    ''' break a paragraph into sentences\n",
      "        and return a list '''\n",
      "    import re\n",
      "    # to split by multile characters\n",
      "\n",
      "    #   regular expressions are easiest (and fastest)\n",
      "    sentenceEnders = re.compile('[.!?]')\n",
      "    sentenceList = sentenceEnders.split(paragraph)\n",
      "    return sentenceList"
     ],
     "language": "python",
     "metadata": {},
     "outputs": [],
     "prompt_number": 105
    },
    {
     "cell_type": "code",
     "collapsed": false,
     "input": [
      "splitParagraphIntoSentences(dico['20032014'][1])"
     ],
     "language": "python",
     "metadata": {},
     "outputs": [
      {
       "metadata": {},
       "output_type": "pyout",
       "prompt_number": 109,
       "text": [
        "[u'\\nRussische Truppen haben am Mittwochabend die Kontrolle \\xfcber einen weiteren St\\xfctzpunkt der ukrainischen Marine auf der Halbinsel Krim \\xfcbernommen',\n",
        " u' Der Vorfall ereignete sich rund 30 Kilometer s\\xfcdwestlich von Simferopol',\n",
        " u' Zuvor hatten sich russische Kr\\xe4fte bereits die Kontrolle \\xfcber den ukrainischen Flottenst\\xfctzpunkt in Sewastopol gesichert',\n",
        " u' Dabei wurde der ukrainische Marinechef Sergej Gajduk von prorussischen Milizen festgenommen',\n",
        " u' Sowohl Moskau als auch Kiew forderten die handelnden Kr\\xe4fte auf der Krim auf, den Mann wieder freizulassen',\n",
        " u' Die ukrainische F\\xfchrung k\\xfcndigte den R\\xfcckzug des eigenen Milit\\xe4rs auf das Festland an',\n",
        " u' Moskau will den international nicht anerkannten Anschluss der Krim an Russland bis zum Wochenende vollziehen',\n",
        " u'']"
       ]
      }
     ],
     "prompt_number": 109
    },
    {
     "cell_type": "code",
     "collapsed": false,
     "input": [
      "import re\n",
      "html = urllib2.urlopen('http://www.dw.de/deutsch-lernen/glossar/s-9151')\n",
      "soup = BeautifulSoup(html)\n",
      "links = soup.findAll('a', href=re.compile('^/begriffe-aus-der-nachrichtensprache'))\n",
      "glossar = [l['href'] for l in links]"
     ],
     "language": "python",
     "metadata": {},
     "outputs": [],
     "prompt_number": 112
    },
    {
     "cell_type": "code",
     "collapsed": false,
     "input": [
      "def get_glossar(href):\n",
      "    html = urllib2.urlopen('http://www.dw.de'+href)\n",
      "    soup = BeautifulSoup(html)\n",
      "    longText = soup.find(\"div\",{\"class\":\"longText\"})\n",
      "    paragraphs = [p for p in longText.find_all(\"p\") if p.text != u'\\n***']\n",
      "    dico = {}\n",
      "    for p in paragraphs:\n",
      "        name = p.children[0].text\n",
      "        definition = p.children[1].text\n",
      "        example = p.children[2].text\n",
      "        dico.update({name:(definition,example)})\n",
      "    return dico"
     ],
     "language": "python",
     "metadata": {},
     "outputs": [],
     "prompt_number": 202
    },
    {
     "cell_type": "code",
     "collapsed": false,
     "input": [
      "get_glossar(glossar[0])"
     ],
     "language": "python",
     "metadata": {},
     "outputs": [
      {
       "ename": "TypeError",
       "evalue": "'listiterator' object has no attribute '__getitem__'",
       "output_type": "pyerr",
       "traceback": [
        "\u001b[1;31m---------------------------------------------------------------------------\u001b[0m\n\u001b[1;31mTypeError\u001b[0m                                 Traceback (most recent call last)",
        "\u001b[1;32m<ipython-input-203-e4ef57f6646e>\u001b[0m in \u001b[0;36m<module>\u001b[1;34m()\u001b[0m\n\u001b[1;32m----> 1\u001b[1;33m \u001b[0mget_glossar\u001b[0m\u001b[1;33m(\u001b[0m\u001b[0mglossar\u001b[0m\u001b[1;33m[\u001b[0m\u001b[1;36m0\u001b[0m\u001b[1;33m]\u001b[0m\u001b[1;33m)\u001b[0m\u001b[1;33m\u001b[0m\u001b[0m\n\u001b[0m",
        "\u001b[1;32m<ipython-input-202-7a8df6870005>\u001b[0m in \u001b[0;36mget_glossar\u001b[1;34m(href)\u001b[0m\n\u001b[0;32m      6\u001b[0m     \u001b[0mdico\u001b[0m \u001b[1;33m=\u001b[0m \u001b[1;33m{\u001b[0m\u001b[1;33m}\u001b[0m\u001b[1;33m\u001b[0m\u001b[0m\n\u001b[0;32m      7\u001b[0m     \u001b[1;32mfor\u001b[0m \u001b[0mp\u001b[0m \u001b[1;32min\u001b[0m \u001b[0mparagraphs\u001b[0m\u001b[1;33m:\u001b[0m\u001b[1;33m\u001b[0m\u001b[0m\n\u001b[1;32m----> 8\u001b[1;33m         \u001b[0mname\u001b[0m \u001b[1;33m=\u001b[0m \u001b[0mp\u001b[0m\u001b[1;33m.\u001b[0m\u001b[0mchildren\u001b[0m\u001b[1;33m[\u001b[0m\u001b[1;36m0\u001b[0m\u001b[1;33m]\u001b[0m\u001b[1;33m.\u001b[0m\u001b[0mtext\u001b[0m\u001b[1;33m\u001b[0m\u001b[0m\n\u001b[0m\u001b[0;32m      9\u001b[0m         \u001b[0mdefinition\u001b[0m \u001b[1;33m=\u001b[0m \u001b[0mp\u001b[0m\u001b[1;33m.\u001b[0m\u001b[0mchildren\u001b[0m\u001b[1;33m[\u001b[0m\u001b[1;36m1\u001b[0m\u001b[1;33m]\u001b[0m\u001b[1;33m.\u001b[0m\u001b[0mtext\u001b[0m\u001b[1;33m\u001b[0m\u001b[0m\n\u001b[0;32m     10\u001b[0m         \u001b[0mexample\u001b[0m \u001b[1;33m=\u001b[0m \u001b[0mp\u001b[0m\u001b[1;33m.\u001b[0m\u001b[0mchildren\u001b[0m\u001b[1;33m[\u001b[0m\u001b[1;36m2\u001b[0m\u001b[1;33m]\u001b[0m\u001b[1;33m.\u001b[0m\u001b[0mtext\u001b[0m\u001b[1;33m\u001b[0m\u001b[0m\n",
        "\u001b[1;31mTypeError\u001b[0m: 'listiterator' object has no attribute '__getitem__'"
       ]
      }
     ],
     "prompt_number": 203
    },
    {
     "cell_type": "code",
     "collapsed": false,
     "input": [
      "re.search('\\((.*?)\\)', test).group(1)"
     ],
     "language": "python",
     "metadata": {},
     "outputs": [
      {
       "metadata": {},
       "output_type": "pyout",
       "prompt_number": 130,
       "text": [
        "u'In der Finanzkrise m\\xfcssen viele Unternehmen zahlreiche Arbeitspl\\xe4tze abbauen.'"
       ]
      }
     ],
     "prompt_number": 130
    }
   ],
   "metadata": {}
  }
 ]
}